{
 "cells": [
  {
   "cell_type": "markdown",
   "metadata": {},
   "source": [
    "# Tarea 1 - Taller de Deep Learning\n",
    "\n",
    "**Fecha de entrega: 19/10/2025**  "
   ]
  },
  {
   "cell_type": "code",
   "execution_count": 1,
   "metadata": {},
   "outputs": [],
   "source": [
    "import torchvision.datasets as datasets\n",
    "from pathlib import Path\n",
    "import torch\n",
    "import torch.nn as nn\n",
    "from torchvision.transforms import v2 as T\n",
    "from torch.utils.data import DataLoader, random_split\n",
    "import utils\n",
    "import sys\n",
    "import torch.optim as optim\n"
   ]
  },
  {
   "cell_type": "markdown",
   "metadata": {},
   "source": [
    "la ki\n",
    "cb879b8473582418585ac8a9fcb1e1695ebcdf97"
   ]
  },
  {
   "cell_type": "code",
   "execution_count": 2,
   "metadata": {},
   "outputs": [],
   "source": [
    "import wandb"
   ]
  },
  {
   "cell_type": "code",
   "execution_count": 3,
   "metadata": {},
   "outputs": [
    {
     "name": "stderr",
     "output_type": "stream",
     "text": [
      "\u001b[34m\u001b[1mwandb\u001b[0m: Currently logged in as: \u001b[33mjoacoguerrae\u001b[0m (\u001b[33mjoacoguerrae-ort\u001b[0m) to \u001b[32mhttps://api.wandb.ai\u001b[0m. Use \u001b[1m`wandb login --relogin`\u001b[0m to force relogin\n"
     ]
    },
    {
     "data": {
      "text/plain": [
       "True"
      ]
     },
     "execution_count": 3,
     "metadata": {},
     "output_type": "execute_result"
    }
   ],
   "source": [
    "WANDB_TEAM_NAME = \"[joacoguerrae-ort]\"\n",
    "WANDB_PROJECT = \"[wandb-labo1-guerra-sanes]\"\n",
    "wandb.login()"
   ]
  },
  {
   "cell_type": "code",
   "execution_count": 4,
   "metadata": {},
   "outputs": [
    {
     "name": "stdout",
     "output_type": "stream",
     "text": [
      "Usando cuda\n",
      "Usando 4\n"
     ]
    }
   ],
   "source": [
    "DEVICE = \"cpu\"  # por defecto, usamos la CPU\n",
    "if torch.cuda.is_available():\n",
    "    DEVICE = \"cuda\"  # si hay GPU, usamos la GPU\n",
    "elif torch.backends.mps.is_available():\n",
    "    DEVICE = \"mps\"  # si no hay GPU, pero hay MPS, usamos MPS\n",
    "elif torch.xpu.is_available():\n",
    "    DEVICE = \"xpu\"  # si no hay GPU, pero hay XPU, usamos XPU\n",
    "\n",
    "print(f\"Usando {DEVICE}\")\n",
    "\n",
    "NUM_WORKERS = 0 # Win y MacOS pueden tener problemas con múltiples workers\n",
    "if sys.platform == 'linux':\n",
    "    NUM_WORKERS = 4  # numero de workers para cargar los datos (depende de cada caso)\n",
    "\n",
    "print(f\"Usando {NUM_WORKERS}\")"
   ]
  },
  {
   "cell_type": "code",
   "execution_count": 5,
   "metadata": {},
   "outputs": [],
   "source": [
    "DATA_DIR = Path(\"data\")\n",
    "\n",
    "\n",
    "\n",
    "imagenette_dataset = datasets.Imagenette(\n",
    "    DATA_DIR, download=False\n",
    ")\n",
    "\n",
    "transforms = T.Compose([\n",
    "    T.ToImage(),\n",
    "    T.Grayscale(),\n",
    "    T.ToDtype(torch.float32, scale=True),\n",
    "    T.Resize((224, 224))\n",
    "\n",
    "])\n",
    "\n",
    "imagenette_dataset_train = datasets.Imagenette(\n",
    "    DATA_DIR, download=False,split = 'train', transform=transforms\n",
    ")\n",
    "\n",
    "imagenette_dataset_val = datasets.Imagenette(\n",
    "    DATA_DIR, download=False,split = 'val', transform=transforms\n",
    ")\n",
    "\n",
    "name_classes = imagenette_dataset.classes\n",
    "nclasses = len(name_classes)\n"
   ]
  },
  {
   "cell_type": "code",
   "execution_count": 6,
   "metadata": {},
   "outputs": [],
   "source": [
    "imagenette_dataset_train, imagenette_dataset_test = random_split(\n",
    "    imagenette_dataset_train, [0.8, 0.2]\n",
    ")"
   ]
  },
  {
   "cell_type": "code",
   "execution_count": 7,
   "metadata": {},
   "outputs": [],
   "source": [
    "BATCH_SIZE = 128  # tamaño del batch\n",
    "def get_dataloaders(batch_size=BATCH_SIZE, num_workers=NUM_WORKERS):\n",
    "    train_loader = DataLoader(\n",
    "        imagenette_dataset_train,\n",
    "        batch_size=batch_size,\n",
    "        shuffle=True,\n",
    "        num_workers=num_workers,\n",
    "    )\n",
    "\n",
    "    val_loader = DataLoader(\n",
    "        imagenette_dataset_val,\n",
    "        batch_size=batch_size,\n",
    "        shuffle=False,\n",
    "        num_workers=num_workers,\n",
    "    )\n",
    "\n",
    "    test_loader = DataLoader(\n",
    "        imagenette_dataset_test,\n",
    "        batch_size=batch_size,\n",
    "        shuffle=False,\n",
    "        num_workers=num_workers,\n",
    "    )\n",
    "\n",
    "    return train_loader, val_loader, test_loader\n",
    "\n",
    "\n",
    "train_loader, val_loader, test_loader = get_dataloaders()"
   ]
  },
  {
   "cell_type": "code",
   "execution_count": 8,
   "metadata": {},
   "outputs": [
    {
     "name": "stdout",
     "output_type": "stream",
     "text": [
      "RegularizedCNN(\n",
      "  (conv): Sequential(\n",
      "    (0): Conv2d(1, 32, kernel_size=(3, 3), stride=(1, 1), padding=(1, 1))\n",
      "    (1): BatchNorm2d(32, eps=1e-05, momentum=0.1, affine=True, track_running_stats=True)\n",
      "    (2): ReLU(inplace=True)\n",
      "    (3): MaxPool2d(kernel_size=2, stride=2, padding=0, dilation=1, ceil_mode=False)\n",
      "    (4): Dropout2d(p=0.1, inplace=False)\n",
      "    (5): Conv2d(32, 32, kernel_size=(3, 3), stride=(1, 1), padding=(1, 1))\n",
      "    (6): BatchNorm2d(32, eps=1e-05, momentum=0.1, affine=True, track_running_stats=True)\n",
      "    (7): ReLU(inplace=True)\n",
      "    (8): MaxPool2d(kernel_size=2, stride=2, padding=0, dilation=1, ceil_mode=False)\n",
      "    (9): Dropout2d(p=0.2, inplace=False)\n",
      "    (10): Conv2d(32, 64, kernel_size=(3, 3), stride=(1, 1), padding=(1, 1))\n",
      "    (11): BatchNorm2d(64, eps=1e-05, momentum=0.1, affine=True, track_running_stats=True)\n",
      "    (12): ReLU(inplace=True)\n",
      "    (13): MaxPool2d(kernel_size=2, stride=2, padding=0, dilation=1, ceil_mode=False)\n",
      "    (14): Dropout2d(p=0.25, inplace=False)\n",
      "  )\n",
      "  (classifier): Sequential(\n",
      "    (0): Flatten(start_dim=1, end_dim=-1)\n",
      "    (1): Linear(in_features=50176, out_features=512, bias=True)\n",
      "    (2): BatchNorm1d(512, eps=1e-05, momentum=0.1, affine=True, track_running_stats=True)\n",
      "    (3): ReLU(inplace=True)\n",
      "    (4): Dropout(p=0.5, inplace=False)\n",
      "    (5): Linear(in_features=512, out_features=256, bias=True)\n",
      "    (6): BatchNorm1d(256, eps=1e-05, momentum=0.1, affine=True, track_running_stats=True)\n",
      "    (7): ReLU(inplace=True)\n",
      "    (8): Dropout(p=0.5, inplace=False)\n",
      "    (9): Linear(in_features=256, out_features=10, bias=True)\n",
      "  )\n",
      ")\n"
     ]
    }
   ],
   "source": [
    "class RegularizedCNN(nn.Module):\n",
    "    def __init__(self, input, n_classes, dropout_rate=0.5):\n",
    "        super().__init__()\n",
    "        self.conv = nn.Sequential(\n",
    "            # 224*224\n",
    "            nn.Conv2d(input[0], 32, kernel_size=3, padding=1),\n",
    "            nn.BatchNorm2d(32),  # Batch Normalization\n",
    "            nn.ReLU(inplace=True),\n",
    "            nn.MaxPool2d(kernel_size=2, stride=2),\n",
    "            nn.Dropout2d(p=0.1),  # Dropout espacial\n",
    "            \n",
    "            # 112*112\n",
    "            nn.Conv2d(32, 32, kernel_size=3, padding=1),\n",
    "            nn.BatchNorm2d(32),\n",
    "            nn.ReLU(inplace=True),\n",
    "            nn.MaxPool2d(kernel_size=2, stride=2),\n",
    "            nn.Dropout2d(p=0.2),\n",
    "            \n",
    "            # 56*56\n",
    "            nn.Conv2d(32, 64, kernel_size=3, padding=1),\n",
    "            nn.BatchNorm2d(64),\n",
    "            nn.ReLU(inplace=True),\n",
    "            nn.MaxPool2d(kernel_size=2, stride=2),\n",
    "            nn.Dropout2d(p=0.25),\n",
    "            # 28*28\n",
    "        )\n",
    "        \n",
    "        self.classifier = nn.Sequential(\n",
    "            nn.Flatten(),\n",
    "            nn.Linear(64 * 28 * 28, 512),\n",
    "            nn.BatchNorm1d(512),\n",
    "            nn.ReLU(inplace=True),\n",
    "            nn.Dropout(p=dropout_rate),\n",
    "            \n",
    "            nn.Linear(512, 256),\n",
    "            nn.BatchNorm1d(256),\n",
    "            nn.ReLU(inplace=True),\n",
    "            nn.Dropout(p=dropout_rate),\n",
    "            \n",
    "            nn.Linear(256, n_classes),\n",
    "        )\n",
    "    \n",
    "    def forward(self, x):\n",
    "        x = self.conv(x)\n",
    "        x = self.classifier(x)\n",
    "        return x\n",
    "\n",
    "# Crear el modelo con regularización\n",
    "modelo_regularizado = RegularizedCNN(train_loader.dataset[0][0].shape, nclasses, dropout_rate=0.5).to(DEVICE)\n",
    "print(modelo_regularizado)\n",
    "\n",
    "# Optimizer con weight decay (L2 regularization)\n",
    "optimizer_reg = optim.Adam(modelo_regularizado.parameters(), lr=1e-3, weight_decay=1e-4)"
   ]
  },
  {
   "cell_type": "code",
   "execution_count": 9,
   "metadata": {},
   "outputs": [],
   "source": [
    "# Configuración mejorada del sweep con más parámetros\n",
    "sweep_config_improved = {\n",
    "    \"name\": \"sweep-imagenette-regularized\",\n",
    "    \"method\": \"bayes\",  # Bayesian optimization es más eficiente que random\n",
    "    \"metric\": {\"name\": \"val_loss\", \"goal\": \"minimize\"},\n",
    "    \"parameters\": {\n",
    "        \"learning_rate\": {\n",
    "            \"distribution\": \"log_uniform_values\",\n",
    "            \"min\": 1e-5,\n",
    "            \"max\": 1e-2\n",
    "        },\n",
    "        \"optimizer\": {\n",
    "            \"values\": [\"adam\", \"sgd\", \"adamw\"]\n",
    "        },\n",
    "        \"batch_size\": {\n",
    "            \"values\": [32, 64, 128, 256]\n",
    "        },\n",
    "        \"dropout_rate\": {\n",
    "            \"distribution\": \"uniform\",\n",
    "            \"min\": 0.2,\n",
    "            \"max\": 0.7\n",
    "        },\n",
    "        \"weight_decay\": {\n",
    "            \"distribution\": \"log_uniform_values\",\n",
    "            \"min\": 1e-6,\n",
    "            \"max\": 1e-3\n",
    "        },\n",
    "        \"momentum\": {\n",
    "            \"distribution\": \"uniform\",\n",
    "            \"min\": 0.85,\n",
    "            \"max\": 0.99\n",
    "        },\n",
    "        \"epochs\": {\n",
    "            \"value\": 30\n",
    "        }\n",
    "    },\n",
    "    \"early_terminate\": {\n",
    "        \"type\": \"hyperband\",\n",
    "        \"min_iter\": 5\n",
    "    }\n",
    "}\n",
    "\n"
   ]
  },
  {
   "cell_type": "code",
   "execution_count": 10,
   "metadata": {},
   "outputs": [],
   "source": [
    "def train_with_wandb(config=None):\n",
    "    \"\"\"\n",
    "    Función de entrenamiento que será llamada por wandb.agent para cada configuración del sweep.\n",
    "    \"\"\"\n",
    "    with wandb.init(config=config):\n",
    "        # Obtener la configuración del sweep\n",
    "        config = wandb.config\n",
    "        \n",
    "        # Crear dataloaders con el batch_size del sweep\n",
    "        train_loader_sweep, val_loader_sweep, test_loader_sweep = get_dataloaders(\n",
    "            batch_size=config.batch_size, \n",
    "            num_workers=NUM_WORKERS\n",
    "        )\n",
    "        \n",
    "        # Crear el modelo con los parámetros del sweep\n",
    "        model = RegularizedCNN(\n",
    "            train_loader_sweep.dataset[0][0].shape, \n",
    "            nclasses, \n",
    "            dropout_rate=config.dropout_rate\n",
    "        ).to(DEVICE)\n",
    "        \n",
    "        # Definir el optimizador según la configuración\n",
    "        if config.optimizer == \"adam\":\n",
    "            optimizer = optim.Adam(\n",
    "                model.parameters(), \n",
    "                lr=config.learning_rate, \n",
    "                weight_decay=config.weight_decay\n",
    "            )\n",
    "        elif config.optimizer == \"sgd\":\n",
    "            optimizer = optim.SGD(\n",
    "                model.parameters(), \n",
    "                lr=config.learning_rate, \n",
    "                momentum=config.momentum,\n",
    "                weight_decay=config.weight_decay\n",
    "            )\n",
    "        elif config.optimizer == \"adamw\":\n",
    "            optimizer = optim.AdamW(\n",
    "                model.parameters(), \n",
    "                lr=config.learning_rate, \n",
    "                weight_decay=config.weight_decay\n",
    "            )\n",
    "        \n",
    "        # Criterio de pérdida\n",
    "        criterion = nn.CrossEntropyLoss()\n",
    "        \n",
    "        # Entrenar el modelo\n",
    "        train_errors, val_errors = utils.train(\n",
    "            model, \n",
    "            optimizer=optimizer, \n",
    "            criterion=criterion, \n",
    "            do_early_stopping=True,\n",
    "            train_loader=train_loader_sweep, \n",
    "            val_loader=val_loader_sweep, \n",
    "            device=DEVICE, \n",
    "            epochs=config.epochs,\n",
    "            patience=10\n",
    "        )\n",
    "        \n",
    "        # Evaluar en el conjunto de test al final\n",
    "        model.eval()\n",
    "        test_loss = 0\n",
    "        correct = 0\n",
    "        total = 0\n",
    "        \n",
    "        with torch.no_grad():\n",
    "            for inputs, targets in test_loader_sweep:\n",
    "                inputs, targets = inputs.to(DEVICE), targets.to(DEVICE)\n",
    "                outputs = model(inputs)\n",
    "                loss = criterion(outputs, targets)\n",
    "                test_loss += loss.item()\n",
    "                _, predicted = outputs.max(1)\n",
    "                total += targets.size(0)\n",
    "                correct += predicted.eq(targets).sum().item()\n",
    "        \n",
    "        test_accuracy = 100. * correct / total\n",
    "        test_loss = test_loss / len(test_loader_sweep)\n",
    "        \n",
    "        # Log de métricas finales\n",
    "        wandb.log({\n",
    "            \"test_accuracy\": test_accuracy,\n",
    "            \"test_loss\": test_loss\n",
    "        })\n",
    "        \n",
    "        print(f\"Test Accuracy: {test_accuracy:.2f}%\")"
   ]
  },
  {
   "cell_type": "code",
   "execution_count": 11,
   "metadata": {},
   "outputs": [
    {
     "name": "stdout",
     "output_type": "stream",
     "text": [
      "Create sweep with ID: 9zt0jvn4\n",
      "Sweep URL: https://wandb.ai/joacoguerrae-ort/%5Bwandb-labo1-guerra-sanes%5D/sweeps/9zt0jvn4\n",
      "Sweep ID: 9zt0jvn4\n",
      "Para ejecutar el sweep, usa: wandb.agent('9zt0jvn4', function=train_with_wandb, count=20)\n"
     ]
    }
   ],
   "source": [
    "# Crear el sweep\n",
    "sweep_id_improved = wandb.sweep(sweep_config_improved, project=WANDB_PROJECT)\n",
    "\n",
    "print(f\"Sweep ID: {sweep_id_improved}\")\n",
    "print(f\"Para ejecutar el sweep, usa: wandb.agent('{sweep_id_improved}', function=train_with_wandb, count=20)\")"
   ]
  },
  {
   "cell_type": "code",
   "execution_count": 12,
   "metadata": {},
   "outputs": [
    {
     "name": "stderr",
     "output_type": "stream",
     "text": [
      "\u001b[34m\u001b[1mwandb\u001b[0m: Agent Starting Run: ntjh95ra with config:\n",
      "\u001b[34m\u001b[1mwandb\u001b[0m: \tbatch_size: 256\n",
      "\u001b[34m\u001b[1mwandb\u001b[0m: \tdropout_rate: 0.3644549441792566\n",
      "\u001b[34m\u001b[1mwandb\u001b[0m: \tepochs: 30\n",
      "\u001b[34m\u001b[1mwandb\u001b[0m: \tlearning_rate: 0.0002100757771524526\n",
      "\u001b[34m\u001b[1mwandb\u001b[0m: \tmomentum: 0.9839020638084366\n",
      "\u001b[34m\u001b[1mwandb\u001b[0m: \toptimizer: adam\n",
      "\u001b[34m\u001b[1mwandb\u001b[0m: \tweight_decay: 9.53221745438804e-06\n"
     ]
    },
    {
     "data": {
      "text/html": [],
      "text/plain": [
       "<IPython.core.display.HTML object>"
      ]
     },
     "metadata": {},
     "output_type": "display_data"
    },
    {
     "data": {
      "text/html": [
       "Tracking run with wandb version 0.22.1"
      ],
      "text/plain": [
       "<IPython.core.display.HTML object>"
      ]
     },
     "metadata": {},
     "output_type": "display_data"
    },
    {
     "data": {
      "text/html": [
       "Run data is saved locally in <code>/home/rami/Documents/ORT/taller_dl/tarea_1/wandb/run-20251004_205623-ntjh95ra</code>"
      ],
      "text/plain": [
       "<IPython.core.display.HTML object>"
      ]
     },
     "metadata": {},
     "output_type": "display_data"
    },
    {
     "data": {
      "text/html": [
       "Syncing run <strong><a href='https://wandb.ai/joacoguerrae-ort/%5Bwandb-labo1-guerra-sanes%5D/runs/ntjh95ra' target=\"_blank\">stilted-sweep-1</a></strong> to <a href='https://wandb.ai/joacoguerrae-ort/%5Bwandb-labo1-guerra-sanes%5D' target=\"_blank\">Weights & Biases</a> (<a href='https://wandb.me/developer-guide' target=\"_blank\">docs</a>)<br>Sweep page: <a href='https://wandb.ai/joacoguerrae-ort/%5Bwandb-labo1-guerra-sanes%5D/sweeps/9zt0jvn4' target=\"_blank\">https://wandb.ai/joacoguerrae-ort/%5Bwandb-labo1-guerra-sanes%5D/sweeps/9zt0jvn4</a>"
      ],
      "text/plain": [
       "<IPython.core.display.HTML object>"
      ]
     },
     "metadata": {},
     "output_type": "display_data"
    },
    {
     "data": {
      "text/html": [
       " View project at <a href='https://wandb.ai/joacoguerrae-ort/%5Bwandb-labo1-guerra-sanes%5D' target=\"_blank\">https://wandb.ai/joacoguerrae-ort/%5Bwandb-labo1-guerra-sanes%5D</a>"
      ],
      "text/plain": [
       "<IPython.core.display.HTML object>"
      ]
     },
     "metadata": {},
     "output_type": "display_data"
    },
    {
     "data": {
      "text/html": [
       " View sweep at <a href='https://wandb.ai/joacoguerrae-ort/%5Bwandb-labo1-guerra-sanes%5D/sweeps/9zt0jvn4' target=\"_blank\">https://wandb.ai/joacoguerrae-ort/%5Bwandb-labo1-guerra-sanes%5D/sweeps/9zt0jvn4</a>"
      ],
      "text/plain": [
       "<IPython.core.display.HTML object>"
      ]
     },
     "metadata": {},
     "output_type": "display_data"
    },
    {
     "data": {
      "text/html": [
       " View run at <a href='https://wandb.ai/joacoguerrae-ort/%5Bwandb-labo1-guerra-sanes%5D/runs/ntjh95ra' target=\"_blank\">https://wandb.ai/joacoguerrae-ort/%5Bwandb-labo1-guerra-sanes%5D/runs/ntjh95ra</a>"
      ],
      "text/plain": [
       "<IPython.core.display.HTML object>"
      ]
     },
     "metadata": {},
     "output_type": "display_data"
    },
    {
     "name": "stdout",
     "output_type": "stream",
     "text": [
      "Epoch: 001 | Train Loss: 2.03762 | Val Loss: 2.70280\n",
      "Epoch: 002 | Train Loss: 1.79087 | Val Loss: 1.93354\n",
      "Epoch: 003 | Train Loss: 1.65645 | Val Loss: 1.62421\n",
      "Epoch: 004 | Train Loss: 1.53419 | Val Loss: 1.50218\n",
      "Epoch: 005 | Train Loss: 1.42616 | Val Loss: 1.42095\n",
      "Epoch: 006 | Train Loss: 1.32148 | Val Loss: 1.37117\n",
      "Epoch: 007 | Train Loss: 1.20626 | Val Loss: 1.34193\n",
      "Epoch: 008 | Train Loss: 1.10426 | Val Loss: 1.31068\n",
      "Epoch: 009 | Train Loss: 0.99851 | Val Loss: 1.34576\n",
      "Epoch: 010 | Train Loss: 0.88667 | Val Loss: 1.34744\n",
      "Epoch: 011 | Train Loss: 0.77967 | Val Loss: 1.36706\n",
      "Epoch: 012 | Train Loss: 0.66709 | Val Loss: 1.40856\n",
      "Epoch: 013 | Train Loss: 0.55424 | Val Loss: 1.42268\n",
      "Epoch: 014 | Train Loss: 0.47423 | Val Loss: 1.36721\n",
      "Epoch: 015 | Train Loss: 0.39840 | Val Loss: 1.38039\n",
      "Epoch: 016 | Train Loss: 0.32725 | Val Loss: 1.48383\n",
      "Epoch: 017 | Train Loss: 0.27575 | Val Loss: 1.48539\n",
      "Epoch: 018 | Train Loss: 0.23370 | Val Loss: 1.49680\n",
      "Detener entrenamiento en la época 17, la mejor pérdida fue 1.31068\n",
      "Test Accuracy: 55.26%\n"
     ]
    },
    {
     "data": {
      "text/html": [],
      "text/plain": [
       "<IPython.core.display.HTML object>"
      ]
     },
     "metadata": {},
     "output_type": "display_data"
    },
    {
     "data": {
      "text/html": [
       "<br>    <style><br>        .wandb-row {<br>            display: flex;<br>            flex-direction: row;<br>            flex-wrap: wrap;<br>            justify-content: flex-start;<br>            width: 100%;<br>        }<br>        .wandb-col {<br>            display: flex;<br>            flex-direction: column;<br>            flex-basis: 100%;<br>            flex: 1;<br>            padding: 10px;<br>        }<br>    </style><br><div class=\"wandb-row\"><div class=\"wandb-col\"><h3>Run history:</h3><br/><table class=\"wandb\"><tr><td>test_accuracy</td><td>▁</td></tr><tr><td>test_loss</td><td>▁</td></tr></table><br/></div><div class=\"wandb-col\"><h3>Run summary:</h3><br/><table class=\"wandb\"><tr><td>test_accuracy</td><td>55.25621</td></tr><tr><td>test_loss</td><td>1.48622</td></tr></table><br/></div></div>"
      ],
      "text/plain": [
       "<IPython.core.display.HTML object>"
      ]
     },
     "metadata": {},
     "output_type": "display_data"
    },
    {
     "data": {
      "text/html": [
       " View run <strong style=\"color:#cdcd00\">stilted-sweep-1</strong> at: <a href='https://wandb.ai/joacoguerrae-ort/%5Bwandb-labo1-guerra-sanes%5D/runs/ntjh95ra' target=\"_blank\">https://wandb.ai/joacoguerrae-ort/%5Bwandb-labo1-guerra-sanes%5D/runs/ntjh95ra</a><br> View project at: <a href='https://wandb.ai/joacoguerrae-ort/%5Bwandb-labo1-guerra-sanes%5D' target=\"_blank\">https://wandb.ai/joacoguerrae-ort/%5Bwandb-labo1-guerra-sanes%5D</a><br>Synced 5 W&B file(s), 0 media file(s), 0 artifact file(s) and 0 other file(s)"
      ],
      "text/plain": [
       "<IPython.core.display.HTML object>"
      ]
     },
     "metadata": {},
     "output_type": "display_data"
    },
    {
     "data": {
      "text/html": [
       "Find logs at: <code>./wandb/run-20251004_205623-ntjh95ra/logs</code>"
      ],
      "text/plain": [
       "<IPython.core.display.HTML object>"
      ]
     },
     "metadata": {},
     "output_type": "display_data"
    },
    {
     "name": "stderr",
     "output_type": "stream",
     "text": [
      "\u001b[34m\u001b[1mwandb\u001b[0m: Agent Starting Run: 28aagqmb with config:\n",
      "\u001b[34m\u001b[1mwandb\u001b[0m: \tbatch_size: 256\n",
      "\u001b[34m\u001b[1mwandb\u001b[0m: \tdropout_rate: 0.2079046313573996\n",
      "\u001b[34m\u001b[1mwandb\u001b[0m: \tepochs: 30\n",
      "\u001b[34m\u001b[1mwandb\u001b[0m: \tlearning_rate: 0.0004587744668999234\n",
      "\u001b[34m\u001b[1mwandb\u001b[0m: \tmomentum: 0.9453175681909808\n",
      "\u001b[34m\u001b[1mwandb\u001b[0m: \toptimizer: sgd\n",
      "\u001b[34m\u001b[1mwandb\u001b[0m: \tweight_decay: 0.00012401405791891623\n"
     ]
    },
    {
     "data": {
      "text/html": [],
      "text/plain": [
       "<IPython.core.display.HTML object>"
      ]
     },
     "metadata": {},
     "output_type": "display_data"
    },
    {
     "data": {
      "text/html": [
       "Tracking run with wandb version 0.22.1"
      ],
      "text/plain": [
       "<IPython.core.display.HTML object>"
      ]
     },
     "metadata": {},
     "output_type": "display_data"
    },
    {
     "data": {
      "text/html": [
       "Run data is saved locally in <code>/home/rami/Documents/ORT/taller_dl/tarea_1/wandb/run-20251004_210104-28aagqmb</code>"
      ],
      "text/plain": [
       "<IPython.core.display.HTML object>"
      ]
     },
     "metadata": {},
     "output_type": "display_data"
    },
    {
     "data": {
      "text/html": [
       "Syncing run <strong><a href='https://wandb.ai/joacoguerrae-ort/%5Bwandb-labo1-guerra-sanes%5D/runs/28aagqmb' target=\"_blank\">good-sweep-2</a></strong> to <a href='https://wandb.ai/joacoguerrae-ort/%5Bwandb-labo1-guerra-sanes%5D' target=\"_blank\">Weights & Biases</a> (<a href='https://wandb.me/developer-guide' target=\"_blank\">docs</a>)<br>Sweep page: <a href='https://wandb.ai/joacoguerrae-ort/%5Bwandb-labo1-guerra-sanes%5D/sweeps/9zt0jvn4' target=\"_blank\">https://wandb.ai/joacoguerrae-ort/%5Bwandb-labo1-guerra-sanes%5D/sweeps/9zt0jvn4</a>"
      ],
      "text/plain": [
       "<IPython.core.display.HTML object>"
      ]
     },
     "metadata": {},
     "output_type": "display_data"
    },
    {
     "data": {
      "text/html": [
       " View project at <a href='https://wandb.ai/joacoguerrae-ort/%5Bwandb-labo1-guerra-sanes%5D' target=\"_blank\">https://wandb.ai/joacoguerrae-ort/%5Bwandb-labo1-guerra-sanes%5D</a>"
      ],
      "text/plain": [
       "<IPython.core.display.HTML object>"
      ]
     },
     "metadata": {},
     "output_type": "display_data"
    },
    {
     "data": {
      "text/html": [
       " View sweep at <a href='https://wandb.ai/joacoguerrae-ort/%5Bwandb-labo1-guerra-sanes%5D/sweeps/9zt0jvn4' target=\"_blank\">https://wandb.ai/joacoguerrae-ort/%5Bwandb-labo1-guerra-sanes%5D/sweeps/9zt0jvn4</a>"
      ],
      "text/plain": [
       "<IPython.core.display.HTML object>"
      ]
     },
     "metadata": {},
     "output_type": "display_data"
    },
    {
     "data": {
      "text/html": [
       " View run at <a href='https://wandb.ai/joacoguerrae-ort/%5Bwandb-labo1-guerra-sanes%5D/runs/28aagqmb' target=\"_blank\">https://wandb.ai/joacoguerrae-ort/%5Bwandb-labo1-guerra-sanes%5D/runs/28aagqmb</a>"
      ],
      "text/plain": [
       "<IPython.core.display.HTML object>"
      ]
     },
     "metadata": {},
     "output_type": "display_data"
    },
    {
     "name": "stdout",
     "output_type": "stream",
     "text": [
      "Epoch: 001 | Train Loss: 2.17105 | Val Loss: 2.53195\n",
      "Epoch: 002 | Train Loss: 1.87851 | Val Loss: 1.91974\n",
      "Epoch: 003 | Train Loss: 1.74893 | Val Loss: 1.73606\n",
      "Epoch: 004 | Train Loss: 1.66779 | Val Loss: 1.65808\n",
      "Epoch: 005 | Train Loss: 1.58315 | Val Loss: 1.61134\n",
      "Epoch: 006 | Train Loss: 1.51127 | Val Loss: 1.57495\n",
      "Epoch: 007 | Train Loss: 1.44697 | Val Loss: 1.52384\n",
      "Epoch: 008 | Train Loss: 1.39197 | Val Loss: 1.49613\n",
      "Epoch: 009 | Train Loss: 1.33404 | Val Loss: 1.44872\n",
      "Epoch: 010 | Train Loss: 1.27271 | Val Loss: 1.43125\n",
      "Epoch: 011 | Train Loss: 1.21823 | Val Loss: 1.41799\n",
      "Epoch: 012 | Train Loss: 1.15972 | Val Loss: 1.37082\n",
      "Epoch: 013 | Train Loss: 1.10597 | Val Loss: 1.38001\n",
      "Epoch: 014 | Train Loss: 1.05104 | Val Loss: 1.35527\n",
      "Epoch: 015 | Train Loss: 1.00260 | Val Loss: 1.36608\n",
      "Epoch: 016 | Train Loss: 0.95012 | Val Loss: 1.35605\n",
      "Epoch: 017 | Train Loss: 0.89565 | Val Loss: 1.32097\n",
      "Epoch: 018 | Train Loss: 0.84064 | Val Loss: 1.35385\n",
      "Epoch: 019 | Train Loss: 0.79242 | Val Loss: 1.33680\n",
      "Epoch: 020 | Train Loss: 0.73468 | Val Loss: 1.35021\n",
      "Epoch: 021 | Train Loss: 0.69742 | Val Loss: 1.35830\n",
      "Epoch: 022 | Train Loss: 0.64768 | Val Loss: 1.35224\n",
      "Epoch: 023 | Train Loss: 0.60740 | Val Loss: 1.34607\n",
      "Epoch: 024 | Train Loss: 0.55913 | Val Loss: 1.37162\n",
      "Epoch: 025 | Train Loss: 0.52482 | Val Loss: 1.35098\n",
      "Epoch: 026 | Train Loss: 0.48640 | Val Loss: 1.36203\n",
      "Epoch: 027 | Train Loss: 0.44336 | Val Loss: 1.39001\n",
      "Detener entrenamiento en la época 26, la mejor pérdida fue 1.32097\n",
      "Test Accuracy: 56.31%\n"
     ]
    },
    {
     "data": {
      "text/html": [],
      "text/plain": [
       "<IPython.core.display.HTML object>"
      ]
     },
     "metadata": {},
     "output_type": "display_data"
    },
    {
     "data": {
      "text/html": [
       "<br>    <style><br>        .wandb-row {<br>            display: flex;<br>            flex-direction: row;<br>            flex-wrap: wrap;<br>            justify-content: flex-start;<br>            width: 100%;<br>        }<br>        .wandb-col {<br>            display: flex;<br>            flex-direction: column;<br>            flex-basis: 100%;<br>            flex: 1;<br>            padding: 10px;<br>        }<br>    </style><br><div class=\"wandb-row\"><div class=\"wandb-col\"><h3>Run history:</h3><br/><table class=\"wandb\"><tr><td>test_accuracy</td><td>▁</td></tr><tr><td>test_loss</td><td>▁</td></tr></table><br/></div><div class=\"wandb-col\"><h3>Run summary:</h3><br/><table class=\"wandb\"><tr><td>test_accuracy</td><td>56.31273</td></tr><tr><td>test_loss</td><td>1.35939</td></tr></table><br/></div></div>"
      ],
      "text/plain": [
       "<IPython.core.display.HTML object>"
      ]
     },
     "metadata": {},
     "output_type": "display_data"
    },
    {
     "data": {
      "text/html": [
       " View run <strong style=\"color:#cdcd00\">good-sweep-2</strong> at: <a href='https://wandb.ai/joacoguerrae-ort/%5Bwandb-labo1-guerra-sanes%5D/runs/28aagqmb' target=\"_blank\">https://wandb.ai/joacoguerrae-ort/%5Bwandb-labo1-guerra-sanes%5D/runs/28aagqmb</a><br> View project at: <a href='https://wandb.ai/joacoguerrae-ort/%5Bwandb-labo1-guerra-sanes%5D' target=\"_blank\">https://wandb.ai/joacoguerrae-ort/%5Bwandb-labo1-guerra-sanes%5D</a><br>Synced 5 W&B file(s), 0 media file(s), 0 artifact file(s) and 0 other file(s)"
      ],
      "text/plain": [
       "<IPython.core.display.HTML object>"
      ]
     },
     "metadata": {},
     "output_type": "display_data"
    },
    {
     "data": {
      "text/html": [
       "Find logs at: <code>./wandb/run-20251004_210104-28aagqmb/logs</code>"
      ],
      "text/plain": [
       "<IPython.core.display.HTML object>"
      ]
     },
     "metadata": {},
     "output_type": "display_data"
    },
    {
     "name": "stderr",
     "output_type": "stream",
     "text": [
      "\u001b[34m\u001b[1mwandb\u001b[0m: Agent Starting Run: lcnclbpr with config:\n",
      "\u001b[34m\u001b[1mwandb\u001b[0m: \tbatch_size: 32\n",
      "\u001b[34m\u001b[1mwandb\u001b[0m: \tdropout_rate: 0.4939449359912185\n",
      "\u001b[34m\u001b[1mwandb\u001b[0m: \tepochs: 30\n",
      "\u001b[34m\u001b[1mwandb\u001b[0m: \tlearning_rate: 2.313269285014446e-05\n",
      "\u001b[34m\u001b[1mwandb\u001b[0m: \tmomentum: 0.9494189600016332\n",
      "\u001b[34m\u001b[1mwandb\u001b[0m: \toptimizer: adam\n",
      "\u001b[34m\u001b[1mwandb\u001b[0m: \tweight_decay: 1.2702472286378386e-06\n"
     ]
    },
    {
     "data": {
      "text/html": [],
      "text/plain": [
       "<IPython.core.display.HTML object>"
      ]
     },
     "metadata": {},
     "output_type": "display_data"
    },
    {
     "data": {
      "text/html": [
       "Tracking run with wandb version 0.22.1"
      ],
      "text/plain": [
       "<IPython.core.display.HTML object>"
      ]
     },
     "metadata": {},
     "output_type": "display_data"
    },
    {
     "data": {
      "text/html": [
       "Run data is saved locally in <code>/home/rami/Documents/ORT/taller_dl/tarea_1/wandb/run-20251004_210757-lcnclbpr</code>"
      ],
      "text/plain": [
       "<IPython.core.display.HTML object>"
      ]
     },
     "metadata": {},
     "output_type": "display_data"
    },
    {
     "data": {
      "text/html": [
       "Syncing run <strong><a href='https://wandb.ai/joacoguerrae-ort/%5Bwandb-labo1-guerra-sanes%5D/runs/lcnclbpr' target=\"_blank\">cool-sweep-3</a></strong> to <a href='https://wandb.ai/joacoguerrae-ort/%5Bwandb-labo1-guerra-sanes%5D' target=\"_blank\">Weights & Biases</a> (<a href='https://wandb.me/developer-guide' target=\"_blank\">docs</a>)<br>Sweep page: <a href='https://wandb.ai/joacoguerrae-ort/%5Bwandb-labo1-guerra-sanes%5D/sweeps/9zt0jvn4' target=\"_blank\">https://wandb.ai/joacoguerrae-ort/%5Bwandb-labo1-guerra-sanes%5D/sweeps/9zt0jvn4</a>"
      ],
      "text/plain": [
       "<IPython.core.display.HTML object>"
      ]
     },
     "metadata": {},
     "output_type": "display_data"
    },
    {
     "data": {
      "text/html": [
       " View project at <a href='https://wandb.ai/joacoguerrae-ort/%5Bwandb-labo1-guerra-sanes%5D' target=\"_blank\">https://wandb.ai/joacoguerrae-ort/%5Bwandb-labo1-guerra-sanes%5D</a>"
      ],
      "text/plain": [
       "<IPython.core.display.HTML object>"
      ]
     },
     "metadata": {},
     "output_type": "display_data"
    },
    {
     "data": {
      "text/html": [
       " View sweep at <a href='https://wandb.ai/joacoguerrae-ort/%5Bwandb-labo1-guerra-sanes%5D/sweeps/9zt0jvn4' target=\"_blank\">https://wandb.ai/joacoguerrae-ort/%5Bwandb-labo1-guerra-sanes%5D/sweeps/9zt0jvn4</a>"
      ],
      "text/plain": [
       "<IPython.core.display.HTML object>"
      ]
     },
     "metadata": {},
     "output_type": "display_data"
    },
    {
     "data": {
      "text/html": [
       " View run at <a href='https://wandb.ai/joacoguerrae-ort/%5Bwandb-labo1-guerra-sanes%5D/runs/lcnclbpr' target=\"_blank\">https://wandb.ai/joacoguerrae-ort/%5Bwandb-labo1-guerra-sanes%5D/runs/lcnclbpr</a>"
      ],
      "text/plain": [
       "<IPython.core.display.HTML object>"
      ]
     },
     "metadata": {},
     "output_type": "display_data"
    },
    {
     "name": "stdout",
     "output_type": "stream",
     "text": [
      "Epoch: 001 | Train Loss: 2.11989 | Val Loss: 1.91481\n",
      "Epoch: 002 | Train Loss: 1.90584 | Val Loss: 1.81612\n",
      "Epoch: 003 | Train Loss: 1.83026 | Val Loss: 1.75830\n",
      "Epoch: 004 | Train Loss: 1.76617 | Val Loss: 1.68579\n",
      "Epoch: 005 | Train Loss: 1.70681 | Val Loss: 1.65367\n",
      "Epoch: 006 | Train Loss: 1.66473 | Val Loss: 1.60374\n",
      "Epoch: 007 | Train Loss: 1.59987 | Val Loss: 1.58099\n",
      "Epoch: 008 | Train Loss: 1.55208 | Val Loss: 1.53140\n",
      "Epoch: 009 | Train Loss: 1.50504 | Val Loss: 1.51249\n",
      "Epoch: 010 | Train Loss: 1.46083 | Val Loss: 1.47522\n",
      "Epoch: 011 | Train Loss: 1.41007 | Val Loss: 1.43778\n",
      "Epoch: 012 | Train Loss: 1.35128 | Val Loss: 1.41510\n",
      "Epoch: 013 | Train Loss: 1.30405 | Val Loss: 1.39971\n",
      "Epoch: 014 | Train Loss: 1.24836 | Val Loss: 1.38659\n",
      "Epoch: 015 | Train Loss: 1.21230 | Val Loss: 1.38617\n",
      "Epoch: 016 | Train Loss: 1.16340 | Val Loss: 1.36109\n",
      "Epoch: 017 | Train Loss: 1.10817 | Val Loss: 1.35409\n",
      "Epoch: 018 | Train Loss: 1.05637 | Val Loss: 1.35041\n",
      "Epoch: 019 | Train Loss: 1.00973 | Val Loss: 1.35475\n",
      "Epoch: 020 | Train Loss: 0.95467 | Val Loss: 1.35855\n",
      "Epoch: 021 | Train Loss: 0.91990 | Val Loss: 1.34187\n",
      "Epoch: 022 | Train Loss: 0.85231 | Val Loss: 1.34705\n",
      "Epoch: 023 | Train Loss: 0.81305 | Val Loss: 1.34426\n",
      "Epoch: 024 | Train Loss: 0.77366 | Val Loss: 1.36335\n",
      "Epoch: 025 | Train Loss: 0.71887 | Val Loss: 1.38799\n",
      "Epoch: 026 | Train Loss: 0.67134 | Val Loss: 1.36844\n",
      "Epoch: 027 | Train Loss: 0.64180 | Val Loss: 1.38281\n",
      "Epoch: 028 | Train Loss: 0.61027 | Val Loss: 1.40234\n",
      "Epoch: 029 | Train Loss: 0.56663 | Val Loss: 1.41419\n",
      "Epoch: 030 | Train Loss: 0.51946 | Val Loss: 1.39045\n",
      "Test Accuracy: 55.84%\n"
     ]
    },
    {
     "data": {
      "text/html": [],
      "text/plain": [
       "<IPython.core.display.HTML object>"
      ]
     },
     "metadata": {},
     "output_type": "display_data"
    },
    {
     "data": {
      "text/html": [
       "<br>    <style><br>        .wandb-row {<br>            display: flex;<br>            flex-direction: row;<br>            flex-wrap: wrap;<br>            justify-content: flex-start;<br>            width: 100%;<br>        }<br>        .wandb-col {<br>            display: flex;<br>            flex-direction: column;<br>            flex-basis: 100%;<br>            flex: 1;<br>            padding: 10px;<br>        }<br>    </style><br><div class=\"wandb-row\"><div class=\"wandb-col\"><h3>Run history:</h3><br/><table class=\"wandb\"><tr><td>test_accuracy</td><td>▁</td></tr><tr><td>test_loss</td><td>▁</td></tr></table><br/></div><div class=\"wandb-col\"><h3>Run summary:</h3><br/><table class=\"wandb\"><tr><td>test_accuracy</td><td>55.8373</td></tr><tr><td>test_loss</td><td>1.35614</td></tr></table><br/></div></div>"
      ],
      "text/plain": [
       "<IPython.core.display.HTML object>"
      ]
     },
     "metadata": {},
     "output_type": "display_data"
    },
    {
     "data": {
      "text/html": [
       " View run <strong style=\"color:#cdcd00\">cool-sweep-3</strong> at: <a href='https://wandb.ai/joacoguerrae-ort/%5Bwandb-labo1-guerra-sanes%5D/runs/lcnclbpr' target=\"_blank\">https://wandb.ai/joacoguerrae-ort/%5Bwandb-labo1-guerra-sanes%5D/runs/lcnclbpr</a><br> View project at: <a href='https://wandb.ai/joacoguerrae-ort/%5Bwandb-labo1-guerra-sanes%5D' target=\"_blank\">https://wandb.ai/joacoguerrae-ort/%5Bwandb-labo1-guerra-sanes%5D</a><br>Synced 5 W&B file(s), 0 media file(s), 0 artifact file(s) and 0 other file(s)"
      ],
      "text/plain": [
       "<IPython.core.display.HTML object>"
      ]
     },
     "metadata": {},
     "output_type": "display_data"
    },
    {
     "data": {
      "text/html": [
       "Find logs at: <code>./wandb/run-20251004_210757-lcnclbpr/logs</code>"
      ],
      "text/plain": [
       "<IPython.core.display.HTML object>"
      ]
     },
     "metadata": {},
     "output_type": "display_data"
    },
    {
     "name": "stderr",
     "output_type": "stream",
     "text": [
      "\u001b[34m\u001b[1mwandb\u001b[0m: Agent Starting Run: 5f0cm0pz with config:\n",
      "\u001b[34m\u001b[1mwandb\u001b[0m: \tbatch_size: 256\n",
      "\u001b[34m\u001b[1mwandb\u001b[0m: \tdropout_rate: 0.6388041656959766\n",
      "\u001b[34m\u001b[1mwandb\u001b[0m: \tepochs: 30\n",
      "\u001b[34m\u001b[1mwandb\u001b[0m: \tlearning_rate: 0.0009618452552948094\n",
      "\u001b[34m\u001b[1mwandb\u001b[0m: \tmomentum: 0.9283885848921228\n",
      "\u001b[34m\u001b[1mwandb\u001b[0m: \toptimizer: adam\n",
      "\u001b[34m\u001b[1mwandb\u001b[0m: \tweight_decay: 2.2499464946793115e-05\n"
     ]
    },
    {
     "data": {
      "text/html": [],
      "text/plain": [
       "<IPython.core.display.HTML object>"
      ]
     },
     "metadata": {},
     "output_type": "display_data"
    },
    {
     "data": {
      "text/html": [
       "Tracking run with wandb version 0.22.1"
      ],
      "text/plain": [
       "<IPython.core.display.HTML object>"
      ]
     },
     "metadata": {},
     "output_type": "display_data"
    },
    {
     "data": {
      "text/html": [
       "Run data is saved locally in <code>/home/rami/Documents/ORT/taller_dl/tarea_1/wandb/run-20251004_211548-5f0cm0pz</code>"
      ],
      "text/plain": [
       "<IPython.core.display.HTML object>"
      ]
     },
     "metadata": {},
     "output_type": "display_data"
    },
    {
     "data": {
      "text/html": [
       "Syncing run <strong><a href='https://wandb.ai/joacoguerrae-ort/%5Bwandb-labo1-guerra-sanes%5D/runs/5f0cm0pz' target=\"_blank\">ancient-sweep-4</a></strong> to <a href='https://wandb.ai/joacoguerrae-ort/%5Bwandb-labo1-guerra-sanes%5D' target=\"_blank\">Weights & Biases</a> (<a href='https://wandb.me/developer-guide' target=\"_blank\">docs</a>)<br>Sweep page: <a href='https://wandb.ai/joacoguerrae-ort/%5Bwandb-labo1-guerra-sanes%5D/sweeps/9zt0jvn4' target=\"_blank\">https://wandb.ai/joacoguerrae-ort/%5Bwandb-labo1-guerra-sanes%5D/sweeps/9zt0jvn4</a>"
      ],
      "text/plain": [
       "<IPython.core.display.HTML object>"
      ]
     },
     "metadata": {},
     "output_type": "display_data"
    },
    {
     "data": {
      "text/html": [
       " View project at <a href='https://wandb.ai/joacoguerrae-ort/%5Bwandb-labo1-guerra-sanes%5D' target=\"_blank\">https://wandb.ai/joacoguerrae-ort/%5Bwandb-labo1-guerra-sanes%5D</a>"
      ],
      "text/plain": [
       "<IPython.core.display.HTML object>"
      ]
     },
     "metadata": {},
     "output_type": "display_data"
    },
    {
     "data": {
      "text/html": [
       " View sweep at <a href='https://wandb.ai/joacoguerrae-ort/%5Bwandb-labo1-guerra-sanes%5D/sweeps/9zt0jvn4' target=\"_blank\">https://wandb.ai/joacoguerrae-ort/%5Bwandb-labo1-guerra-sanes%5D/sweeps/9zt0jvn4</a>"
      ],
      "text/plain": [
       "<IPython.core.display.HTML object>"
      ]
     },
     "metadata": {},
     "output_type": "display_data"
    },
    {
     "data": {
      "text/html": [
       " View run at <a href='https://wandb.ai/joacoguerrae-ort/%5Bwandb-labo1-guerra-sanes%5D/runs/5f0cm0pz' target=\"_blank\">https://wandb.ai/joacoguerrae-ort/%5Bwandb-labo1-guerra-sanes%5D/runs/5f0cm0pz</a>"
      ],
      "text/plain": [
       "<IPython.core.display.HTML object>"
      ]
     },
     "metadata": {},
     "output_type": "display_data"
    },
    {
     "name": "stdout",
     "output_type": "stream",
     "text": [
      "Epoch: 001 | Train Loss: 2.18054 | Val Loss: 2.95703\n",
      "Epoch: 002 | Train Loss: 1.93000 | Val Loss: 1.94501\n",
      "Epoch: 003 | Train Loss: 1.79508 | Val Loss: 1.62191\n",
      "Epoch: 004 | Train Loss: 1.69065 | Val Loss: 1.55060\n",
      "Epoch: 005 | Train Loss: 1.61077 | Val Loss: 1.46502\n",
      "Epoch: 006 | Train Loss: 1.50539 | Val Loss: 1.38674\n",
      "Epoch: 007 | Train Loss: 1.43088 | Val Loss: 1.34367\n",
      "Epoch: 008 | Train Loss: 1.35552 | Val Loss: 1.29973\n",
      "Epoch: 009 | Train Loss: 1.29547 | Val Loss: 1.25777\n",
      "Epoch: 010 | Train Loss: 1.21071 | Val Loss: 1.23618\n",
      "Epoch: 011 | Train Loss: 1.15544 | Val Loss: 1.25260\n",
      "Epoch: 012 | Train Loss: 1.08083 | Val Loss: 1.25028\n",
      "Epoch: 013 | Train Loss: 1.00751 | Val Loss: 1.21701\n",
      "Epoch: 014 | Train Loss: 0.92080 | Val Loss: 1.23283\n",
      "Epoch: 015 | Train Loss: 0.86071 | Val Loss: 1.25466\n",
      "Epoch: 016 | Train Loss: 0.78007 | Val Loss: 1.26585\n",
      "Epoch: 017 | Train Loss: 0.72070 | Val Loss: 1.29098\n",
      "Epoch: 018 | Train Loss: 0.65242 | Val Loss: 1.31765\n",
      "Epoch: 019 | Train Loss: 0.58376 | Val Loss: 1.37497\n",
      "Epoch: 020 | Train Loss: 0.52514 | Val Loss: 1.34872\n",
      "Epoch: 021 | Train Loss: 0.48856 | Val Loss: 1.42718\n",
      "Epoch: 022 | Train Loss: 0.43874 | Val Loss: 1.48121\n",
      "Epoch: 023 | Train Loss: 0.38759 | Val Loss: 1.46259\n",
      "Detener entrenamiento en la época 22, la mejor pérdida fue 1.21701\n",
      "Test Accuracy: 59.75%\n"
     ]
    },
    {
     "data": {
      "text/html": [],
      "text/plain": [
       "<IPython.core.display.HTML object>"
      ]
     },
     "metadata": {},
     "output_type": "display_data"
    },
    {
     "data": {
      "text/html": [
       "<br>    <style><br>        .wandb-row {<br>            display: flex;<br>            flex-direction: row;<br>            flex-wrap: wrap;<br>            justify-content: flex-start;<br>            width: 100%;<br>        }<br>        .wandb-col {<br>            display: flex;<br>            flex-direction: column;<br>            flex-basis: 100%;<br>            flex: 1;<br>            padding: 10px;<br>        }<br>    </style><br><div class=\"wandb-row\"><div class=\"wandb-col\"><h3>Run history:</h3><br/><table class=\"wandb\"><tr><td>test_accuracy</td><td>▁</td></tr><tr><td>test_loss</td><td>▁</td></tr></table><br/></div><div class=\"wandb-col\"><h3>Run summary:</h3><br/><table class=\"wandb\"><tr><td>test_accuracy</td><td>59.74643</td></tr><tr><td>test_loss</td><td>1.42072</td></tr></table><br/></div></div>"
      ],
      "text/plain": [
       "<IPython.core.display.HTML object>"
      ]
     },
     "metadata": {},
     "output_type": "display_data"
    },
    {
     "data": {
      "text/html": [
       " View run <strong style=\"color:#cdcd00\">ancient-sweep-4</strong> at: <a href='https://wandb.ai/joacoguerrae-ort/%5Bwandb-labo1-guerra-sanes%5D/runs/5f0cm0pz' target=\"_blank\">https://wandb.ai/joacoguerrae-ort/%5Bwandb-labo1-guerra-sanes%5D/runs/5f0cm0pz</a><br> View project at: <a href='https://wandb.ai/joacoguerrae-ort/%5Bwandb-labo1-guerra-sanes%5D' target=\"_blank\">https://wandb.ai/joacoguerrae-ort/%5Bwandb-labo1-guerra-sanes%5D</a><br>Synced 5 W&B file(s), 0 media file(s), 0 artifact file(s) and 0 other file(s)"
      ],
      "text/plain": [
       "<IPython.core.display.HTML object>"
      ]
     },
     "metadata": {},
     "output_type": "display_data"
    },
    {
     "data": {
      "text/html": [
       "Find logs at: <code>./wandb/run-20251004_211548-5f0cm0pz/logs</code>"
      ],
      "text/plain": [
       "<IPython.core.display.HTML object>"
      ]
     },
     "metadata": {},
     "output_type": "display_data"
    },
    {
     "name": "stderr",
     "output_type": "stream",
     "text": [
      "\u001b[34m\u001b[1mwandb\u001b[0m: Agent Starting Run: 0uer357u with config:\n",
      "\u001b[34m\u001b[1mwandb\u001b[0m: \tbatch_size: 32\n",
      "\u001b[34m\u001b[1mwandb\u001b[0m: \tdropout_rate: 0.2851530143613815\n",
      "\u001b[34m\u001b[1mwandb\u001b[0m: \tepochs: 30\n",
      "\u001b[34m\u001b[1mwandb\u001b[0m: \tlearning_rate: 0.0001497629245645168\n",
      "\u001b[34m\u001b[1mwandb\u001b[0m: \tmomentum: 0.8921897560388584\n",
      "\u001b[34m\u001b[1mwandb\u001b[0m: \toptimizer: adam\n",
      "\u001b[34m\u001b[1mwandb\u001b[0m: \tweight_decay: 4.683406981858897e-06\n"
     ]
    },
    {
     "data": {
      "text/html": [],
      "text/plain": [
       "<IPython.core.display.HTML object>"
      ]
     },
     "metadata": {},
     "output_type": "display_data"
    },
    {
     "data": {
      "text/html": [
       "Tracking run with wandb version 0.22.1"
      ],
      "text/plain": [
       "<IPython.core.display.HTML object>"
      ]
     },
     "metadata": {},
     "output_type": "display_data"
    },
    {
     "data": {
      "text/html": [
       "Run data is saved locally in <code>/home/rami/Documents/ORT/taller_dl/tarea_1/wandb/run-20251004_212141-0uer357u</code>"
      ],
      "text/plain": [
       "<IPython.core.display.HTML object>"
      ]
     },
     "metadata": {},
     "output_type": "display_data"
    },
    {
     "data": {
      "text/html": [
       "Syncing run <strong><a href='https://wandb.ai/joacoguerrae-ort/%5Bwandb-labo1-guerra-sanes%5D/runs/0uer357u' target=\"_blank\">autumn-sweep-5</a></strong> to <a href='https://wandb.ai/joacoguerrae-ort/%5Bwandb-labo1-guerra-sanes%5D' target=\"_blank\">Weights & Biases</a> (<a href='https://wandb.me/developer-guide' target=\"_blank\">docs</a>)<br>Sweep page: <a href='https://wandb.ai/joacoguerrae-ort/%5Bwandb-labo1-guerra-sanes%5D/sweeps/9zt0jvn4' target=\"_blank\">https://wandb.ai/joacoguerrae-ort/%5Bwandb-labo1-guerra-sanes%5D/sweeps/9zt0jvn4</a>"
      ],
      "text/plain": [
       "<IPython.core.display.HTML object>"
      ]
     },
     "metadata": {},
     "output_type": "display_data"
    },
    {
     "data": {
      "text/html": [
       " View project at <a href='https://wandb.ai/joacoguerrae-ort/%5Bwandb-labo1-guerra-sanes%5D' target=\"_blank\">https://wandb.ai/joacoguerrae-ort/%5Bwandb-labo1-guerra-sanes%5D</a>"
      ],
      "text/plain": [
       "<IPython.core.display.HTML object>"
      ]
     },
     "metadata": {},
     "output_type": "display_data"
    },
    {
     "data": {
      "text/html": [
       " View sweep at <a href='https://wandb.ai/joacoguerrae-ort/%5Bwandb-labo1-guerra-sanes%5D/sweeps/9zt0jvn4' target=\"_blank\">https://wandb.ai/joacoguerrae-ort/%5Bwandb-labo1-guerra-sanes%5D/sweeps/9zt0jvn4</a>"
      ],
      "text/plain": [
       "<IPython.core.display.HTML object>"
      ]
     },
     "metadata": {},
     "output_type": "display_data"
    },
    {
     "data": {
      "text/html": [
       " View run at <a href='https://wandb.ai/joacoguerrae-ort/%5Bwandb-labo1-guerra-sanes%5D/runs/0uer357u' target=\"_blank\">https://wandb.ai/joacoguerrae-ort/%5Bwandb-labo1-guerra-sanes%5D/runs/0uer357u</a>"
      ],
      "text/plain": [
       "<IPython.core.display.HTML object>"
      ]
     },
     "metadata": {},
     "output_type": "display_data"
    },
    {
     "name": "stdout",
     "output_type": "stream",
     "text": [
      "Epoch: 001 | Train Loss: 1.91148 | Val Loss: 1.66162\n",
      "Epoch: 002 | Train Loss: 1.62114 | Val Loss: 1.51058\n",
      "Epoch: 003 | Train Loss: 1.43057 | Val Loss: 1.37278\n",
      "Epoch: 004 | Train Loss: 1.27563 | Val Loss: 1.30039\n",
      "Epoch: 005 | Train Loss: 1.14646 | Val Loss: 1.27932\n",
      "Epoch: 006 | Train Loss: 0.99941 | Val Loss: 1.33605\n",
      "Epoch: 007 | Train Loss: 0.86066 | Val Loss: 1.31685\n",
      "Epoch: 008 | Train Loss: 0.72252 | Val Loss: 1.33263\n",
      "Epoch: 009 | Train Loss: 0.59366 | Val Loss: 1.47429\n",
      "Epoch: 010 | Train Loss: 0.47797 | Val Loss: 1.39698\n",
      "Epoch: 011 | Train Loss: 0.38768 | Val Loss: 1.47047\n",
      "Epoch: 012 | Train Loss: 0.31417 | Val Loss: 1.53616\n",
      "Epoch: 013 | Train Loss: 0.26745 | Val Loss: 1.57084\n",
      "Epoch: 014 | Train Loss: 0.22191 | Val Loss: 1.60097\n",
      "Epoch: 015 | Train Loss: 0.20157 | Val Loss: 1.75221\n",
      "Detener entrenamiento en la época 14, la mejor pérdida fue 1.27932\n",
      "Test Accuracy: 54.15%\n"
     ]
    },
    {
     "data": {
      "text/html": [],
      "text/plain": [
       "<IPython.core.display.HTML object>"
      ]
     },
     "metadata": {},
     "output_type": "display_data"
    },
    {
     "data": {
      "text/html": [
       "<br>    <style><br>        .wandb-row {<br>            display: flex;<br>            flex-direction: row;<br>            flex-wrap: wrap;<br>            justify-content: flex-start;<br>            width: 100%;<br>        }<br>        .wandb-col {<br>            display: flex;<br>            flex-direction: column;<br>            flex-basis: 100%;<br>            flex: 1;<br>            padding: 10px;<br>        }<br>    </style><br><div class=\"wandb-row\"><div class=\"wandb-col\"><h3>Run history:</h3><br/><table class=\"wandb\"><tr><td>test_accuracy</td><td>▁</td></tr><tr><td>test_loss</td><td>▁</td></tr></table><br/></div><div class=\"wandb-col\"><h3>Run summary:</h3><br/><table class=\"wandb\"><tr><td>test_accuracy</td><td>54.14686</td></tr><tr><td>test_loss</td><td>1.6926</td></tr></table><br/></div></div>"
      ],
      "text/plain": [
       "<IPython.core.display.HTML object>"
      ]
     },
     "metadata": {},
     "output_type": "display_data"
    },
    {
     "data": {
      "text/html": [
       " View run <strong style=\"color:#cdcd00\">autumn-sweep-5</strong> at: <a href='https://wandb.ai/joacoguerrae-ort/%5Bwandb-labo1-guerra-sanes%5D/runs/0uer357u' target=\"_blank\">https://wandb.ai/joacoguerrae-ort/%5Bwandb-labo1-guerra-sanes%5D/runs/0uer357u</a><br> View project at: <a href='https://wandb.ai/joacoguerrae-ort/%5Bwandb-labo1-guerra-sanes%5D' target=\"_blank\">https://wandb.ai/joacoguerrae-ort/%5Bwandb-labo1-guerra-sanes%5D</a><br>Synced 5 W&B file(s), 0 media file(s), 0 artifact file(s) and 0 other file(s)"
      ],
      "text/plain": [
       "<IPython.core.display.HTML object>"
      ]
     },
     "metadata": {},
     "output_type": "display_data"
    },
    {
     "data": {
      "text/html": [
       "Find logs at: <code>./wandb/run-20251004_212141-0uer357u/logs</code>"
      ],
      "text/plain": [
       "<IPython.core.display.HTML object>"
      ]
     },
     "metadata": {},
     "output_type": "display_data"
    },
    {
     "name": "stderr",
     "output_type": "stream",
     "text": [
      "\u001b[34m\u001b[1mwandb\u001b[0m: Agent Starting Run: q99lv2cj with config:\n",
      "\u001b[34m\u001b[1mwandb\u001b[0m: \tbatch_size: 128\n",
      "\u001b[34m\u001b[1mwandb\u001b[0m: \tdropout_rate: 0.6976194328460703\n",
      "\u001b[34m\u001b[1mwandb\u001b[0m: \tepochs: 30\n",
      "\u001b[34m\u001b[1mwandb\u001b[0m: \tlearning_rate: 0.000877658644595548\n",
      "\u001b[34m\u001b[1mwandb\u001b[0m: \tmomentum: 0.9776315909045354\n",
      "\u001b[34m\u001b[1mwandb\u001b[0m: \toptimizer: adam\n",
      "\u001b[34m\u001b[1mwandb\u001b[0m: \tweight_decay: 7.776004840320125e-06\n"
     ]
    },
    {
     "data": {
      "text/html": [],
      "text/plain": [
       "<IPython.core.display.HTML object>"
      ]
     },
     "metadata": {},
     "output_type": "display_data"
    },
    {
     "data": {
      "text/html": [
       "Tracking run with wandb version 0.22.1"
      ],
      "text/plain": [
       "<IPython.core.display.HTML object>"
      ]
     },
     "metadata": {},
     "output_type": "display_data"
    },
    {
     "data": {
      "text/html": [
       "Run data is saved locally in <code>/home/rami/Documents/ORT/taller_dl/tarea_1/wandb/run-20251004_212541-q99lv2cj</code>"
      ],
      "text/plain": [
       "<IPython.core.display.HTML object>"
      ]
     },
     "metadata": {},
     "output_type": "display_data"
    },
    {
     "data": {
      "text/html": [
       "Syncing run <strong><a href='https://wandb.ai/joacoguerrae-ort/%5Bwandb-labo1-guerra-sanes%5D/runs/q99lv2cj' target=\"_blank\">leafy-sweep-6</a></strong> to <a href='https://wandb.ai/joacoguerrae-ort/%5Bwandb-labo1-guerra-sanes%5D' target=\"_blank\">Weights & Biases</a> (<a href='https://wandb.me/developer-guide' target=\"_blank\">docs</a>)<br>Sweep page: <a href='https://wandb.ai/joacoguerrae-ort/%5Bwandb-labo1-guerra-sanes%5D/sweeps/9zt0jvn4' target=\"_blank\">https://wandb.ai/joacoguerrae-ort/%5Bwandb-labo1-guerra-sanes%5D/sweeps/9zt0jvn4</a>"
      ],
      "text/plain": [
       "<IPython.core.display.HTML object>"
      ]
     },
     "metadata": {},
     "output_type": "display_data"
    },
    {
     "data": {
      "text/html": [
       " View project at <a href='https://wandb.ai/joacoguerrae-ort/%5Bwandb-labo1-guerra-sanes%5D' target=\"_blank\">https://wandb.ai/joacoguerrae-ort/%5Bwandb-labo1-guerra-sanes%5D</a>"
      ],
      "text/plain": [
       "<IPython.core.display.HTML object>"
      ]
     },
     "metadata": {},
     "output_type": "display_data"
    },
    {
     "data": {
      "text/html": [
       " View sweep at <a href='https://wandb.ai/joacoguerrae-ort/%5Bwandb-labo1-guerra-sanes%5D/sweeps/9zt0jvn4' target=\"_blank\">https://wandb.ai/joacoguerrae-ort/%5Bwandb-labo1-guerra-sanes%5D/sweeps/9zt0jvn4</a>"
      ],
      "text/plain": [
       "<IPython.core.display.HTML object>"
      ]
     },
     "metadata": {},
     "output_type": "display_data"
    },
    {
     "data": {
      "text/html": [
       " View run at <a href='https://wandb.ai/joacoguerrae-ort/%5Bwandb-labo1-guerra-sanes%5D/runs/q99lv2cj' target=\"_blank\">https://wandb.ai/joacoguerrae-ort/%5Bwandb-labo1-guerra-sanes%5D/runs/q99lv2cj</a>"
      ],
      "text/plain": [
       "<IPython.core.display.HTML object>"
      ]
     },
     "metadata": {},
     "output_type": "display_data"
    },
    {
     "name": "stdout",
     "output_type": "stream",
     "text": [
      "Epoch: 001 | Train Loss: 2.21067 | Val Loss: 2.12464\n",
      "Epoch: 002 | Train Loss: 1.96342 | Val Loss: 1.74815\n",
      "Epoch: 003 | Train Loss: 1.79935 | Val Loss: 1.55987\n",
      "Epoch: 004 | Train Loss: 1.69163 | Val Loss: 1.45562\n",
      "Epoch: 005 | Train Loss: 1.59254 | Val Loss: 1.38658\n",
      "Epoch: 006 | Train Loss: 1.50154 | Val Loss: 1.31905\n",
      "Epoch: 007 | Train Loss: 1.42493 | Val Loss: 1.27396\n",
      "Epoch: 008 | Train Loss: 1.35197 | Val Loss: 1.25016\n",
      "Epoch: 009 | Train Loss: 1.29152 | Val Loss: 1.20299\n",
      "Epoch: 010 | Train Loss: 1.25250 | Val Loss: 1.17338\n",
      "Epoch: 011 | Train Loss: 1.17149 | Val Loss: 1.15721\n",
      "Epoch: 012 | Train Loss: 1.12331 | Val Loss: 1.15903\n",
      "Epoch: 013 | Train Loss: 1.05471 | Val Loss: 1.19131\n",
      "Epoch: 014 | Train Loss: 0.99674 | Val Loss: 1.15494\n",
      "Epoch: 015 | Train Loss: 0.93708 | Val Loss: 1.14545\n",
      "Epoch: 016 | Train Loss: 0.88383 | Val Loss: 1.19861\n",
      "Epoch: 017 | Train Loss: 0.81091 | Val Loss: 1.15711\n",
      "Epoch: 018 | Train Loss: 0.77962 | Val Loss: 1.19863\n",
      "Epoch: 019 | Train Loss: 0.71600 | Val Loss: 1.20230\n",
      "Epoch: 020 | Train Loss: 0.66110 | Val Loss: 1.19264\n",
      "Epoch: 021 | Train Loss: 0.61301 | Val Loss: 1.24070\n",
      "Epoch: 022 | Train Loss: 0.55925 | Val Loss: 1.26593\n",
      "Epoch: 023 | Train Loss: 0.50405 | Val Loss: 1.29236\n",
      "Epoch: 024 | Train Loss: 0.48464 | Val Loss: 1.31392\n",
      "Epoch: 025 | Train Loss: 0.42775 | Val Loss: 1.33294\n",
      "Detener entrenamiento en la época 24, la mejor pérdida fue 1.14545\n",
      "Test Accuracy: 62.81%\n"
     ]
    },
    {
     "data": {
      "text/html": [],
      "text/plain": [
       "<IPython.core.display.HTML object>"
      ]
     },
     "metadata": {},
     "output_type": "display_data"
    },
    {
     "data": {
      "text/html": [
       "<br>    <style><br>        .wandb-row {<br>            display: flex;<br>            flex-direction: row;<br>            flex-wrap: wrap;<br>            justify-content: flex-start;<br>            width: 100%;<br>        }<br>        .wandb-col {<br>            display: flex;<br>            flex-direction: column;<br>            flex-basis: 100%;<br>            flex: 1;<br>            padding: 10px;<br>        }<br>    </style><br><div class=\"wandb-row\"><div class=\"wandb-col\"><h3>Run history:</h3><br/><table class=\"wandb\"><tr><td>test_accuracy</td><td>▁</td></tr><tr><td>test_loss</td><td>▁</td></tr></table><br/></div><div class=\"wandb-col\"><h3>Run summary:</h3><br/><table class=\"wandb\"><tr><td>test_accuracy</td><td>62.81035</td></tr><tr><td>test_loss</td><td>1.28176</td></tr></table><br/></div></div>"
      ],
      "text/plain": [
       "<IPython.core.display.HTML object>"
      ]
     },
     "metadata": {},
     "output_type": "display_data"
    },
    {
     "data": {
      "text/html": [
       " View run <strong style=\"color:#cdcd00\">leafy-sweep-6</strong> at: <a href='https://wandb.ai/joacoguerrae-ort/%5Bwandb-labo1-guerra-sanes%5D/runs/q99lv2cj' target=\"_blank\">https://wandb.ai/joacoguerrae-ort/%5Bwandb-labo1-guerra-sanes%5D/runs/q99lv2cj</a><br> View project at: <a href='https://wandb.ai/joacoguerrae-ort/%5Bwandb-labo1-guerra-sanes%5D' target=\"_blank\">https://wandb.ai/joacoguerrae-ort/%5Bwandb-labo1-guerra-sanes%5D</a><br>Synced 5 W&B file(s), 0 media file(s), 0 artifact file(s) and 0 other file(s)"
      ],
      "text/plain": [
       "<IPython.core.display.HTML object>"
      ]
     },
     "metadata": {},
     "output_type": "display_data"
    },
    {
     "data": {
      "text/html": [
       "Find logs at: <code>./wandb/run-20251004_212541-q99lv2cj/logs</code>"
      ],
      "text/plain": [
       "<IPython.core.display.HTML object>"
      ]
     },
     "metadata": {},
     "output_type": "display_data"
    },
    {
     "name": "stderr",
     "output_type": "stream",
     "text": [
      "\u001b[34m\u001b[1mwandb\u001b[0m: Agent Starting Run: w4dhla9o with config:\n",
      "\u001b[34m\u001b[1mwandb\u001b[0m: \tbatch_size: 64\n",
      "\u001b[34m\u001b[1mwandb\u001b[0m: \tdropout_rate: 0.35399115409830373\n",
      "\u001b[34m\u001b[1mwandb\u001b[0m: \tepochs: 30\n",
      "\u001b[34m\u001b[1mwandb\u001b[0m: \tlearning_rate: 6.166249925811533e-05\n",
      "\u001b[34m\u001b[1mwandb\u001b[0m: \tmomentum: 0.8681257096824988\n",
      "\u001b[34m\u001b[1mwandb\u001b[0m: \toptimizer: adamw\n",
      "\u001b[34m\u001b[1mwandb\u001b[0m: \tweight_decay: 1.353855852844729e-06\n"
     ]
    },
    {
     "data": {
      "text/html": [],
      "text/plain": [
       "<IPython.core.display.HTML object>"
      ]
     },
     "metadata": {},
     "output_type": "display_data"
    },
    {
     "data": {
      "text/html": [
       "Tracking run with wandb version 0.22.1"
      ],
      "text/plain": [
       "<IPython.core.display.HTML object>"
      ]
     },
     "metadata": {},
     "output_type": "display_data"
    },
    {
     "data": {
      "text/html": [
       "Run data is saved locally in <code>/home/rami/Documents/ORT/taller_dl/tarea_1/wandb/run-20251004_213152-w4dhla9o</code>"
      ],
      "text/plain": [
       "<IPython.core.display.HTML object>"
      ]
     },
     "metadata": {},
     "output_type": "display_data"
    },
    {
     "data": {
      "text/html": [
       "Syncing run <strong><a href='https://wandb.ai/joacoguerrae-ort/%5Bwandb-labo1-guerra-sanes%5D/runs/w4dhla9o' target=\"_blank\">astral-sweep-7</a></strong> to <a href='https://wandb.ai/joacoguerrae-ort/%5Bwandb-labo1-guerra-sanes%5D' target=\"_blank\">Weights & Biases</a> (<a href='https://wandb.me/developer-guide' target=\"_blank\">docs</a>)<br>Sweep page: <a href='https://wandb.ai/joacoguerrae-ort/%5Bwandb-labo1-guerra-sanes%5D/sweeps/9zt0jvn4' target=\"_blank\">https://wandb.ai/joacoguerrae-ort/%5Bwandb-labo1-guerra-sanes%5D/sweeps/9zt0jvn4</a>"
      ],
      "text/plain": [
       "<IPython.core.display.HTML object>"
      ]
     },
     "metadata": {},
     "output_type": "display_data"
    },
    {
     "data": {
      "text/html": [
       " View project at <a href='https://wandb.ai/joacoguerrae-ort/%5Bwandb-labo1-guerra-sanes%5D' target=\"_blank\">https://wandb.ai/joacoguerrae-ort/%5Bwandb-labo1-guerra-sanes%5D</a>"
      ],
      "text/plain": [
       "<IPython.core.display.HTML object>"
      ]
     },
     "metadata": {},
     "output_type": "display_data"
    },
    {
     "data": {
      "text/html": [
       " View sweep at <a href='https://wandb.ai/joacoguerrae-ort/%5Bwandb-labo1-guerra-sanes%5D/sweeps/9zt0jvn4' target=\"_blank\">https://wandb.ai/joacoguerrae-ort/%5Bwandb-labo1-guerra-sanes%5D/sweeps/9zt0jvn4</a>"
      ],
      "text/plain": [
       "<IPython.core.display.HTML object>"
      ]
     },
     "metadata": {},
     "output_type": "display_data"
    },
    {
     "data": {
      "text/html": [
       " View run at <a href='https://wandb.ai/joacoguerrae-ort/%5Bwandb-labo1-guerra-sanes%5D/runs/w4dhla9o' target=\"_blank\">https://wandb.ai/joacoguerrae-ort/%5Bwandb-labo1-guerra-sanes%5D/runs/w4dhla9o</a>"
      ],
      "text/plain": [
       "<IPython.core.display.HTML object>"
      ]
     },
     "metadata": {},
     "output_type": "display_data"
    },
    {
     "name": "stdout",
     "output_type": "stream",
     "text": [
      "Epoch: 001 | Train Loss: 2.01967 | Val Loss: 1.79758\n",
      "Epoch: 002 | Train Loss: 1.77469 | Val Loss: 1.68295\n",
      "Epoch: 003 | Train Loss: 1.64915 | Val Loss: 1.58652\n",
      "Epoch: 004 | Train Loss: 1.55327 | Val Loss: 1.54046\n",
      "Epoch: 005 | Train Loss: 1.46801 | Val Loss: 1.47141\n",
      "Epoch: 006 | Train Loss: 1.38127 | Val Loss: 1.42887\n",
      "Epoch: 007 | Train Loss: 1.28847 | Val Loss: 1.38565\n",
      "Epoch: 008 | Train Loss: 1.18982 | Val Loss: 1.34823\n",
      "Epoch: 009 | Train Loss: 1.10570 | Val Loss: 1.30660\n",
      "Epoch: 010 | Train Loss: 1.00755 | Val Loss: 1.31092\n",
      "Epoch: 011 | Train Loss: 0.91894 | Val Loss: 1.31989\n",
      "Epoch: 012 | Train Loss: 0.82368 | Val Loss: 1.32637\n",
      "Epoch: 013 | Train Loss: 0.74518 | Val Loss: 1.34444\n",
      "Epoch: 014 | Train Loss: 0.66367 | Val Loss: 1.38026\n",
      "Epoch: 015 | Train Loss: 0.57372 | Val Loss: 1.36328\n",
      "Epoch: 016 | Train Loss: 0.50732 | Val Loss: 1.40502\n",
      "Epoch: 017 | Train Loss: 0.44257 | Val Loss: 1.39482\n",
      "Epoch: 018 | Train Loss: 0.38298 | Val Loss: 1.42201\n",
      "Epoch: 019 | Train Loss: 0.34358 | Val Loss: 1.45216\n",
      "Detener entrenamiento en la época 18, la mejor pérdida fue 1.30660\n",
      "Test Accuracy: 54.73%\n"
     ]
    },
    {
     "data": {
      "text/html": [],
      "text/plain": [
       "<IPython.core.display.HTML object>"
      ]
     },
     "metadata": {},
     "output_type": "display_data"
    },
    {
     "data": {
      "text/html": [
       "<br>    <style><br>        .wandb-row {<br>            display: flex;<br>            flex-direction: row;<br>            flex-wrap: wrap;<br>            justify-content: flex-start;<br>            width: 100%;<br>        }<br>        .wandb-col {<br>            display: flex;<br>            flex-direction: column;<br>            flex-basis: 100%;<br>            flex: 1;<br>            padding: 10px;<br>        }<br>    </style><br><div class=\"wandb-row\"><div class=\"wandb-col\"><h3>Run history:</h3><br/><table class=\"wandb\"><tr><td>test_accuracy</td><td>▁</td></tr><tr><td>test_loss</td><td>▁</td></tr></table><br/></div><div class=\"wandb-col\"><h3>Run summary:</h3><br/><table class=\"wandb\"><tr><td>test_accuracy</td><td>54.72795</td></tr><tr><td>test_loss</td><td>1.43074</td></tr></table><br/></div></div>"
      ],
      "text/plain": [
       "<IPython.core.display.HTML object>"
      ]
     },
     "metadata": {},
     "output_type": "display_data"
    },
    {
     "data": {
      "text/html": [
       " View run <strong style=\"color:#cdcd00\">astral-sweep-7</strong> at: <a href='https://wandb.ai/joacoguerrae-ort/%5Bwandb-labo1-guerra-sanes%5D/runs/w4dhla9o' target=\"_blank\">https://wandb.ai/joacoguerrae-ort/%5Bwandb-labo1-guerra-sanes%5D/runs/w4dhla9o</a><br> View project at: <a href='https://wandb.ai/joacoguerrae-ort/%5Bwandb-labo1-guerra-sanes%5D' target=\"_blank\">https://wandb.ai/joacoguerrae-ort/%5Bwandb-labo1-guerra-sanes%5D</a><br>Synced 5 W&B file(s), 0 media file(s), 0 artifact file(s) and 0 other file(s)"
      ],
      "text/plain": [
       "<IPython.core.display.HTML object>"
      ]
     },
     "metadata": {},
     "output_type": "display_data"
    },
    {
     "data": {
      "text/html": [
       "Find logs at: <code>./wandb/run-20251004_213152-w4dhla9o/logs</code>"
      ],
      "text/plain": [
       "<IPython.core.display.HTML object>"
      ]
     },
     "metadata": {},
     "output_type": "display_data"
    },
    {
     "name": "stderr",
     "output_type": "stream",
     "text": [
      "\u001b[34m\u001b[1mwandb\u001b[0m: Agent Starting Run: v8sq7wmo with config:\n",
      "\u001b[34m\u001b[1mwandb\u001b[0m: \tbatch_size: 64\n",
      "\u001b[34m\u001b[1mwandb\u001b[0m: \tdropout_rate: 0.3793258553582962\n",
      "\u001b[34m\u001b[1mwandb\u001b[0m: \tepochs: 30\n",
      "\u001b[34m\u001b[1mwandb\u001b[0m: \tlearning_rate: 0.00011359517289370106\n",
      "\u001b[34m\u001b[1mwandb\u001b[0m: \tmomentum: 0.9499287942528416\n",
      "\u001b[34m\u001b[1mwandb\u001b[0m: \toptimizer: sgd\n",
      "\u001b[34m\u001b[1mwandb\u001b[0m: \tweight_decay: 0.0006644287481030904\n"
     ]
    },
    {
     "data": {
      "text/html": [],
      "text/plain": [
       "<IPython.core.display.HTML object>"
      ]
     },
     "metadata": {},
     "output_type": "display_data"
    },
    {
     "data": {
      "text/html": [
       "Tracking run with wandb version 0.22.1"
      ],
      "text/plain": [
       "<IPython.core.display.HTML object>"
      ]
     },
     "metadata": {},
     "output_type": "display_data"
    },
    {
     "data": {
      "text/html": [
       "Run data is saved locally in <code>/home/rami/Documents/ORT/taller_dl/tarea_1/wandb/run-20251004_213633-v8sq7wmo</code>"
      ],
      "text/plain": [
       "<IPython.core.display.HTML object>"
      ]
     },
     "metadata": {},
     "output_type": "display_data"
    },
    {
     "data": {
      "text/html": [
       "Syncing run <strong><a href='https://wandb.ai/joacoguerrae-ort/%5Bwandb-labo1-guerra-sanes%5D/runs/v8sq7wmo' target=\"_blank\">rare-sweep-8</a></strong> to <a href='https://wandb.ai/joacoguerrae-ort/%5Bwandb-labo1-guerra-sanes%5D' target=\"_blank\">Weights & Biases</a> (<a href='https://wandb.me/developer-guide' target=\"_blank\">docs</a>)<br>Sweep page: <a href='https://wandb.ai/joacoguerrae-ort/%5Bwandb-labo1-guerra-sanes%5D/sweeps/9zt0jvn4' target=\"_blank\">https://wandb.ai/joacoguerrae-ort/%5Bwandb-labo1-guerra-sanes%5D/sweeps/9zt0jvn4</a>"
      ],
      "text/plain": [
       "<IPython.core.display.HTML object>"
      ]
     },
     "metadata": {},
     "output_type": "display_data"
    },
    {
     "data": {
      "text/html": [
       " View project at <a href='https://wandb.ai/joacoguerrae-ort/%5Bwandb-labo1-guerra-sanes%5D' target=\"_blank\">https://wandb.ai/joacoguerrae-ort/%5Bwandb-labo1-guerra-sanes%5D</a>"
      ],
      "text/plain": [
       "<IPython.core.display.HTML object>"
      ]
     },
     "metadata": {},
     "output_type": "display_data"
    },
    {
     "data": {
      "text/html": [
       " View sweep at <a href='https://wandb.ai/joacoguerrae-ort/%5Bwandb-labo1-guerra-sanes%5D/sweeps/9zt0jvn4' target=\"_blank\">https://wandb.ai/joacoguerrae-ort/%5Bwandb-labo1-guerra-sanes%5D/sweeps/9zt0jvn4</a>"
      ],
      "text/plain": [
       "<IPython.core.display.HTML object>"
      ]
     },
     "metadata": {},
     "output_type": "display_data"
    },
    {
     "data": {
      "text/html": [
       " View run at <a href='https://wandb.ai/joacoguerrae-ort/%5Bwandb-labo1-guerra-sanes%5D/runs/v8sq7wmo' target=\"_blank\">https://wandb.ai/joacoguerrae-ort/%5Bwandb-labo1-guerra-sanes%5D/runs/v8sq7wmo</a>"
      ],
      "text/plain": [
       "<IPython.core.display.HTML object>"
      ]
     },
     "metadata": {},
     "output_type": "display_data"
    },
    {
     "name": "stdout",
     "output_type": "stream",
     "text": [
      "Epoch: 001 | Train Loss: 2.15729 | Val Loss: 1.96006\n",
      "Epoch: 002 | Train Loss: 1.91437 | Val Loss: 1.83368\n",
      "Epoch: 003 | Train Loss: 1.82634 | Val Loss: 1.75855\n",
      "Epoch: 004 | Train Loss: 1.75295 | Val Loss: 1.73329\n",
      "Epoch: 005 | Train Loss: 1.69749 | Val Loss: 1.69076\n",
      "Epoch: 006 | Train Loss: 1.64785 | Val Loss: 1.65134\n",
      "Epoch: 007 | Train Loss: 1.60723 | Val Loss: 1.59525\n",
      "Epoch: 008 | Train Loss: 1.55562 | Val Loss: 1.58473\n",
      "Epoch: 009 | Train Loss: 1.50880 | Val Loss: 1.54639\n",
      "Epoch: 010 | Train Loss: 1.46267 | Val Loss: 1.52350\n",
      "Epoch: 011 | Train Loss: 1.41785 | Val Loss: 1.49948\n",
      "Epoch: 012 | Train Loss: 1.38041 | Val Loss: 1.46776\n",
      "Epoch: 013 | Train Loss: 1.33932 | Val Loss: 1.44261\n",
      "Epoch: 014 | Train Loss: 1.30428 | Val Loss: 1.40099\n",
      "Epoch: 015 | Train Loss: 1.25058 | Val Loss: 1.39568\n",
      "Epoch: 016 | Train Loss: 1.21313 | Val Loss: 1.38342\n",
      "Epoch: 017 | Train Loss: 1.16802 | Val Loss: 1.38028\n",
      "Epoch: 018 | Train Loss: 1.12764 | Val Loss: 1.35923\n",
      "Epoch: 019 | Train Loss: 1.08231 | Val Loss: 1.35444\n",
      "Epoch: 020 | Train Loss: 1.04471 | Val Loss: 1.35915\n",
      "Epoch: 021 | Train Loss: 1.00156 | Val Loss: 1.36167\n",
      "Epoch: 022 | Train Loss: 0.95696 | Val Loss: 1.32447\n",
      "Epoch: 023 | Train Loss: 0.92285 | Val Loss: 1.33450\n",
      "Epoch: 024 | Train Loss: 0.89130 | Val Loss: 1.31919\n",
      "Epoch: 025 | Train Loss: 0.84542 | Val Loss: 1.34435\n",
      "Epoch: 026 | Train Loss: 0.80694 | Val Loss: 1.34197\n",
      "Epoch: 027 | Train Loss: 0.77697 | Val Loss: 1.32065\n",
      "Epoch: 028 | Train Loss: 0.71694 | Val Loss: 1.33956\n",
      "Epoch: 029 | Train Loss: 0.68714 | Val Loss: 1.34401\n",
      "Epoch: 030 | Train Loss: 0.65956 | Val Loss: 1.33990\n",
      "Test Accuracy: 56.68%\n"
     ]
    },
    {
     "data": {
      "text/html": [],
      "text/plain": [
       "<IPython.core.display.HTML object>"
      ]
     },
     "metadata": {},
     "output_type": "display_data"
    },
    {
     "data": {
      "text/html": [
       "<br>    <style><br>        .wandb-row {<br>            display: flex;<br>            flex-direction: row;<br>            flex-wrap: wrap;<br>            justify-content: flex-start;<br>            width: 100%;<br>        }<br>        .wandb-col {<br>            display: flex;<br>            flex-direction: column;<br>            flex-basis: 100%;<br>            flex: 1;<br>            padding: 10px;<br>        }<br>    </style><br><div class=\"wandb-row\"><div class=\"wandb-col\"><h3>Run history:</h3><br/><table class=\"wandb\"><tr><td>test_accuracy</td><td>▁</td></tr><tr><td>test_loss</td><td>▁</td></tr></table><br/></div><div class=\"wandb-col\"><h3>Run summary:</h3><br/><table class=\"wandb\"><tr><td>test_accuracy</td><td>56.68251</td></tr><tr><td>test_loss</td><td>1.31891</td></tr></table><br/></div></div>"
      ],
      "text/plain": [
       "<IPython.core.display.HTML object>"
      ]
     },
     "metadata": {},
     "output_type": "display_data"
    },
    {
     "data": {
      "text/html": [
       " View run <strong style=\"color:#cdcd00\">rare-sweep-8</strong> at: <a href='https://wandb.ai/joacoguerrae-ort/%5Bwandb-labo1-guerra-sanes%5D/runs/v8sq7wmo' target=\"_blank\">https://wandb.ai/joacoguerrae-ort/%5Bwandb-labo1-guerra-sanes%5D/runs/v8sq7wmo</a><br> View project at: <a href='https://wandb.ai/joacoguerrae-ort/%5Bwandb-labo1-guerra-sanes%5D' target=\"_blank\">https://wandb.ai/joacoguerrae-ort/%5Bwandb-labo1-guerra-sanes%5D</a><br>Synced 5 W&B file(s), 0 media file(s), 0 artifact file(s) and 0 other file(s)"
      ],
      "text/plain": [
       "<IPython.core.display.HTML object>"
      ]
     },
     "metadata": {},
     "output_type": "display_data"
    },
    {
     "data": {
      "text/html": [
       "Find logs at: <code>./wandb/run-20251004_213633-v8sq7wmo/logs</code>"
      ],
      "text/plain": [
       "<IPython.core.display.HTML object>"
      ]
     },
     "metadata": {},
     "output_type": "display_data"
    },
    {
     "name": "stderr",
     "output_type": "stream",
     "text": [
      "\u001b[34m\u001b[1mwandb\u001b[0m: Agent Starting Run: 6ehbugwh with config:\n",
      "\u001b[34m\u001b[1mwandb\u001b[0m: \tbatch_size: 256\n",
      "\u001b[34m\u001b[1mwandb\u001b[0m: \tdropout_rate: 0.33776662901783805\n",
      "\u001b[34m\u001b[1mwandb\u001b[0m: \tepochs: 30\n",
      "\u001b[34m\u001b[1mwandb\u001b[0m: \tlearning_rate: 0.0026304197381293664\n",
      "\u001b[34m\u001b[1mwandb\u001b[0m: \tmomentum: 0.919389419703244\n",
      "\u001b[34m\u001b[1mwandb\u001b[0m: \toptimizer: adam\n",
      "\u001b[34m\u001b[1mwandb\u001b[0m: \tweight_decay: 0.00010724060705425164\n"
     ]
    },
    {
     "data": {
      "text/html": [],
      "text/plain": [
       "<IPython.core.display.HTML object>"
      ]
     },
     "metadata": {},
     "output_type": "display_data"
    },
    {
     "data": {
      "text/html": [
       "Tracking run with wandb version 0.22.1"
      ],
      "text/plain": [
       "<IPython.core.display.HTML object>"
      ]
     },
     "metadata": {},
     "output_type": "display_data"
    },
    {
     "data": {
      "text/html": [
       "Run data is saved locally in <code>/home/rami/Documents/ORT/taller_dl/tarea_1/wandb/run-20251004_214347-6ehbugwh</code>"
      ],
      "text/plain": [
       "<IPython.core.display.HTML object>"
      ]
     },
     "metadata": {},
     "output_type": "display_data"
    },
    {
     "data": {
      "text/html": [
       "Syncing run <strong><a href='https://wandb.ai/joacoguerrae-ort/%5Bwandb-labo1-guerra-sanes%5D/runs/6ehbugwh' target=\"_blank\">kind-sweep-9</a></strong> to <a href='https://wandb.ai/joacoguerrae-ort/%5Bwandb-labo1-guerra-sanes%5D' target=\"_blank\">Weights & Biases</a> (<a href='https://wandb.me/developer-guide' target=\"_blank\">docs</a>)<br>Sweep page: <a href='https://wandb.ai/joacoguerrae-ort/%5Bwandb-labo1-guerra-sanes%5D/sweeps/9zt0jvn4' target=\"_blank\">https://wandb.ai/joacoguerrae-ort/%5Bwandb-labo1-guerra-sanes%5D/sweeps/9zt0jvn4</a>"
      ],
      "text/plain": [
       "<IPython.core.display.HTML object>"
      ]
     },
     "metadata": {},
     "output_type": "display_data"
    },
    {
     "data": {
      "text/html": [
       " View project at <a href='https://wandb.ai/joacoguerrae-ort/%5Bwandb-labo1-guerra-sanes%5D' target=\"_blank\">https://wandb.ai/joacoguerrae-ort/%5Bwandb-labo1-guerra-sanes%5D</a>"
      ],
      "text/plain": [
       "<IPython.core.display.HTML object>"
      ]
     },
     "metadata": {},
     "output_type": "display_data"
    },
    {
     "data": {
      "text/html": [
       " View sweep at <a href='https://wandb.ai/joacoguerrae-ort/%5Bwandb-labo1-guerra-sanes%5D/sweeps/9zt0jvn4' target=\"_blank\">https://wandb.ai/joacoguerrae-ort/%5Bwandb-labo1-guerra-sanes%5D/sweeps/9zt0jvn4</a>"
      ],
      "text/plain": [
       "<IPython.core.display.HTML object>"
      ]
     },
     "metadata": {},
     "output_type": "display_data"
    },
    {
     "data": {
      "text/html": [
       " View run at <a href='https://wandb.ai/joacoguerrae-ort/%5Bwandb-labo1-guerra-sanes%5D/runs/6ehbugwh' target=\"_blank\">https://wandb.ai/joacoguerrae-ort/%5Bwandb-labo1-guerra-sanes%5D/runs/6ehbugwh</a>"
      ],
      "text/plain": [
       "<IPython.core.display.HTML object>"
      ]
     },
     "metadata": {},
     "output_type": "display_data"
    },
    {
     "name": "stdout",
     "output_type": "stream",
     "text": [
      "Epoch: 001 | Train Loss: 1.96100 | Val Loss: 3.22287\n",
      "Epoch: 002 | Train Loss: 1.68094 | Val Loss: 1.83062\n",
      "Epoch: 003 | Train Loss: 1.51626 | Val Loss: 1.46312\n",
      "Epoch: 004 | Train Loss: 1.35616 | Val Loss: 1.33103\n",
      "Epoch: 005 | Train Loss: 1.23478 | Val Loss: 1.40511\n",
      "Epoch: 006 | Train Loss: 1.12643 | Val Loss: 1.27953\n",
      "Epoch: 007 | Train Loss: 0.96118 | Val Loss: 1.25520\n",
      "Epoch: 008 | Train Loss: 0.86051 | Val Loss: 1.32968\n",
      "Epoch: 009 | Train Loss: 0.71942 | Val Loss: 1.24991\n",
      "Epoch: 010 | Train Loss: 0.58313 | Val Loss: 1.44002\n",
      "Epoch: 011 | Train Loss: 0.48412 | Val Loss: 1.44659\n",
      "Epoch: 012 | Train Loss: 0.40274 | Val Loss: 1.51874\n",
      "Epoch: 013 | Train Loss: 0.35020 | Val Loss: 1.57856\n",
      "Epoch: 014 | Train Loss: 0.30342 | Val Loss: 1.64537\n",
      "Epoch: 015 | Train Loss: 0.27887 | Val Loss: 1.68256\n",
      "Epoch: 016 | Train Loss: 0.23887 | Val Loss: 1.64436\n",
      "Epoch: 017 | Train Loss: 0.21626 | Val Loss: 1.72414\n",
      "Epoch: 018 | Train Loss: 0.19827 | Val Loss: 1.80367\n",
      "Epoch: 019 | Train Loss: 0.16417 | Val Loss: 1.69181\n",
      "Detener entrenamiento en la época 18, la mejor pérdida fue 1.24991\n",
      "Test Accuracy: 60.75%\n"
     ]
    },
    {
     "data": {
      "text/html": [],
      "text/plain": [
       "<IPython.core.display.HTML object>"
      ]
     },
     "metadata": {},
     "output_type": "display_data"
    },
    {
     "data": {
      "text/html": [
       "<br>    <style><br>        .wandb-row {<br>            display: flex;<br>            flex-direction: row;<br>            flex-wrap: wrap;<br>            justify-content: flex-start;<br>            width: 100%;<br>        }<br>        .wandb-col {<br>            display: flex;<br>            flex-direction: column;<br>            flex-basis: 100%;<br>            flex: 1;<br>            padding: 10px;<br>        }<br>    </style><br><div class=\"wandb-row\"><div class=\"wandb-col\"><h3>Run history:</h3><br/><table class=\"wandb\"><tr><td>test_accuracy</td><td>▁</td></tr><tr><td>test_loss</td><td>▁</td></tr></table><br/></div><div class=\"wandb-col\"><h3>Run summary:</h3><br/><table class=\"wandb\"><tr><td>test_accuracy</td><td>60.75013</td></tr><tr><td>test_loss</td><td>1.62692</td></tr></table><br/></div></div>"
      ],
      "text/plain": [
       "<IPython.core.display.HTML object>"
      ]
     },
     "metadata": {},
     "output_type": "display_data"
    },
    {
     "data": {
      "text/html": [
       " View run <strong style=\"color:#cdcd00\">kind-sweep-9</strong> at: <a href='https://wandb.ai/joacoguerrae-ort/%5Bwandb-labo1-guerra-sanes%5D/runs/6ehbugwh' target=\"_blank\">https://wandb.ai/joacoguerrae-ort/%5Bwandb-labo1-guerra-sanes%5D/runs/6ehbugwh</a><br> View project at: <a href='https://wandb.ai/joacoguerrae-ort/%5Bwandb-labo1-guerra-sanes%5D' target=\"_blank\">https://wandb.ai/joacoguerrae-ort/%5Bwandb-labo1-guerra-sanes%5D</a><br>Synced 5 W&B file(s), 0 media file(s), 0 artifact file(s) and 0 other file(s)"
      ],
      "text/plain": [
       "<IPython.core.display.HTML object>"
      ]
     },
     "metadata": {},
     "output_type": "display_data"
    },
    {
     "data": {
      "text/html": [
       "Find logs at: <code>./wandb/run-20251004_214347-6ehbugwh/logs</code>"
      ],
      "text/plain": [
       "<IPython.core.display.HTML object>"
      ]
     },
     "metadata": {},
     "output_type": "display_data"
    },
    {
     "name": "stderr",
     "output_type": "stream",
     "text": [
      "\u001b[34m\u001b[1mwandb\u001b[0m: Agent Starting Run: v43724f7 with config:\n",
      "\u001b[34m\u001b[1mwandb\u001b[0m: \tbatch_size: 64\n",
      "\u001b[34m\u001b[1mwandb\u001b[0m: \tdropout_rate: 0.2637780201057893\n",
      "\u001b[34m\u001b[1mwandb\u001b[0m: \tepochs: 30\n",
      "\u001b[34m\u001b[1mwandb\u001b[0m: \tlearning_rate: 0.001918036371349876\n",
      "\u001b[34m\u001b[1mwandb\u001b[0m: \tmomentum: 0.8839769398125974\n",
      "\u001b[34m\u001b[1mwandb\u001b[0m: \toptimizer: sgd\n",
      "\u001b[34m\u001b[1mwandb\u001b[0m: \tweight_decay: 1.5349741958261074e-05\n"
     ]
    },
    {
     "data": {
      "text/html": [],
      "text/plain": [
       "<IPython.core.display.HTML object>"
      ]
     },
     "metadata": {},
     "output_type": "display_data"
    },
    {
     "data": {
      "text/html": [
       "Tracking run with wandb version 0.22.1"
      ],
      "text/plain": [
       "<IPython.core.display.HTML object>"
      ]
     },
     "metadata": {},
     "output_type": "display_data"
    },
    {
     "data": {
      "text/html": [
       "Run data is saved locally in <code>/home/rami/Documents/ORT/taller_dl/tarea_1/wandb/run-20251004_214839-v43724f7</code>"
      ],
      "text/plain": [
       "<IPython.core.display.HTML object>"
      ]
     },
     "metadata": {},
     "output_type": "display_data"
    },
    {
     "data": {
      "text/html": [
       "Syncing run <strong><a href='https://wandb.ai/joacoguerrae-ort/%5Bwandb-labo1-guerra-sanes%5D/runs/v43724f7' target=\"_blank\">soft-sweep-10</a></strong> to <a href='https://wandb.ai/joacoguerrae-ort/%5Bwandb-labo1-guerra-sanes%5D' target=\"_blank\">Weights & Biases</a> (<a href='https://wandb.me/developer-guide' target=\"_blank\">docs</a>)<br>Sweep page: <a href='https://wandb.ai/joacoguerrae-ort/%5Bwandb-labo1-guerra-sanes%5D/sweeps/9zt0jvn4' target=\"_blank\">https://wandb.ai/joacoguerrae-ort/%5Bwandb-labo1-guerra-sanes%5D/sweeps/9zt0jvn4</a>"
      ],
      "text/plain": [
       "<IPython.core.display.HTML object>"
      ]
     },
     "metadata": {},
     "output_type": "display_data"
    },
    {
     "data": {
      "text/html": [
       " View project at <a href='https://wandb.ai/joacoguerrae-ort/%5Bwandb-labo1-guerra-sanes%5D' target=\"_blank\">https://wandb.ai/joacoguerrae-ort/%5Bwandb-labo1-guerra-sanes%5D</a>"
      ],
      "text/plain": [
       "<IPython.core.display.HTML object>"
      ]
     },
     "metadata": {},
     "output_type": "display_data"
    },
    {
     "data": {
      "text/html": [
       " View sweep at <a href='https://wandb.ai/joacoguerrae-ort/%5Bwandb-labo1-guerra-sanes%5D/sweeps/9zt0jvn4' target=\"_blank\">https://wandb.ai/joacoguerrae-ort/%5Bwandb-labo1-guerra-sanes%5D/sweeps/9zt0jvn4</a>"
      ],
      "text/plain": [
       "<IPython.core.display.HTML object>"
      ]
     },
     "metadata": {},
     "output_type": "display_data"
    },
    {
     "data": {
      "text/html": [
       " View run at <a href='https://wandb.ai/joacoguerrae-ort/%5Bwandb-labo1-guerra-sanes%5D/runs/v43724f7' target=\"_blank\">https://wandb.ai/joacoguerrae-ort/%5Bwandb-labo1-guerra-sanes%5D/runs/v43724f7</a>"
      ],
      "text/plain": [
       "<IPython.core.display.HTML object>"
      ]
     },
     "metadata": {},
     "output_type": "display_data"
    },
    {
     "name": "stdout",
     "output_type": "stream",
     "text": [
      "Epoch: 001 | Train Loss: 1.93487 | Val Loss: 1.72123\n",
      "Epoch: 002 | Train Loss: 1.65266 | Val Loss: 1.58040\n",
      "Epoch: 003 | Train Loss: 1.47134 | Val Loss: 1.40031\n",
      "Epoch: 004 | Train Loss: 1.34310 | Val Loss: 1.32520\n",
      "Epoch: 005 | Train Loss: 1.22398 | Val Loss: 1.33949\n",
      "Epoch: 006 | Train Loss: 1.10537 | Val Loss: 1.31826\n",
      "Epoch: 007 | Train Loss: 0.98604 | Val Loss: 1.26690\n",
      "Epoch: 008 | Train Loss: 0.86385 | Val Loss: 1.30491\n",
      "Epoch: 009 | Train Loss: 0.75775 | Val Loss: 1.28810\n",
      "Epoch: 010 | Train Loss: 0.62983 | Val Loss: 1.41340\n",
      "Epoch: 011 | Train Loss: 0.52544 | Val Loss: 1.59336\n",
      "Epoch: 012 | Train Loss: 0.44476 | Val Loss: 1.43638\n",
      "Epoch: 013 | Train Loss: 0.35949 | Val Loss: 1.47385\n",
      "Epoch: 014 | Train Loss: 0.28848 | Val Loss: 1.55322\n",
      "Epoch: 015 | Train Loss: 0.26117 | Val Loss: 1.51482\n",
      "Epoch: 016 | Train Loss: 0.21441 | Val Loss: 1.65668\n",
      "Epoch: 017 | Train Loss: 0.18824 | Val Loss: 1.71097\n",
      "Detener entrenamiento en la época 16, la mejor pérdida fue 1.26690\n",
      "Test Accuracy: 57.05%\n"
     ]
    },
    {
     "data": {
      "text/html": [],
      "text/plain": [
       "<IPython.core.display.HTML object>"
      ]
     },
     "metadata": {},
     "output_type": "display_data"
    },
    {
     "data": {
      "text/html": [
       "<br>    <style><br>        .wandb-row {<br>            display: flex;<br>            flex-direction: row;<br>            flex-wrap: wrap;<br>            justify-content: flex-start;<br>            width: 100%;<br>        }<br>        .wandb-col {<br>            display: flex;<br>            flex-direction: column;<br>            flex-basis: 100%;<br>            flex: 1;<br>            padding: 10px;<br>        }<br>    </style><br><div class=\"wandb-row\"><div class=\"wandb-col\"><h3>Run history:</h3><br/><table class=\"wandb\"><tr><td>test_accuracy</td><td>▁</td></tr><tr><td>test_loss</td><td>▁</td></tr></table><br/></div><div class=\"wandb-col\"><h3>Run summary:</h3><br/><table class=\"wandb\"><tr><td>test_accuracy</td><td>57.0523</td></tr><tr><td>test_loss</td><td>1.65015</td></tr></table><br/></div></div>"
      ],
      "text/plain": [
       "<IPython.core.display.HTML object>"
      ]
     },
     "metadata": {},
     "output_type": "display_data"
    },
    {
     "data": {
      "text/html": [
       " View run <strong style=\"color:#cdcd00\">soft-sweep-10</strong> at: <a href='https://wandb.ai/joacoguerrae-ort/%5Bwandb-labo1-guerra-sanes%5D/runs/v43724f7' target=\"_blank\">https://wandb.ai/joacoguerrae-ort/%5Bwandb-labo1-guerra-sanes%5D/runs/v43724f7</a><br> View project at: <a href='https://wandb.ai/joacoguerrae-ort/%5Bwandb-labo1-guerra-sanes%5D' target=\"_blank\">https://wandb.ai/joacoguerrae-ort/%5Bwandb-labo1-guerra-sanes%5D</a><br>Synced 5 W&B file(s), 0 media file(s), 0 artifact file(s) and 0 other file(s)"
      ],
      "text/plain": [
       "<IPython.core.display.HTML object>"
      ]
     },
     "metadata": {},
     "output_type": "display_data"
    },
    {
     "data": {
      "text/html": [
       "Find logs at: <code>./wandb/run-20251004_214839-v43724f7/logs</code>"
      ],
      "text/plain": [
       "<IPython.core.display.HTML object>"
      ]
     },
     "metadata": {},
     "output_type": "display_data"
    },
    {
     "name": "stderr",
     "output_type": "stream",
     "text": [
      "\u001b[34m\u001b[1mwandb\u001b[0m: Agent Starting Run: irijnys2 with config:\n",
      "\u001b[34m\u001b[1mwandb\u001b[0m: \tbatch_size: 32\n",
      "\u001b[34m\u001b[1mwandb\u001b[0m: \tdropout_rate: 0.20063443537725725\n",
      "\u001b[34m\u001b[1mwandb\u001b[0m: \tepochs: 30\n",
      "\u001b[34m\u001b[1mwandb\u001b[0m: \tlearning_rate: 3.510797760177879e-05\n",
      "\u001b[34m\u001b[1mwandb\u001b[0m: \tmomentum: 0.9343178047931452\n",
      "\u001b[34m\u001b[1mwandb\u001b[0m: \toptimizer: adam\n",
      "\u001b[34m\u001b[1mwandb\u001b[0m: \tweight_decay: 5.0685360643751215e-06\n"
     ]
    },
    {
     "data": {
      "text/html": [],
      "text/plain": [
       "<IPython.core.display.HTML object>"
      ]
     },
     "metadata": {},
     "output_type": "display_data"
    },
    {
     "data": {
      "text/html": [
       "Tracking run with wandb version 0.22.1"
      ],
      "text/plain": [
       "<IPython.core.display.HTML object>"
      ]
     },
     "metadata": {},
     "output_type": "display_data"
    },
    {
     "data": {
      "text/html": [
       "Run data is saved locally in <code>/home/rami/Documents/ORT/taller_dl/tarea_1/wandb/run-20251004_215250-irijnys2</code>"
      ],
      "text/plain": [
       "<IPython.core.display.HTML object>"
      ]
     },
     "metadata": {},
     "output_type": "display_data"
    },
    {
     "data": {
      "text/html": [
       "Syncing run <strong><a href='https://wandb.ai/joacoguerrae-ort/%5Bwandb-labo1-guerra-sanes%5D/runs/irijnys2' target=\"_blank\">driven-sweep-11</a></strong> to <a href='https://wandb.ai/joacoguerrae-ort/%5Bwandb-labo1-guerra-sanes%5D' target=\"_blank\">Weights & Biases</a> (<a href='https://wandb.me/developer-guide' target=\"_blank\">docs</a>)<br>Sweep page: <a href='https://wandb.ai/joacoguerrae-ort/%5Bwandb-labo1-guerra-sanes%5D/sweeps/9zt0jvn4' target=\"_blank\">https://wandb.ai/joacoguerrae-ort/%5Bwandb-labo1-guerra-sanes%5D/sweeps/9zt0jvn4</a>"
      ],
      "text/plain": [
       "<IPython.core.display.HTML object>"
      ]
     },
     "metadata": {},
     "output_type": "display_data"
    },
    {
     "data": {
      "text/html": [
       " View project at <a href='https://wandb.ai/joacoguerrae-ort/%5Bwandb-labo1-guerra-sanes%5D' target=\"_blank\">https://wandb.ai/joacoguerrae-ort/%5Bwandb-labo1-guerra-sanes%5D</a>"
      ],
      "text/plain": [
       "<IPython.core.display.HTML object>"
      ]
     },
     "metadata": {},
     "output_type": "display_data"
    },
    {
     "data": {
      "text/html": [
       " View sweep at <a href='https://wandb.ai/joacoguerrae-ort/%5Bwandb-labo1-guerra-sanes%5D/sweeps/9zt0jvn4' target=\"_blank\">https://wandb.ai/joacoguerrae-ort/%5Bwandb-labo1-guerra-sanes%5D/sweeps/9zt0jvn4</a>"
      ],
      "text/plain": [
       "<IPython.core.display.HTML object>"
      ]
     },
     "metadata": {},
     "output_type": "display_data"
    },
    {
     "data": {
      "text/html": [
       " View run at <a href='https://wandb.ai/joacoguerrae-ort/%5Bwandb-labo1-guerra-sanes%5D/runs/irijnys2' target=\"_blank\">https://wandb.ai/joacoguerrae-ort/%5Bwandb-labo1-guerra-sanes%5D/runs/irijnys2</a>"
      ],
      "text/plain": [
       "<IPython.core.display.HTML object>"
      ]
     },
     "metadata": {},
     "output_type": "display_data"
    },
    {
     "name": "stdout",
     "output_type": "stream",
     "text": [
      "Epoch: 001 | Train Loss: 1.94433 | Val Loss: 1.76200\n",
      "Epoch: 002 | Train Loss: 1.70663 | Val Loss: 1.65046\n",
      "Epoch: 003 | Train Loss: 1.58199 | Val Loss: 1.59252\n",
      "Epoch: 004 | Train Loss: 1.48323 | Val Loss: 1.51201\n",
      "Epoch: 005 | Train Loss: 1.38446 | Val Loss: 1.48800\n",
      "Epoch: 006 | Train Loss: 1.28932 | Val Loss: 1.41817\n",
      "Epoch: 007 | Train Loss: 1.16967 | Val Loss: 1.38834\n",
      "Epoch: 008 | Train Loss: 1.06385 | Val Loss: 1.38236\n",
      "Epoch: 009 | Train Loss: 0.96342 | Val Loss: 1.38848\n",
      "Epoch: 010 | Train Loss: 0.85749 | Val Loss: 1.37878\n",
      "Epoch: 011 | Train Loss: 0.74901 | Val Loss: 1.35690\n",
      "Epoch: 012 | Train Loss: 0.65360 | Val Loss: 1.38599\n",
      "Epoch: 013 | Train Loss: 0.55411 | Val Loss: 1.42242\n",
      "Epoch: 014 | Train Loss: 0.48370 | Val Loss: 1.38902\n",
      "Epoch: 015 | Train Loss: 0.41788 | Val Loss: 1.43620\n",
      "Epoch: 016 | Train Loss: 0.34889 | Val Loss: 1.47538\n",
      "Epoch: 017 | Train Loss: 0.29473 | Val Loss: 1.46380\n",
      "Epoch: 018 | Train Loss: 0.27130 | Val Loss: 1.52313\n",
      "Epoch: 019 | Train Loss: 0.23145 | Val Loss: 1.48689\n",
      "Epoch: 020 | Train Loss: 0.19903 | Val Loss: 1.50629\n",
      "Epoch: 021 | Train Loss: 0.18361 | Val Loss: 1.57227\n",
      "Detener entrenamiento en la época 20, la mejor pérdida fue 1.35690\n",
      "Test Accuracy: 53.35%\n"
     ]
    },
    {
     "data": {
      "text/html": [],
      "text/plain": [
       "<IPython.core.display.HTML object>"
      ]
     },
     "metadata": {},
     "output_type": "display_data"
    },
    {
     "data": {
      "text/html": [
       "<br>    <style><br>        .wandb-row {<br>            display: flex;<br>            flex-direction: row;<br>            flex-wrap: wrap;<br>            justify-content: flex-start;<br>            width: 100%;<br>        }<br>        .wandb-col {<br>            display: flex;<br>            flex-direction: column;<br>            flex-basis: 100%;<br>            flex: 1;<br>            padding: 10px;<br>        }<br>    </style><br><div class=\"wandb-row\"><div class=\"wandb-col\"><h3>Run history:</h3><br/><table class=\"wandb\"><tr><td>test_accuracy</td><td>▁</td></tr><tr><td>test_loss</td><td>▁</td></tr></table><br/></div><div class=\"wandb-col\"><h3>Run summary:</h3><br/><table class=\"wandb\"><tr><td>test_accuracy</td><td>53.35446</td></tr><tr><td>test_loss</td><td>1.53338</td></tr></table><br/></div></div>"
      ],
      "text/plain": [
       "<IPython.core.display.HTML object>"
      ]
     },
     "metadata": {},
     "output_type": "display_data"
    },
    {
     "data": {
      "text/html": [
       " View run <strong style=\"color:#cdcd00\">driven-sweep-11</strong> at: <a href='https://wandb.ai/joacoguerrae-ort/%5Bwandb-labo1-guerra-sanes%5D/runs/irijnys2' target=\"_blank\">https://wandb.ai/joacoguerrae-ort/%5Bwandb-labo1-guerra-sanes%5D/runs/irijnys2</a><br> View project at: <a href='https://wandb.ai/joacoguerrae-ort/%5Bwandb-labo1-guerra-sanes%5D' target=\"_blank\">https://wandb.ai/joacoguerrae-ort/%5Bwandb-labo1-guerra-sanes%5D</a><br>Synced 5 W&B file(s), 0 media file(s), 0 artifact file(s) and 0 other file(s)"
      ],
      "text/plain": [
       "<IPython.core.display.HTML object>"
      ]
     },
     "metadata": {},
     "output_type": "display_data"
    },
    {
     "data": {
      "text/html": [
       "Find logs at: <code>./wandb/run-20251004_215250-irijnys2/logs</code>"
      ],
      "text/plain": [
       "<IPython.core.display.HTML object>"
      ]
     },
     "metadata": {},
     "output_type": "display_data"
    },
    {
     "name": "stderr",
     "output_type": "stream",
     "text": [
      "\u001b[34m\u001b[1mwandb\u001b[0m: Agent Starting Run: pkt987es with config:\n",
      "\u001b[34m\u001b[1mwandb\u001b[0m: \tbatch_size: 256\n",
      "\u001b[34m\u001b[1mwandb\u001b[0m: \tdropout_rate: 0.6713168865340162\n",
      "\u001b[34m\u001b[1mwandb\u001b[0m: \tepochs: 30\n",
      "\u001b[34m\u001b[1mwandb\u001b[0m: \tlearning_rate: 0.0006033767868740154\n",
      "\u001b[34m\u001b[1mwandb\u001b[0m: \tmomentum: 0.8648065444739511\n",
      "\u001b[34m\u001b[1mwandb\u001b[0m: \toptimizer: sgd\n",
      "\u001b[34m\u001b[1mwandb\u001b[0m: \tweight_decay: 0.0008347941738467924\n"
     ]
    },
    {
     "data": {
      "text/html": [],
      "text/plain": [
       "<IPython.core.display.HTML object>"
      ]
     },
     "metadata": {},
     "output_type": "display_data"
    },
    {
     "data": {
      "text/html": [
       "Tracking run with wandb version 0.22.1"
      ],
      "text/plain": [
       "<IPython.core.display.HTML object>"
      ]
     },
     "metadata": {},
     "output_type": "display_data"
    },
    {
     "data": {
      "text/html": [
       "Run data is saved locally in <code>/home/rami/Documents/ORT/taller_dl/tarea_1/wandb/run-20251004_215819-pkt987es</code>"
      ],
      "text/plain": [
       "<IPython.core.display.HTML object>"
      ]
     },
     "metadata": {},
     "output_type": "display_data"
    },
    {
     "data": {
      "text/html": [
       "Syncing run <strong><a href='https://wandb.ai/joacoguerrae-ort/%5Bwandb-labo1-guerra-sanes%5D/runs/pkt987es' target=\"_blank\">autumn-sweep-12</a></strong> to <a href='https://wandb.ai/joacoguerrae-ort/%5Bwandb-labo1-guerra-sanes%5D' target=\"_blank\">Weights & Biases</a> (<a href='https://wandb.me/developer-guide' target=\"_blank\">docs</a>)<br>Sweep page: <a href='https://wandb.ai/joacoguerrae-ort/%5Bwandb-labo1-guerra-sanes%5D/sweeps/9zt0jvn4' target=\"_blank\">https://wandb.ai/joacoguerrae-ort/%5Bwandb-labo1-guerra-sanes%5D/sweeps/9zt0jvn4</a>"
      ],
      "text/plain": [
       "<IPython.core.display.HTML object>"
      ]
     },
     "metadata": {},
     "output_type": "display_data"
    },
    {
     "data": {
      "text/html": [
       " View project at <a href='https://wandb.ai/joacoguerrae-ort/%5Bwandb-labo1-guerra-sanes%5D' target=\"_blank\">https://wandb.ai/joacoguerrae-ort/%5Bwandb-labo1-guerra-sanes%5D</a>"
      ],
      "text/plain": [
       "<IPython.core.display.HTML object>"
      ]
     },
     "metadata": {},
     "output_type": "display_data"
    },
    {
     "data": {
      "text/html": [
       " View sweep at <a href='https://wandb.ai/joacoguerrae-ort/%5Bwandb-labo1-guerra-sanes%5D/sweeps/9zt0jvn4' target=\"_blank\">https://wandb.ai/joacoguerrae-ort/%5Bwandb-labo1-guerra-sanes%5D/sweeps/9zt0jvn4</a>"
      ],
      "text/plain": [
       "<IPython.core.display.HTML object>"
      ]
     },
     "metadata": {},
     "output_type": "display_data"
    },
    {
     "data": {
      "text/html": [
       " View run at <a href='https://wandb.ai/joacoguerrae-ort/%5Bwandb-labo1-guerra-sanes%5D/runs/pkt987es' target=\"_blank\">https://wandb.ai/joacoguerrae-ort/%5Bwandb-labo1-guerra-sanes%5D/runs/pkt987es</a>"
      ],
      "text/plain": [
       "<IPython.core.display.HTML object>"
      ]
     },
     "metadata": {},
     "output_type": "display_data"
    },
    {
     "name": "stdout",
     "output_type": "stream",
     "text": [
      "Epoch: 001 | Train Loss: 2.39371 | Val Loss: 2.35368\n",
      "Epoch: 002 | Train Loss: 2.20715 | Val Loss: 2.08257\n",
      "Epoch: 003 | Train Loss: 2.15191 | Val Loss: 1.93878\n",
      "Epoch: 004 | Train Loss: 2.08688 | Val Loss: 1.89481\n",
      "Epoch: 005 | Train Loss: 2.05035 | Val Loss: 1.85961\n",
      "Epoch: 006 | Train Loss: 2.01447 | Val Loss: 1.84029\n",
      "Epoch: 007 | Train Loss: 1.98033 | Val Loss: 1.80873\n",
      "Epoch: 008 | Train Loss: 1.95271 | Val Loss: 1.79096\n",
      "Epoch: 009 | Train Loss: 1.92389 | Val Loss: 1.77032\n",
      "Epoch: 010 | Train Loss: 1.90194 | Val Loss: 1.75458\n",
      "Epoch: 011 | Train Loss: 1.88817 | Val Loss: 1.73419\n",
      "Epoch: 012 | Train Loss: 1.87997 | Val Loss: 1.72217\n",
      "Epoch: 013 | Train Loss: 1.84472 | Val Loss: 1.70780\n",
      "Epoch: 014 | Train Loss: 1.82464 | Val Loss: 1.69848\n",
      "Epoch: 015 | Train Loss: 1.80215 | Val Loss: 1.68918\n",
      "Epoch: 016 | Train Loss: 1.80772 | Val Loss: 1.67325\n",
      "Epoch: 017 | Train Loss: 1.77180 | Val Loss: 1.66523\n",
      "Epoch: 018 | Train Loss: 1.77136 | Val Loss: 1.66247\n",
      "Epoch: 019 | Train Loss: 1.74503 | Val Loss: 1.64676\n",
      "Epoch: 020 | Train Loss: 1.73866 | Val Loss: 1.63080\n",
      "Epoch: 021 | Train Loss: 1.71655 | Val Loss: 1.62247\n",
      "Epoch: 022 | Train Loss: 1.71922 | Val Loss: 1.61719\n",
      "Epoch: 023 | Train Loss: 1.70079 | Val Loss: 1.60563\n",
      "Epoch: 024 | Train Loss: 1.68835 | Val Loss: 1.59099\n",
      "Epoch: 025 | Train Loss: 1.67522 | Val Loss: 1.58681\n",
      "Epoch: 026 | Train Loss: 1.66462 | Val Loss: 1.57480\n",
      "Epoch: 027 | Train Loss: 1.65119 | Val Loss: 1.56853\n",
      "Epoch: 028 | Train Loss: 1.63888 | Val Loss: 1.56163\n",
      "Epoch: 029 | Train Loss: 1.63446 | Val Loss: 1.55090\n",
      "Epoch: 030 | Train Loss: 1.61869 | Val Loss: 1.54970\n",
      "Test Accuracy: 47.12%\n"
     ]
    },
    {
     "data": {
      "text/html": [],
      "text/plain": [
       "<IPython.core.display.HTML object>"
      ]
     },
     "metadata": {},
     "output_type": "display_data"
    },
    {
     "data": {
      "text/html": [
       "<br>    <style><br>        .wandb-row {<br>            display: flex;<br>            flex-direction: row;<br>            flex-wrap: wrap;<br>            justify-content: flex-start;<br>            width: 100%;<br>        }<br>        .wandb-col {<br>            display: flex;<br>            flex-direction: column;<br>            flex-basis: 100%;<br>            flex: 1;<br>            padding: 10px;<br>        }<br>    </style><br><div class=\"wandb-row\"><div class=\"wandb-col\"><h3>Run history:</h3><br/><table class=\"wandb\"><tr><td>test_accuracy</td><td>▁</td></tr><tr><td>test_loss</td><td>▁</td></tr></table><br/></div><div class=\"wandb-col\"><h3>Run summary:</h3><br/><table class=\"wandb\"><tr><td>test_accuracy</td><td>47.12097</td></tr><tr><td>test_loss</td><td>1.56342</td></tr></table><br/></div></div>"
      ],
      "text/plain": [
       "<IPython.core.display.HTML object>"
      ]
     },
     "metadata": {},
     "output_type": "display_data"
    },
    {
     "data": {
      "text/html": [
       " View run <strong style=\"color:#cdcd00\">autumn-sweep-12</strong> at: <a href='https://wandb.ai/joacoguerrae-ort/%5Bwandb-labo1-guerra-sanes%5D/runs/pkt987es' target=\"_blank\">https://wandb.ai/joacoguerrae-ort/%5Bwandb-labo1-guerra-sanes%5D/runs/pkt987es</a><br> View project at: <a href='https://wandb.ai/joacoguerrae-ort/%5Bwandb-labo1-guerra-sanes%5D' target=\"_blank\">https://wandb.ai/joacoguerrae-ort/%5Bwandb-labo1-guerra-sanes%5D</a><br>Synced 5 W&B file(s), 0 media file(s), 0 artifact file(s) and 0 other file(s)"
      ],
      "text/plain": [
       "<IPython.core.display.HTML object>"
      ]
     },
     "metadata": {},
     "output_type": "display_data"
    },
    {
     "data": {
      "text/html": [
       "Find logs at: <code>./wandb/run-20251004_215819-pkt987es/logs</code>"
      ],
      "text/plain": [
       "<IPython.core.display.HTML object>"
      ]
     },
     "metadata": {},
     "output_type": "display_data"
    },
    {
     "name": "stderr",
     "output_type": "stream",
     "text": [
      "\u001b[34m\u001b[1mwandb\u001b[0m: Agent Starting Run: 17ndhn2m with config:\n",
      "\u001b[34m\u001b[1mwandb\u001b[0m: \tbatch_size: 64\n",
      "\u001b[34m\u001b[1mwandb\u001b[0m: \tdropout_rate: 0.387940100294486\n",
      "\u001b[34m\u001b[1mwandb\u001b[0m: \tepochs: 30\n",
      "\u001b[34m\u001b[1mwandb\u001b[0m: \tlearning_rate: 0.00037131466471471424\n",
      "\u001b[34m\u001b[1mwandb\u001b[0m: \tmomentum: 0.9258766930204856\n",
      "\u001b[34m\u001b[1mwandb\u001b[0m: \toptimizer: adam\n",
      "\u001b[34m\u001b[1mwandb\u001b[0m: \tweight_decay: 0.00045498116087157217\n"
     ]
    },
    {
     "data": {
      "text/html": [],
      "text/plain": [
       "<IPython.core.display.HTML object>"
      ]
     },
     "metadata": {},
     "output_type": "display_data"
    },
    {
     "data": {
      "text/html": [
       "Tracking run with wandb version 0.22.1"
      ],
      "text/plain": [
       "<IPython.core.display.HTML object>"
      ]
     },
     "metadata": {},
     "output_type": "display_data"
    },
    {
     "data": {
      "text/html": [
       "Run data is saved locally in <code>/home/rami/Documents/ORT/taller_dl/tarea_1/wandb/run-20251004_220552-17ndhn2m</code>"
      ],
      "text/plain": [
       "<IPython.core.display.HTML object>"
      ]
     },
     "metadata": {},
     "output_type": "display_data"
    },
    {
     "data": {
      "text/html": [
       "Syncing run <strong><a href='https://wandb.ai/joacoguerrae-ort/%5Bwandb-labo1-guerra-sanes%5D/runs/17ndhn2m' target=\"_blank\">denim-sweep-13</a></strong> to <a href='https://wandb.ai/joacoguerrae-ort/%5Bwandb-labo1-guerra-sanes%5D' target=\"_blank\">Weights & Biases</a> (<a href='https://wandb.me/developer-guide' target=\"_blank\">docs</a>)<br>Sweep page: <a href='https://wandb.ai/joacoguerrae-ort/%5Bwandb-labo1-guerra-sanes%5D/sweeps/9zt0jvn4' target=\"_blank\">https://wandb.ai/joacoguerrae-ort/%5Bwandb-labo1-guerra-sanes%5D/sweeps/9zt0jvn4</a>"
      ],
      "text/plain": [
       "<IPython.core.display.HTML object>"
      ]
     },
     "metadata": {},
     "output_type": "display_data"
    },
    {
     "data": {
      "text/html": [
       " View project at <a href='https://wandb.ai/joacoguerrae-ort/%5Bwandb-labo1-guerra-sanes%5D' target=\"_blank\">https://wandb.ai/joacoguerrae-ort/%5Bwandb-labo1-guerra-sanes%5D</a>"
      ],
      "text/plain": [
       "<IPython.core.display.HTML object>"
      ]
     },
     "metadata": {},
     "output_type": "display_data"
    },
    {
     "data": {
      "text/html": [
       " View sweep at <a href='https://wandb.ai/joacoguerrae-ort/%5Bwandb-labo1-guerra-sanes%5D/sweeps/9zt0jvn4' target=\"_blank\">https://wandb.ai/joacoguerrae-ort/%5Bwandb-labo1-guerra-sanes%5D/sweeps/9zt0jvn4</a>"
      ],
      "text/plain": [
       "<IPython.core.display.HTML object>"
      ]
     },
     "metadata": {},
     "output_type": "display_data"
    },
    {
     "data": {
      "text/html": [
       " View run at <a href='https://wandb.ai/joacoguerrae-ort/%5Bwandb-labo1-guerra-sanes%5D/runs/17ndhn2m' target=\"_blank\">https://wandb.ai/joacoguerrae-ort/%5Bwandb-labo1-guerra-sanes%5D/runs/17ndhn2m</a>"
      ],
      "text/plain": [
       "<IPython.core.display.HTML object>"
      ]
     },
     "metadata": {},
     "output_type": "display_data"
    },
    {
     "name": "stdout",
     "output_type": "stream",
     "text": [
      "Epoch: 001 | Train Loss: 1.97098 | Val Loss: 1.70859\n",
      "Epoch: 002 | Train Loss: 1.67483 | Val Loss: 1.51497\n",
      "Epoch: 003 | Train Loss: 1.50747 | Val Loss: 1.40420\n",
      "Epoch: 004 | Train Loss: 1.35666 | Val Loss: 1.30789\n",
      "Epoch: 005 | Train Loss: 1.25020 | Val Loss: 1.29491\n",
      "Epoch: 006 | Train Loss: 1.10919 | Val Loss: 1.30914\n",
      "Epoch: 007 | Train Loss: 0.99223 | Val Loss: 1.28406\n",
      "Epoch: 008 | Train Loss: 0.86116 | Val Loss: 1.29754\n",
      "Epoch: 009 | Train Loss: 0.75009 | Val Loss: 1.32049\n",
      "Epoch: 010 | Train Loss: 0.64181 | Val Loss: 1.37620\n",
      "Epoch: 011 | Train Loss: 0.53768 | Val Loss: 1.43150\n",
      "Epoch: 012 | Train Loss: 0.47560 | Val Loss: 1.47639\n",
      "Epoch: 013 | Train Loss: 0.42024 | Val Loss: 1.49058\n",
      "Epoch: 014 | Train Loss: 0.35060 | Val Loss: 1.57049\n",
      "Epoch: 015 | Train Loss: 0.31205 | Val Loss: 1.62747\n",
      "Epoch: 016 | Train Loss: 0.27445 | Val Loss: 1.64496\n",
      "Epoch: 017 | Train Loss: 0.26372 | Val Loss: 1.62872\n",
      "Detener entrenamiento en la época 16, la mejor pérdida fue 1.28406\n",
      "Test Accuracy: 55.84%\n"
     ]
    },
    {
     "data": {
      "text/html": [],
      "text/plain": [
       "<IPython.core.display.HTML object>"
      ]
     },
     "metadata": {},
     "output_type": "display_data"
    },
    {
     "data": {
      "text/html": [
       "<br>    <style><br>        .wandb-row {<br>            display: flex;<br>            flex-direction: row;<br>            flex-wrap: wrap;<br>            justify-content: flex-start;<br>            width: 100%;<br>        }<br>        .wandb-col {<br>            display: flex;<br>            flex-direction: column;<br>            flex-basis: 100%;<br>            flex: 1;<br>            padding: 10px;<br>        }<br>    </style><br><div class=\"wandb-row\"><div class=\"wandb-col\"><h3>Run history:</h3><br/><table class=\"wandb\"><tr><td>test_accuracy</td><td>▁</td></tr><tr><td>test_loss</td><td>▁</td></tr></table><br/></div><div class=\"wandb-col\"><h3>Run summary:</h3><br/><table class=\"wandb\"><tr><td>test_accuracy</td><td>55.8373</td></tr><tr><td>test_loss</td><td>1.62294</td></tr></table><br/></div></div>"
      ],
      "text/plain": [
       "<IPython.core.display.HTML object>"
      ]
     },
     "metadata": {},
     "output_type": "display_data"
    },
    {
     "data": {
      "text/html": [
       " View run <strong style=\"color:#cdcd00\">denim-sweep-13</strong> at: <a href='https://wandb.ai/joacoguerrae-ort/%5Bwandb-labo1-guerra-sanes%5D/runs/17ndhn2m' target=\"_blank\">https://wandb.ai/joacoguerrae-ort/%5Bwandb-labo1-guerra-sanes%5D/runs/17ndhn2m</a><br> View project at: <a href='https://wandb.ai/joacoguerrae-ort/%5Bwandb-labo1-guerra-sanes%5D' target=\"_blank\">https://wandb.ai/joacoguerrae-ort/%5Bwandb-labo1-guerra-sanes%5D</a><br>Synced 5 W&B file(s), 0 media file(s), 0 artifact file(s) and 0 other file(s)"
      ],
      "text/plain": [
       "<IPython.core.display.HTML object>"
      ]
     },
     "metadata": {},
     "output_type": "display_data"
    },
    {
     "data": {
      "text/html": [
       "Find logs at: <code>./wandb/run-20251004_220552-17ndhn2m/logs</code>"
      ],
      "text/plain": [
       "<IPython.core.display.HTML object>"
      ]
     },
     "metadata": {},
     "output_type": "display_data"
    },
    {
     "name": "stderr",
     "output_type": "stream",
     "text": [
      "\u001b[34m\u001b[1mwandb\u001b[0m: Agent Starting Run: fap89qe0 with config:\n",
      "\u001b[34m\u001b[1mwandb\u001b[0m: \tbatch_size: 256\n",
      "\u001b[34m\u001b[1mwandb\u001b[0m: \tdropout_rate: 0.5234103670071426\n",
      "\u001b[34m\u001b[1mwandb\u001b[0m: \tepochs: 30\n",
      "\u001b[34m\u001b[1mwandb\u001b[0m: \tlearning_rate: 0.0005069815406453575\n",
      "\u001b[34m\u001b[1mwandb\u001b[0m: \tmomentum: 0.9207933119653176\n",
      "\u001b[34m\u001b[1mwandb\u001b[0m: \toptimizer: adamw\n",
      "\u001b[34m\u001b[1mwandb\u001b[0m: \tweight_decay: 0.0002109471276560908\n"
     ]
    },
    {
     "data": {
      "text/html": [],
      "text/plain": [
       "<IPython.core.display.HTML object>"
      ]
     },
     "metadata": {},
     "output_type": "display_data"
    },
    {
     "data": {
      "text/html": [
       "Tracking run with wandb version 0.22.1"
      ],
      "text/plain": [
       "<IPython.core.display.HTML object>"
      ]
     },
     "metadata": {},
     "output_type": "display_data"
    },
    {
     "data": {
      "text/html": [
       "Run data is saved locally in <code>/home/rami/Documents/ORT/taller_dl/tarea_1/wandb/run-20251004_221008-fap89qe0</code>"
      ],
      "text/plain": [
       "<IPython.core.display.HTML object>"
      ]
     },
     "metadata": {},
     "output_type": "display_data"
    },
    {
     "data": {
      "text/html": [
       "Syncing run <strong><a href='https://wandb.ai/joacoguerrae-ort/%5Bwandb-labo1-guerra-sanes%5D/runs/fap89qe0' target=\"_blank\">woven-sweep-14</a></strong> to <a href='https://wandb.ai/joacoguerrae-ort/%5Bwandb-labo1-guerra-sanes%5D' target=\"_blank\">Weights & Biases</a> (<a href='https://wandb.me/developer-guide' target=\"_blank\">docs</a>)<br>Sweep page: <a href='https://wandb.ai/joacoguerrae-ort/%5Bwandb-labo1-guerra-sanes%5D/sweeps/9zt0jvn4' target=\"_blank\">https://wandb.ai/joacoguerrae-ort/%5Bwandb-labo1-guerra-sanes%5D/sweeps/9zt0jvn4</a>"
      ],
      "text/plain": [
       "<IPython.core.display.HTML object>"
      ]
     },
     "metadata": {},
     "output_type": "display_data"
    },
    {
     "data": {
      "text/html": [
       " View project at <a href='https://wandb.ai/joacoguerrae-ort/%5Bwandb-labo1-guerra-sanes%5D' target=\"_blank\">https://wandb.ai/joacoguerrae-ort/%5Bwandb-labo1-guerra-sanes%5D</a>"
      ],
      "text/plain": [
       "<IPython.core.display.HTML object>"
      ]
     },
     "metadata": {},
     "output_type": "display_data"
    },
    {
     "data": {
      "text/html": [
       " View sweep at <a href='https://wandb.ai/joacoguerrae-ort/%5Bwandb-labo1-guerra-sanes%5D/sweeps/9zt0jvn4' target=\"_blank\">https://wandb.ai/joacoguerrae-ort/%5Bwandb-labo1-guerra-sanes%5D/sweeps/9zt0jvn4</a>"
      ],
      "text/plain": [
       "<IPython.core.display.HTML object>"
      ]
     },
     "metadata": {},
     "output_type": "display_data"
    },
    {
     "data": {
      "text/html": [
       " View run at <a href='https://wandb.ai/joacoguerrae-ort/%5Bwandb-labo1-guerra-sanes%5D/runs/fap89qe0' target=\"_blank\">https://wandb.ai/joacoguerrae-ort/%5Bwandb-labo1-guerra-sanes%5D/runs/fap89qe0</a>"
      ],
      "text/plain": [
       "<IPython.core.display.HTML object>"
      ]
     },
     "metadata": {},
     "output_type": "display_data"
    },
    {
     "name": "stdout",
     "output_type": "stream",
     "text": [
      "Epoch: 001 | Train Loss: 2.08955 | Val Loss: 3.16246\n",
      "Epoch: 002 | Train Loss: 1.83463 | Val Loss: 1.94012\n",
      "Epoch: 003 | Train Loss: 1.70819 | Val Loss: 1.64086\n",
      "Epoch: 004 | Train Loss: 1.59130 | Val Loss: 1.49493\n",
      "Epoch: 005 | Train Loss: 1.49837 | Val Loss: 1.40063\n",
      "Epoch: 006 | Train Loss: 1.38829 | Val Loss: 1.35271\n",
      "Epoch: 007 | Train Loss: 1.29947 | Val Loss: 1.30752\n",
      "Epoch: 008 | Train Loss: 1.20920 | Val Loss: 1.26344\n",
      "Epoch: 009 | Train Loss: 1.11581 | Val Loss: 1.27538\n",
      "Epoch: 010 | Train Loss: 1.01834 | Val Loss: 1.29488\n",
      "Epoch: 011 | Train Loss: 0.91185 | Val Loss: 1.26786\n",
      "Epoch: 012 | Train Loss: 0.81902 | Val Loss: 1.39657\n",
      "Epoch: 013 | Train Loss: 0.72094 | Val Loss: 1.30849\n",
      "Epoch: 014 | Train Loss: 0.62150 | Val Loss: 1.33491\n",
      "Epoch: 015 | Train Loss: 0.55745 | Val Loss: 1.42908\n",
      "Epoch: 016 | Train Loss: 0.47850 | Val Loss: 1.35629\n",
      "Epoch: 017 | Train Loss: 0.42375 | Val Loss: 1.40666\n",
      "Epoch: 018 | Train Loss: 0.35846 | Val Loss: 1.47713\n",
      "Detener entrenamiento en la época 17, la mejor pérdida fue 1.26344\n",
      "Test Accuracy: 57.63%\n"
     ]
    },
    {
     "data": {
      "text/html": [],
      "text/plain": [
       "<IPython.core.display.HTML object>"
      ]
     },
     "metadata": {},
     "output_type": "display_data"
    },
    {
     "data": {
      "text/html": [
       "<br>    <style><br>        .wandb-row {<br>            display: flex;<br>            flex-direction: row;<br>            flex-wrap: wrap;<br>            justify-content: flex-start;<br>            width: 100%;<br>        }<br>        .wandb-col {<br>            display: flex;<br>            flex-direction: column;<br>            flex-basis: 100%;<br>            flex: 1;<br>            padding: 10px;<br>        }<br>    </style><br><div class=\"wandb-row\"><div class=\"wandb-col\"><h3>Run history:</h3><br/><table class=\"wandb\"><tr><td>test_accuracy</td><td>▁</td></tr><tr><td>test_loss</td><td>▁</td></tr></table><br/></div><div class=\"wandb-col\"><h3>Run summary:</h3><br/><table class=\"wandb\"><tr><td>test_accuracy</td><td>57.63339</td></tr><tr><td>test_loss</td><td>1.46354</td></tr></table><br/></div></div>"
      ],
      "text/plain": [
       "<IPython.core.display.HTML object>"
      ]
     },
     "metadata": {},
     "output_type": "display_data"
    },
    {
     "data": {
      "text/html": [
       " View run <strong style=\"color:#cdcd00\">woven-sweep-14</strong> at: <a href='https://wandb.ai/joacoguerrae-ort/%5Bwandb-labo1-guerra-sanes%5D/runs/fap89qe0' target=\"_blank\">https://wandb.ai/joacoguerrae-ort/%5Bwandb-labo1-guerra-sanes%5D/runs/fap89qe0</a><br> View project at: <a href='https://wandb.ai/joacoguerrae-ort/%5Bwandb-labo1-guerra-sanes%5D' target=\"_blank\">https://wandb.ai/joacoguerrae-ort/%5Bwandb-labo1-guerra-sanes%5D</a><br>Synced 5 W&B file(s), 0 media file(s), 0 artifact file(s) and 0 other file(s)"
      ],
      "text/plain": [
       "<IPython.core.display.HTML object>"
      ]
     },
     "metadata": {},
     "output_type": "display_data"
    },
    {
     "data": {
      "text/html": [
       "Find logs at: <code>./wandb/run-20251004_221008-fap89qe0/logs</code>"
      ],
      "text/plain": [
       "<IPython.core.display.HTML object>"
      ]
     },
     "metadata": {},
     "output_type": "display_data"
    },
    {
     "name": "stderr",
     "output_type": "stream",
     "text": [
      "\u001b[34m\u001b[1mwandb\u001b[0m: Agent Starting Run: hdisw2gu with config:\n",
      "\u001b[34m\u001b[1mwandb\u001b[0m: \tbatch_size: 32\n",
      "\u001b[34m\u001b[1mwandb\u001b[0m: \tdropout_rate: 0.5324160631237569\n",
      "\u001b[34m\u001b[1mwandb\u001b[0m: \tepochs: 30\n",
      "\u001b[34m\u001b[1mwandb\u001b[0m: \tlearning_rate: 0.0002978878241219648\n",
      "\u001b[34m\u001b[1mwandb\u001b[0m: \tmomentum: 0.9808124802569036\n",
      "\u001b[34m\u001b[1mwandb\u001b[0m: \toptimizer: sgd\n",
      "\u001b[34m\u001b[1mwandb\u001b[0m: \tweight_decay: 0.00021128807387510364\n"
     ]
    },
    {
     "data": {
      "text/html": [],
      "text/plain": [
       "<IPython.core.display.HTML object>"
      ]
     },
     "metadata": {},
     "output_type": "display_data"
    },
    {
     "data": {
      "text/html": [
       "Tracking run with wandb version 0.22.1"
      ],
      "text/plain": [
       "<IPython.core.display.HTML object>"
      ]
     },
     "metadata": {},
     "output_type": "display_data"
    },
    {
     "data": {
      "text/html": [
       "Run data is saved locally in <code>/home/rami/Documents/ORT/taller_dl/tarea_1/wandb/run-20251004_221444-hdisw2gu</code>"
      ],
      "text/plain": [
       "<IPython.core.display.HTML object>"
      ]
     },
     "metadata": {},
     "output_type": "display_data"
    },
    {
     "data": {
      "text/html": [
       "Syncing run <strong><a href='https://wandb.ai/joacoguerrae-ort/%5Bwandb-labo1-guerra-sanes%5D/runs/hdisw2gu' target=\"_blank\">autumn-sweep-15</a></strong> to <a href='https://wandb.ai/joacoguerrae-ort/%5Bwandb-labo1-guerra-sanes%5D' target=\"_blank\">Weights & Biases</a> (<a href='https://wandb.me/developer-guide' target=\"_blank\">docs</a>)<br>Sweep page: <a href='https://wandb.ai/joacoguerrae-ort/%5Bwandb-labo1-guerra-sanes%5D/sweeps/9zt0jvn4' target=\"_blank\">https://wandb.ai/joacoguerrae-ort/%5Bwandb-labo1-guerra-sanes%5D/sweeps/9zt0jvn4</a>"
      ],
      "text/plain": [
       "<IPython.core.display.HTML object>"
      ]
     },
     "metadata": {},
     "output_type": "display_data"
    },
    {
     "data": {
      "text/html": [
       " View project at <a href='https://wandb.ai/joacoguerrae-ort/%5Bwandb-labo1-guerra-sanes%5D' target=\"_blank\">https://wandb.ai/joacoguerrae-ort/%5Bwandb-labo1-guerra-sanes%5D</a>"
      ],
      "text/plain": [
       "<IPython.core.display.HTML object>"
      ]
     },
     "metadata": {},
     "output_type": "display_data"
    },
    {
     "data": {
      "text/html": [
       " View sweep at <a href='https://wandb.ai/joacoguerrae-ort/%5Bwandb-labo1-guerra-sanes%5D/sweeps/9zt0jvn4' target=\"_blank\">https://wandb.ai/joacoguerrae-ort/%5Bwandb-labo1-guerra-sanes%5D/sweeps/9zt0jvn4</a>"
      ],
      "text/plain": [
       "<IPython.core.display.HTML object>"
      ]
     },
     "metadata": {},
     "output_type": "display_data"
    },
    {
     "data": {
      "text/html": [
       " View run at <a href='https://wandb.ai/joacoguerrae-ort/%5Bwandb-labo1-guerra-sanes%5D/runs/hdisw2gu' target=\"_blank\">https://wandb.ai/joacoguerrae-ort/%5Bwandb-labo1-guerra-sanes%5D/runs/hdisw2gu</a>"
      ],
      "text/plain": [
       "<IPython.core.display.HTML object>"
      ]
     },
     "metadata": {},
     "output_type": "display_data"
    },
    {
     "name": "stdout",
     "output_type": "stream",
     "text": [
      "Epoch: 001 | Train Loss: 2.10549 | Val Loss: 1.86440\n",
      "Epoch: 002 | Train Loss: 1.84385 | Val Loss: 1.69507\n",
      "Epoch: 003 | Train Loss: 1.73458 | Val Loss: 1.55669\n",
      "Epoch: 004 | Train Loss: 1.62382 | Val Loss: 1.46273\n",
      "Epoch: 005 | Train Loss: 1.52944 | Val Loss: 1.42469\n",
      "Epoch: 006 | Train Loss: 1.46878 | Val Loss: 1.36106\n",
      "Epoch: 007 | Train Loss: 1.38317 | Val Loss: 1.33722\n",
      "Epoch: 008 | Train Loss: 1.33013 | Val Loss: 1.29069\n",
      "Epoch: 009 | Train Loss: 1.25819 | Val Loss: 1.28928\n",
      "Epoch: 010 | Train Loss: 1.18508 | Val Loss: 1.27170\n",
      "Epoch: 011 | Train Loss: 1.10999 | Val Loss: 1.26006\n",
      "Epoch: 012 | Train Loss: 1.03823 | Val Loss: 1.26867\n",
      "Epoch: 013 | Train Loss: 0.98613 | Val Loss: 1.27357\n",
      "Epoch: 014 | Train Loss: 0.89884 | Val Loss: 1.29487\n",
      "Epoch: 015 | Train Loss: 0.82903 | Val Loss: 1.31969\n",
      "Epoch: 016 | Train Loss: 0.75888 | Val Loss: 1.36620\n",
      "Epoch: 017 | Train Loss: 0.69174 | Val Loss: 1.37742\n",
      "Epoch: 018 | Train Loss: 0.64411 | Val Loss: 1.38304\n",
      "Epoch: 019 | Train Loss: 0.58767 | Val Loss: 1.43079\n",
      "Epoch: 020 | Train Loss: 0.53050 | Val Loss: 1.43343\n",
      "Epoch: 021 | Train Loss: 0.47928 | Val Loss: 1.46557\n",
      "Detener entrenamiento en la época 20, la mejor pérdida fue 1.26006\n",
      "Test Accuracy: 58.21%\n"
     ]
    },
    {
     "data": {
      "text/html": [],
      "text/plain": [
       "<IPython.core.display.HTML object>"
      ]
     },
     "metadata": {},
     "output_type": "display_data"
    },
    {
     "data": {
      "text/html": [
       "<br>    <style><br>        .wandb-row {<br>            display: flex;<br>            flex-direction: row;<br>            flex-wrap: wrap;<br>            justify-content: flex-start;<br>            width: 100%;<br>        }<br>        .wandb-col {<br>            display: flex;<br>            flex-direction: column;<br>            flex-basis: 100%;<br>            flex: 1;<br>            padding: 10px;<br>        }<br>    </style><br><div class=\"wandb-row\"><div class=\"wandb-col\"><h3>Run history:</h3><br/><table class=\"wandb\"><tr><td>test_accuracy</td><td>▁</td></tr><tr><td>test_loss</td><td>▁</td></tr></table><br/></div><div class=\"wandb-col\"><h3>Run summary:</h3><br/><table class=\"wandb\"><tr><td>test_accuracy</td><td>58.21447</td></tr><tr><td>test_loss</td><td>1.40169</td></tr></table><br/></div></div>"
      ],
      "text/plain": [
       "<IPython.core.display.HTML object>"
      ]
     },
     "metadata": {},
     "output_type": "display_data"
    },
    {
     "data": {
      "text/html": [
       " View run <strong style=\"color:#cdcd00\">autumn-sweep-15</strong> at: <a href='https://wandb.ai/joacoguerrae-ort/%5Bwandb-labo1-guerra-sanes%5D/runs/hdisw2gu' target=\"_blank\">https://wandb.ai/joacoguerrae-ort/%5Bwandb-labo1-guerra-sanes%5D/runs/hdisw2gu</a><br> View project at: <a href='https://wandb.ai/joacoguerrae-ort/%5Bwandb-labo1-guerra-sanes%5D' target=\"_blank\">https://wandb.ai/joacoguerrae-ort/%5Bwandb-labo1-guerra-sanes%5D</a><br>Synced 5 W&B file(s), 0 media file(s), 0 artifact file(s) and 0 other file(s)"
      ],
      "text/plain": [
       "<IPython.core.display.HTML object>"
      ]
     },
     "metadata": {},
     "output_type": "display_data"
    },
    {
     "data": {
      "text/html": [
       "Find logs at: <code>./wandb/run-20251004_221444-hdisw2gu/logs</code>"
      ],
      "text/plain": [
       "<IPython.core.display.HTML object>"
      ]
     },
     "metadata": {},
     "output_type": "display_data"
    },
    {
     "name": "stderr",
     "output_type": "stream",
     "text": [
      "\u001b[34m\u001b[1mwandb\u001b[0m: Agent Starting Run: 2hlkepbc with config:\n",
      "\u001b[34m\u001b[1mwandb\u001b[0m: \tbatch_size: 128\n",
      "\u001b[34m\u001b[1mwandb\u001b[0m: \tdropout_rate: 0.6197225971264089\n",
      "\u001b[34m\u001b[1mwandb\u001b[0m: \tepochs: 30\n",
      "\u001b[34m\u001b[1mwandb\u001b[0m: \tlearning_rate: 0.000191637712186321\n",
      "\u001b[34m\u001b[1mwandb\u001b[0m: \tmomentum: 0.8921366276752895\n",
      "\u001b[34m\u001b[1mwandb\u001b[0m: \toptimizer: sgd\n",
      "\u001b[34m\u001b[1mwandb\u001b[0m: \tweight_decay: 1.787563228114552e-05\n"
     ]
    },
    {
     "data": {
      "text/html": [],
      "text/plain": [
       "<IPython.core.display.HTML object>"
      ]
     },
     "metadata": {},
     "output_type": "display_data"
    },
    {
     "data": {
      "text/html": [
       "Tracking run with wandb version 0.22.1"
      ],
      "text/plain": [
       "<IPython.core.display.HTML object>"
      ]
     },
     "metadata": {},
     "output_type": "display_data"
    },
    {
     "data": {
      "text/html": [
       "Run data is saved locally in <code>/home/rami/Documents/ORT/taller_dl/tarea_1/wandb/run-20251004_222002-2hlkepbc</code>"
      ],
      "text/plain": [
       "<IPython.core.display.HTML object>"
      ]
     },
     "metadata": {},
     "output_type": "display_data"
    },
    {
     "data": {
      "text/html": [
       "Syncing run <strong><a href='https://wandb.ai/joacoguerrae-ort/%5Bwandb-labo1-guerra-sanes%5D/runs/2hlkepbc' target=\"_blank\">effortless-sweep-16</a></strong> to <a href='https://wandb.ai/joacoguerrae-ort/%5Bwandb-labo1-guerra-sanes%5D' target=\"_blank\">Weights & Biases</a> (<a href='https://wandb.me/developer-guide' target=\"_blank\">docs</a>)<br>Sweep page: <a href='https://wandb.ai/joacoguerrae-ort/%5Bwandb-labo1-guerra-sanes%5D/sweeps/9zt0jvn4' target=\"_blank\">https://wandb.ai/joacoguerrae-ort/%5Bwandb-labo1-guerra-sanes%5D/sweeps/9zt0jvn4</a>"
      ],
      "text/plain": [
       "<IPython.core.display.HTML object>"
      ]
     },
     "metadata": {},
     "output_type": "display_data"
    },
    {
     "data": {
      "text/html": [
       " View project at <a href='https://wandb.ai/joacoguerrae-ort/%5Bwandb-labo1-guerra-sanes%5D' target=\"_blank\">https://wandb.ai/joacoguerrae-ort/%5Bwandb-labo1-guerra-sanes%5D</a>"
      ],
      "text/plain": [
       "<IPython.core.display.HTML object>"
      ]
     },
     "metadata": {},
     "output_type": "display_data"
    },
    {
     "data": {
      "text/html": [
       " View sweep at <a href='https://wandb.ai/joacoguerrae-ort/%5Bwandb-labo1-guerra-sanes%5D/sweeps/9zt0jvn4' target=\"_blank\">https://wandb.ai/joacoguerrae-ort/%5Bwandb-labo1-guerra-sanes%5D/sweeps/9zt0jvn4</a>"
      ],
      "text/plain": [
       "<IPython.core.display.HTML object>"
      ]
     },
     "metadata": {},
     "output_type": "display_data"
    },
    {
     "data": {
      "text/html": [
       " View run at <a href='https://wandb.ai/joacoguerrae-ort/%5Bwandb-labo1-guerra-sanes%5D/runs/2hlkepbc' target=\"_blank\">https://wandb.ai/joacoguerrae-ort/%5Bwandb-labo1-guerra-sanes%5D/runs/2hlkepbc</a>"
      ],
      "text/plain": [
       "<IPython.core.display.HTML object>"
      ]
     },
     "metadata": {},
     "output_type": "display_data"
    },
    {
     "name": "stdout",
     "output_type": "stream",
     "text": [
      "Epoch: 001 | Train Loss: 2.39541 | Val Loss: 2.15161\n",
      "Epoch: 002 | Train Loss: 2.22791 | Val Loss: 2.02669\n",
      "Epoch: 003 | Train Loss: 2.13515 | Val Loss: 1.96738\n",
      "Epoch: 004 | Train Loss: 2.06763 | Val Loss: 1.94400\n",
      "Epoch: 005 | Train Loss: 2.02947 | Val Loss: 1.90360\n",
      "Epoch: 006 | Train Loss: 2.00038 | Val Loss: 1.87037\n",
      "Epoch: 007 | Train Loss: 1.97832 | Val Loss: 1.84110\n",
      "Epoch: 008 | Train Loss: 1.94947 | Val Loss: 1.82995\n",
      "Epoch: 009 | Train Loss: 1.91560 | Val Loss: 1.80425\n",
      "Epoch: 010 | Train Loss: 1.88215 | Val Loss: 1.78735\n",
      "Epoch: 011 | Train Loss: 1.84724 | Val Loss: 1.75508\n",
      "Epoch: 012 | Train Loss: 1.83797 | Val Loss: 1.74129\n",
      "Epoch: 013 | Train Loss: 1.82230 | Val Loss: 1.72651\n",
      "Epoch: 014 | Train Loss: 1.81253 | Val Loss: 1.71155\n",
      "Epoch: 015 | Train Loss: 1.79274 | Val Loss: 1.67865\n",
      "Epoch: 016 | Train Loss: 1.77066 | Val Loss: 1.66812\n",
      "Epoch: 017 | Train Loss: 1.75558 | Val Loss: 1.66031\n",
      "Epoch: 018 | Train Loss: 1.73774 | Val Loss: 1.64296\n",
      "Epoch: 019 | Train Loss: 1.73256 | Val Loss: 1.63106\n",
      "Epoch: 020 | Train Loss: 1.71901 | Val Loss: 1.61415\n",
      "Epoch: 021 | Train Loss: 1.68720 | Val Loss: 1.60661\n",
      "Epoch: 022 | Train Loss: 1.65382 | Val Loss: 1.58227\n",
      "Epoch: 023 | Train Loss: 1.64038 | Val Loss: 1.57859\n",
      "Epoch: 024 | Train Loss: 1.63826 | Val Loss: 1.57271\n",
      "Epoch: 025 | Train Loss: 1.61718 | Val Loss: 1.55705\n",
      "Epoch: 026 | Train Loss: 1.59692 | Val Loss: 1.54239\n",
      "Epoch: 027 | Train Loss: 1.59163 | Val Loss: 1.52813\n",
      "Epoch: 028 | Train Loss: 1.57563 | Val Loss: 1.52088\n",
      "Epoch: 029 | Train Loss: 1.56942 | Val Loss: 1.50880\n",
      "Epoch: 030 | Train Loss: 1.55182 | Val Loss: 1.49405\n",
      "Test Accuracy: 50.82%\n"
     ]
    },
    {
     "data": {
      "text/html": [],
      "text/plain": [
       "<IPython.core.display.HTML object>"
      ]
     },
     "metadata": {},
     "output_type": "display_data"
    },
    {
     "data": {
      "text/html": [
       "<br>    <style><br>        .wandb-row {<br>            display: flex;<br>            flex-direction: row;<br>            flex-wrap: wrap;<br>            justify-content: flex-start;<br>            width: 100%;<br>        }<br>        .wandb-col {<br>            display: flex;<br>            flex-direction: column;<br>            flex-basis: 100%;<br>            flex: 1;<br>            padding: 10px;<br>        }<br>    </style><br><div class=\"wandb-row\"><div class=\"wandb-col\"><h3>Run history:</h3><br/><table class=\"wandb\"><tr><td>test_accuracy</td><td>▁</td></tr><tr><td>test_loss</td><td>▁</td></tr></table><br/></div><div class=\"wandb-col\"><h3>Run summary:</h3><br/><table class=\"wandb\"><tr><td>test_accuracy</td><td>50.81881</td></tr><tr><td>test_loss</td><td>1.4882</td></tr></table><br/></div></div>"
      ],
      "text/plain": [
       "<IPython.core.display.HTML object>"
      ]
     },
     "metadata": {},
     "output_type": "display_data"
    },
    {
     "data": {
      "text/html": [
       " View run <strong style=\"color:#cdcd00\">effortless-sweep-16</strong> at: <a href='https://wandb.ai/joacoguerrae-ort/%5Bwandb-labo1-guerra-sanes%5D/runs/2hlkepbc' target=\"_blank\">https://wandb.ai/joacoguerrae-ort/%5Bwandb-labo1-guerra-sanes%5D/runs/2hlkepbc</a><br> View project at: <a href='https://wandb.ai/joacoguerrae-ort/%5Bwandb-labo1-guerra-sanes%5D' target=\"_blank\">https://wandb.ai/joacoguerrae-ort/%5Bwandb-labo1-guerra-sanes%5D</a><br>Synced 5 W&B file(s), 0 media file(s), 0 artifact file(s) and 0 other file(s)"
      ],
      "text/plain": [
       "<IPython.core.display.HTML object>"
      ]
     },
     "metadata": {},
     "output_type": "display_data"
    },
    {
     "data": {
      "text/html": [
       "Find logs at: <code>./wandb/run-20251004_222002-2hlkepbc/logs</code>"
      ],
      "text/plain": [
       "<IPython.core.display.HTML object>"
      ]
     },
     "metadata": {},
     "output_type": "display_data"
    },
    {
     "name": "stderr",
     "output_type": "stream",
     "text": [
      "\u001b[34m\u001b[1mwandb\u001b[0m: Agent Starting Run: 7b2fj1h0 with config:\n",
      "\u001b[34m\u001b[1mwandb\u001b[0m: \tbatch_size: 32\n",
      "\u001b[34m\u001b[1mwandb\u001b[0m: \tdropout_rate: 0.5277969247526526\n",
      "\u001b[34m\u001b[1mwandb\u001b[0m: \tepochs: 30\n",
      "\u001b[34m\u001b[1mwandb\u001b[0m: \tlearning_rate: 4.136450483810782e-05\n",
      "\u001b[34m\u001b[1mwandb\u001b[0m: \tmomentum: 0.916444079810917\n",
      "\u001b[34m\u001b[1mwandb\u001b[0m: \toptimizer: sgd\n",
      "\u001b[34m\u001b[1mwandb\u001b[0m: \tweight_decay: 1.841545164503234e-05\n"
     ]
    },
    {
     "data": {
      "text/html": [],
      "text/plain": [
       "<IPython.core.display.HTML object>"
      ]
     },
     "metadata": {},
     "output_type": "display_data"
    },
    {
     "data": {
      "text/html": [
       "Tracking run with wandb version 0.22.1"
      ],
      "text/plain": [
       "<IPython.core.display.HTML object>"
      ]
     },
     "metadata": {},
     "output_type": "display_data"
    },
    {
     "data": {
      "text/html": [
       "Run data is saved locally in <code>/home/rami/Documents/ORT/taller_dl/tarea_1/wandb/run-20251004_222721-7b2fj1h0</code>"
      ],
      "text/plain": [
       "<IPython.core.display.HTML object>"
      ]
     },
     "metadata": {},
     "output_type": "display_data"
    },
    {
     "data": {
      "text/html": [
       "Syncing run <strong><a href='https://wandb.ai/joacoguerrae-ort/%5Bwandb-labo1-guerra-sanes%5D/runs/7b2fj1h0' target=\"_blank\">wise-sweep-17</a></strong> to <a href='https://wandb.ai/joacoguerrae-ort/%5Bwandb-labo1-guerra-sanes%5D' target=\"_blank\">Weights & Biases</a> (<a href='https://wandb.me/developer-guide' target=\"_blank\">docs</a>)<br>Sweep page: <a href='https://wandb.ai/joacoguerrae-ort/%5Bwandb-labo1-guerra-sanes%5D/sweeps/9zt0jvn4' target=\"_blank\">https://wandb.ai/joacoguerrae-ort/%5Bwandb-labo1-guerra-sanes%5D/sweeps/9zt0jvn4</a>"
      ],
      "text/plain": [
       "<IPython.core.display.HTML object>"
      ]
     },
     "metadata": {},
     "output_type": "display_data"
    },
    {
     "data": {
      "text/html": [
       " View project at <a href='https://wandb.ai/joacoguerrae-ort/%5Bwandb-labo1-guerra-sanes%5D' target=\"_blank\">https://wandb.ai/joacoguerrae-ort/%5Bwandb-labo1-guerra-sanes%5D</a>"
      ],
      "text/plain": [
       "<IPython.core.display.HTML object>"
      ]
     },
     "metadata": {},
     "output_type": "display_data"
    },
    {
     "data": {
      "text/html": [
       " View sweep at <a href='https://wandb.ai/joacoguerrae-ort/%5Bwandb-labo1-guerra-sanes%5D/sweeps/9zt0jvn4' target=\"_blank\">https://wandb.ai/joacoguerrae-ort/%5Bwandb-labo1-guerra-sanes%5D/sweeps/9zt0jvn4</a>"
      ],
      "text/plain": [
       "<IPython.core.display.HTML object>"
      ]
     },
     "metadata": {},
     "output_type": "display_data"
    },
    {
     "data": {
      "text/html": [
       " View run at <a href='https://wandb.ai/joacoguerrae-ort/%5Bwandb-labo1-guerra-sanes%5D/runs/7b2fj1h0' target=\"_blank\">https://wandb.ai/joacoguerrae-ort/%5Bwandb-labo1-guerra-sanes%5D/runs/7b2fj1h0</a>"
      ],
      "text/plain": [
       "<IPython.core.display.HTML object>"
      ]
     },
     "metadata": {},
     "output_type": "display_data"
    },
    {
     "name": "stdout",
     "output_type": "stream",
     "text": [
      "Epoch: 001 | Train Loss: 2.29179 | Val Loss: 2.07553\n",
      "Epoch: 002 | Train Loss: 2.12342 | Val Loss: 1.98400\n",
      "Epoch: 003 | Train Loss: 2.04854 | Val Loss: 1.93418\n",
      "Epoch: 004 | Train Loss: 1.97945 | Val Loss: 1.88729\n",
      "Epoch: 005 | Train Loss: 1.94757 | Val Loss: 1.86993\n",
      "Epoch: 006 | Train Loss: 1.91761 | Val Loss: 1.83520\n",
      "Epoch: 007 | Train Loss: 1.90902 | Val Loss: 1.81817\n",
      "Epoch: 008 | Train Loss: 1.87166 | Val Loss: 1.77617\n",
      "Epoch: 009 | Train Loss: 1.83258 | Val Loss: 1.75938\n",
      "Epoch: 010 | Train Loss: 1.81169 | Val Loss: 1.75296\n",
      "Epoch: 011 | Train Loss: 1.79086 | Val Loss: 1.73799\n",
      "Epoch: 012 | Train Loss: 1.77568 | Val Loss: 1.71624\n",
      "Epoch: 013 | Train Loss: 1.76245 | Val Loss: 1.72125\n",
      "Epoch: 014 | Train Loss: 1.73997 | Val Loss: 1.69461\n",
      "Epoch: 015 | Train Loss: 1.72132 | Val Loss: 1.68433\n",
      "Epoch: 016 | Train Loss: 1.71621 | Val Loss: 1.67427\n",
      "Epoch: 017 | Train Loss: 1.69237 | Val Loss: 1.65376\n",
      "Epoch: 018 | Train Loss: 1.68810 | Val Loss: 1.64947\n",
      "Epoch: 019 | Train Loss: 1.65901 | Val Loss: 1.62783\n",
      "Epoch: 020 | Train Loss: 1.65038 | Val Loss: 1.62510\n",
      "Epoch: 021 | Train Loss: 1.62625 | Val Loss: 1.60851\n",
      "Epoch: 022 | Train Loss: 1.61818 | Val Loss: 1.59804\n",
      "Epoch: 023 | Train Loss: 1.59850 | Val Loss: 1.59498\n",
      "Epoch: 024 | Train Loss: 1.59178 | Val Loss: 1.57298\n",
      "Epoch: 025 | Train Loss: 1.58498 | Val Loss: 1.57663\n",
      "Epoch: 026 | Train Loss: 1.54957 | Val Loss: 1.57477\n",
      "Epoch: 027 | Train Loss: 1.54755 | Val Loss: 1.55054\n",
      "Epoch: 028 | Train Loss: 1.53506 | Val Loss: 1.54515\n",
      "Epoch: 029 | Train Loss: 1.51074 | Val Loss: 1.53724\n",
      "Epoch: 030 | Train Loss: 1.49005 | Val Loss: 1.51959\n",
      "Test Accuracy: 48.97%\n"
     ]
    },
    {
     "data": {
      "text/html": [],
      "text/plain": [
       "<IPython.core.display.HTML object>"
      ]
     },
     "metadata": {},
     "output_type": "display_data"
    },
    {
     "data": {
      "text/html": [
       "<br>    <style><br>        .wandb-row {<br>            display: flex;<br>            flex-direction: row;<br>            flex-wrap: wrap;<br>            justify-content: flex-start;<br>            width: 100%;<br>        }<br>        .wandb-col {<br>            display: flex;<br>            flex-direction: column;<br>            flex-basis: 100%;<br>            flex: 1;<br>            padding: 10px;<br>        }<br>    </style><br><div class=\"wandb-row\"><div class=\"wandb-col\"><h3>Run history:</h3><br/><table class=\"wandb\"><tr><td>test_accuracy</td><td>▁</td></tr><tr><td>test_loss</td><td>▁</td></tr></table><br/></div><div class=\"wandb-col\"><h3>Run summary:</h3><br/><table class=\"wandb\"><tr><td>test_accuracy</td><td>48.96989</td></tr><tr><td>test_loss</td><td>1.5165</td></tr></table><br/></div></div>"
      ],
      "text/plain": [
       "<IPython.core.display.HTML object>"
      ]
     },
     "metadata": {},
     "output_type": "display_data"
    },
    {
     "data": {
      "text/html": [
       " View run <strong style=\"color:#cdcd00\">wise-sweep-17</strong> at: <a href='https://wandb.ai/joacoguerrae-ort/%5Bwandb-labo1-guerra-sanes%5D/runs/7b2fj1h0' target=\"_blank\">https://wandb.ai/joacoguerrae-ort/%5Bwandb-labo1-guerra-sanes%5D/runs/7b2fj1h0</a><br> View project at: <a href='https://wandb.ai/joacoguerrae-ort/%5Bwandb-labo1-guerra-sanes%5D' target=\"_blank\">https://wandb.ai/joacoguerrae-ort/%5Bwandb-labo1-guerra-sanes%5D</a><br>Synced 5 W&B file(s), 0 media file(s), 0 artifact file(s) and 0 other file(s)"
      ],
      "text/plain": [
       "<IPython.core.display.HTML object>"
      ]
     },
     "metadata": {},
     "output_type": "display_data"
    },
    {
     "data": {
      "text/html": [
       "Find logs at: <code>./wandb/run-20251004_222721-7b2fj1h0/logs</code>"
      ],
      "text/plain": [
       "<IPython.core.display.HTML object>"
      ]
     },
     "metadata": {},
     "output_type": "display_data"
    },
    {
     "name": "stderr",
     "output_type": "stream",
     "text": [
      "\u001b[34m\u001b[1mwandb\u001b[0m: Sweep Agent: Waiting for job.\n",
      "\u001b[34m\u001b[1mwandb\u001b[0m: Job received.\n",
      "\u001b[34m\u001b[1mwandb\u001b[0m: Agent Starting Run: xjk28qm4 with config:\n",
      "\u001b[34m\u001b[1mwandb\u001b[0m: \tbatch_size: 128\n",
      "\u001b[34m\u001b[1mwandb\u001b[0m: \tdropout_rate: 0.44840978880198235\n",
      "\u001b[34m\u001b[1mwandb\u001b[0m: \tepochs: 30\n",
      "\u001b[34m\u001b[1mwandb\u001b[0m: \tlearning_rate: 0.007858556792734773\n",
      "\u001b[34m\u001b[1mwandb\u001b[0m: \tmomentum: 0.8819683804419574\n",
      "\u001b[34m\u001b[1mwandb\u001b[0m: \toptimizer: sgd\n",
      "\u001b[34m\u001b[1mwandb\u001b[0m: \tweight_decay: 6.846978782737285e-05\n"
     ]
    },
    {
     "data": {
      "text/html": [],
      "text/plain": [
       "<IPython.core.display.HTML object>"
      ]
     },
     "metadata": {},
     "output_type": "display_data"
    },
    {
     "data": {
      "text/html": [
       "Tracking run with wandb version 0.22.1"
      ],
      "text/plain": [
       "<IPython.core.display.HTML object>"
      ]
     },
     "metadata": {},
     "output_type": "display_data"
    },
    {
     "data": {
      "text/html": [
       "Run data is saved locally in <code>/home/rami/Documents/ORT/taller_dl/tarea_1/wandb/run-20251004_223456-xjk28qm4</code>"
      ],
      "text/plain": [
       "<IPython.core.display.HTML object>"
      ]
     },
     "metadata": {},
     "output_type": "display_data"
    },
    {
     "data": {
      "text/html": [
       "Syncing run <strong><a href='https://wandb.ai/joacoguerrae-ort/%5Bwandb-labo1-guerra-sanes%5D/runs/xjk28qm4' target=\"_blank\">confused-sweep-18</a></strong> to <a href='https://wandb.ai/joacoguerrae-ort/%5Bwandb-labo1-guerra-sanes%5D' target=\"_blank\">Weights & Biases</a> (<a href='https://wandb.me/developer-guide' target=\"_blank\">docs</a>)<br>Sweep page: <a href='https://wandb.ai/joacoguerrae-ort/%5Bwandb-labo1-guerra-sanes%5D/sweeps/9zt0jvn4' target=\"_blank\">https://wandb.ai/joacoguerrae-ort/%5Bwandb-labo1-guerra-sanes%5D/sweeps/9zt0jvn4</a>"
      ],
      "text/plain": [
       "<IPython.core.display.HTML object>"
      ]
     },
     "metadata": {},
     "output_type": "display_data"
    },
    {
     "data": {
      "text/html": [
       " View project at <a href='https://wandb.ai/joacoguerrae-ort/%5Bwandb-labo1-guerra-sanes%5D' target=\"_blank\">https://wandb.ai/joacoguerrae-ort/%5Bwandb-labo1-guerra-sanes%5D</a>"
      ],
      "text/plain": [
       "<IPython.core.display.HTML object>"
      ]
     },
     "metadata": {},
     "output_type": "display_data"
    },
    {
     "data": {
      "text/html": [
       " View sweep at <a href='https://wandb.ai/joacoguerrae-ort/%5Bwandb-labo1-guerra-sanes%5D/sweeps/9zt0jvn4' target=\"_blank\">https://wandb.ai/joacoguerrae-ort/%5Bwandb-labo1-guerra-sanes%5D/sweeps/9zt0jvn4</a>"
      ],
      "text/plain": [
       "<IPython.core.display.HTML object>"
      ]
     },
     "metadata": {},
     "output_type": "display_data"
    },
    {
     "data": {
      "text/html": [
       " View run at <a href='https://wandb.ai/joacoguerrae-ort/%5Bwandb-labo1-guerra-sanes%5D/runs/xjk28qm4' target=\"_blank\">https://wandb.ai/joacoguerrae-ort/%5Bwandb-labo1-guerra-sanes%5D/runs/xjk28qm4</a>"
      ],
      "text/plain": [
       "<IPython.core.display.HTML object>"
      ]
     },
     "metadata": {},
     "output_type": "display_data"
    },
    {
     "name": "stdout",
     "output_type": "stream",
     "text": [
      "Epoch: 001 | Train Loss: 2.00651 | Val Loss: 2.12235\n",
      "Epoch: 002 | Train Loss: 1.74831 | Val Loss: 1.60534\n",
      "Epoch: 003 | Train Loss: 1.60218 | Val Loss: 1.47412\n",
      "Epoch: 004 | Train Loss: 1.47525 | Val Loss: 1.42710\n",
      "Epoch: 005 | Train Loss: 1.36808 | Val Loss: 1.31388\n",
      "Epoch: 006 | Train Loss: 1.25025 | Val Loss: 1.27687\n",
      "Epoch: 007 | Train Loss: 1.15231 | Val Loss: 1.25250\n",
      "Epoch: 008 | Train Loss: 1.06425 | Val Loss: 1.25598\n",
      "Epoch: 009 | Train Loss: 0.95570 | Val Loss: 1.32058\n",
      "Epoch: 010 | Train Loss: 0.85922 | Val Loss: 1.35554\n",
      "Epoch: 011 | Train Loss: 0.75967 | Val Loss: 1.36371\n",
      "Epoch: 012 | Train Loss: 0.65877 | Val Loss: 1.38963\n",
      "Epoch: 013 | Train Loss: 0.58737 | Val Loss: 1.41013\n",
      "Epoch: 014 | Train Loss: 0.51988 | Val Loss: 1.50120\n",
      "Epoch: 015 | Train Loss: 0.44571 | Val Loss: 1.53141\n",
      "Epoch: 016 | Train Loss: 0.39944 | Val Loss: 1.55000\n",
      "Epoch: 017 | Train Loss: 0.34774 | Val Loss: 1.63153\n",
      "Detener entrenamiento en la época 16, la mejor pérdida fue 1.25250\n",
      "Test Accuracy: 57.16%\n"
     ]
    },
    {
     "data": {
      "text/html": [],
      "text/plain": [
       "<IPython.core.display.HTML object>"
      ]
     },
     "metadata": {},
     "output_type": "display_data"
    },
    {
     "data": {
      "text/html": [
       "<br>    <style><br>        .wandb-row {<br>            display: flex;<br>            flex-direction: row;<br>            flex-wrap: wrap;<br>            justify-content: flex-start;<br>            width: 100%;<br>        }<br>        .wandb-col {<br>            display: flex;<br>            flex-direction: column;<br>            flex-basis: 100%;<br>            flex: 1;<br>            padding: 10px;<br>        }<br>    </style><br><div class=\"wandb-row\"><div class=\"wandb-col\"><h3>Run history:</h3><br/><table class=\"wandb\"><tr><td>test_accuracy</td><td>▁</td></tr><tr><td>test_loss</td><td>▁</td></tr></table><br/></div><div class=\"wandb-col\"><h3>Run summary:</h3><br/><table class=\"wandb\"><tr><td>test_accuracy</td><td>57.15795</td></tr><tr><td>test_loss</td><td>1.61567</td></tr></table><br/></div></div>"
      ],
      "text/plain": [
       "<IPython.core.display.HTML object>"
      ]
     },
     "metadata": {},
     "output_type": "display_data"
    },
    {
     "data": {
      "text/html": [
       " View run <strong style=\"color:#cdcd00\">confused-sweep-18</strong> at: <a href='https://wandb.ai/joacoguerrae-ort/%5Bwandb-labo1-guerra-sanes%5D/runs/xjk28qm4' target=\"_blank\">https://wandb.ai/joacoguerrae-ort/%5Bwandb-labo1-guerra-sanes%5D/runs/xjk28qm4</a><br> View project at: <a href='https://wandb.ai/joacoguerrae-ort/%5Bwandb-labo1-guerra-sanes%5D' target=\"_blank\">https://wandb.ai/joacoguerrae-ort/%5Bwandb-labo1-guerra-sanes%5D</a><br>Synced 5 W&B file(s), 0 media file(s), 0 artifact file(s) and 0 other file(s)"
      ],
      "text/plain": [
       "<IPython.core.display.HTML object>"
      ]
     },
     "metadata": {},
     "output_type": "display_data"
    },
    {
     "data": {
      "text/html": [
       "Find logs at: <code>./wandb/run-20251004_223456-xjk28qm4/logs</code>"
      ],
      "text/plain": [
       "<IPython.core.display.HTML object>"
      ]
     },
     "metadata": {},
     "output_type": "display_data"
    },
    {
     "name": "stderr",
     "output_type": "stream",
     "text": [
      "\u001b[34m\u001b[1mwandb\u001b[0m: Agent Starting Run: rj9gml93 with config:\n",
      "\u001b[34m\u001b[1mwandb\u001b[0m: \tbatch_size: 256\n",
      "\u001b[34m\u001b[1mwandb\u001b[0m: \tdropout_rate: 0.20876641777802635\n",
      "\u001b[34m\u001b[1mwandb\u001b[0m: \tepochs: 30\n",
      "\u001b[34m\u001b[1mwandb\u001b[0m: \tlearning_rate: 1.914791567758759e-05\n",
      "\u001b[34m\u001b[1mwandb\u001b[0m: \tmomentum: 0.935295080658413\n",
      "\u001b[34m\u001b[1mwandb\u001b[0m: \toptimizer: adamw\n",
      "\u001b[34m\u001b[1mwandb\u001b[0m: \tweight_decay: 5.712035768677068e-05\n"
     ]
    },
    {
     "data": {
      "text/html": [],
      "text/plain": [
       "<IPython.core.display.HTML object>"
      ]
     },
     "metadata": {},
     "output_type": "display_data"
    },
    {
     "data": {
      "text/html": [
       "Tracking run with wandb version 0.22.1"
      ],
      "text/plain": [
       "<IPython.core.display.HTML object>"
      ]
     },
     "metadata": {},
     "output_type": "display_data"
    },
    {
     "data": {
      "text/html": [
       "Run data is saved locally in <code>/home/rami/Documents/ORT/taller_dl/tarea_1/wandb/run-20251004_223911-rj9gml93</code>"
      ],
      "text/plain": [
       "<IPython.core.display.HTML object>"
      ]
     },
     "metadata": {},
     "output_type": "display_data"
    },
    {
     "data": {
      "text/html": [
       "Syncing run <strong><a href='https://wandb.ai/joacoguerrae-ort/%5Bwandb-labo1-guerra-sanes%5D/runs/rj9gml93' target=\"_blank\">solar-sweep-19</a></strong> to <a href='https://wandb.ai/joacoguerrae-ort/%5Bwandb-labo1-guerra-sanes%5D' target=\"_blank\">Weights & Biases</a> (<a href='https://wandb.me/developer-guide' target=\"_blank\">docs</a>)<br>Sweep page: <a href='https://wandb.ai/joacoguerrae-ort/%5Bwandb-labo1-guerra-sanes%5D/sweeps/9zt0jvn4' target=\"_blank\">https://wandb.ai/joacoguerrae-ort/%5Bwandb-labo1-guerra-sanes%5D/sweeps/9zt0jvn4</a>"
      ],
      "text/plain": [
       "<IPython.core.display.HTML object>"
      ]
     },
     "metadata": {},
     "output_type": "display_data"
    },
    {
     "data": {
      "text/html": [
       " View project at <a href='https://wandb.ai/joacoguerrae-ort/%5Bwandb-labo1-guerra-sanes%5D' target=\"_blank\">https://wandb.ai/joacoguerrae-ort/%5Bwandb-labo1-guerra-sanes%5D</a>"
      ],
      "text/plain": [
       "<IPython.core.display.HTML object>"
      ]
     },
     "metadata": {},
     "output_type": "display_data"
    },
    {
     "data": {
      "text/html": [
       " View sweep at <a href='https://wandb.ai/joacoguerrae-ort/%5Bwandb-labo1-guerra-sanes%5D/sweeps/9zt0jvn4' target=\"_blank\">https://wandb.ai/joacoguerrae-ort/%5Bwandb-labo1-guerra-sanes%5D/sweeps/9zt0jvn4</a>"
      ],
      "text/plain": [
       "<IPython.core.display.HTML object>"
      ]
     },
     "metadata": {},
     "output_type": "display_data"
    },
    {
     "data": {
      "text/html": [
       " View run at <a href='https://wandb.ai/joacoguerrae-ort/%5Bwandb-labo1-guerra-sanes%5D/runs/rj9gml93' target=\"_blank\">https://wandb.ai/joacoguerrae-ort/%5Bwandb-labo1-guerra-sanes%5D/runs/rj9gml93</a>"
      ],
      "text/plain": [
       "<IPython.core.display.HTML object>"
      ]
     },
     "metadata": {},
     "output_type": "display_data"
    },
    {
     "name": "stdout",
     "output_type": "stream",
     "text": [
      "Epoch: 001 | Train Loss: 2.06207 | Val Loss: 2.73667\n",
      "Epoch: 002 | Train Loss: 1.83366 | Val Loss: 1.94991\n",
      "Epoch: 003 | Train Loss: 1.73753 | Val Loss: 1.75352\n",
      "Epoch: 004 | Train Loss: 1.67686 | Val Loss: 1.68448\n",
      "Epoch: 005 | Train Loss: 1.60643 | Val Loss: 1.66729\n",
      "Epoch: 006 | Train Loss: 1.55693 | Val Loss: 1.63009\n",
      "Epoch: 007 | Train Loss: 1.51003 | Val Loss: 1.61486\n",
      "Epoch: 008 | Train Loss: 1.45849 | Val Loss: 1.58559\n",
      "Epoch: 009 | Train Loss: 1.41263 | Val Loss: 1.57555\n",
      "Epoch: 010 | Train Loss: 1.36373 | Val Loss: 1.55530\n",
      "Epoch: 011 | Train Loss: 1.32648 | Val Loss: 1.52748\n",
      "Epoch: 012 | Train Loss: 1.27717 | Val Loss: 1.52306\n",
      "Epoch: 013 | Train Loss: 1.24603 | Val Loss: 1.50200\n",
      "Epoch: 014 | Train Loss: 1.19800 | Val Loss: 1.48556\n",
      "Epoch: 015 | Train Loss: 1.15467 | Val Loss: 1.48895\n",
      "Epoch: 016 | Train Loss: 1.10561 | Val Loss: 1.49038\n",
      "Epoch: 017 | Train Loss: 1.07294 | Val Loss: 1.47902\n",
      "Epoch: 018 | Train Loss: 1.02721 | Val Loss: 1.45763\n",
      "Epoch: 019 | Train Loss: 0.98434 | Val Loss: 1.43947\n",
      "Epoch: 020 | Train Loss: 0.94404 | Val Loss: 1.45704\n",
      "Epoch: 021 | Train Loss: 0.90459 | Val Loss: 1.45331\n",
      "Epoch: 022 | Train Loss: 0.86567 | Val Loss: 1.45656\n",
      "Epoch: 023 | Train Loss: 0.82869 | Val Loss: 1.44067\n",
      "Epoch: 024 | Train Loss: 0.78169 | Val Loss: 1.43434\n",
      "Epoch: 025 | Train Loss: 0.74485 | Val Loss: 1.44757\n",
      "Epoch: 026 | Train Loss: 0.70833 | Val Loss: 1.44702\n",
      "Epoch: 027 | Train Loss: 0.66939 | Val Loss: 1.44817\n",
      "Epoch: 028 | Train Loss: 0.64170 | Val Loss: 1.45344\n",
      "Epoch: 029 | Train Loss: 0.60846 | Val Loss: 1.46667\n",
      "Epoch: 030 | Train Loss: 0.57692 | Val Loss: 1.46799\n",
      "Test Accuracy: 53.78%\n"
     ]
    },
    {
     "data": {
      "text/html": [],
      "text/plain": [
       "<IPython.core.display.HTML object>"
      ]
     },
     "metadata": {},
     "output_type": "display_data"
    },
    {
     "data": {
      "text/html": [
       "<br>    <style><br>        .wandb-row {<br>            display: flex;<br>            flex-direction: row;<br>            flex-wrap: wrap;<br>            justify-content: flex-start;<br>            width: 100%;<br>        }<br>        .wandb-col {<br>            display: flex;<br>            flex-direction: column;<br>            flex-basis: 100%;<br>            flex: 1;<br>            padding: 10px;<br>        }<br>    </style><br><div class=\"wandb-row\"><div class=\"wandb-col\"><h3>Run history:</h3><br/><table class=\"wandb\"><tr><td>test_accuracy</td><td>▁</td></tr><tr><td>test_loss</td><td>▁</td></tr></table><br/></div><div class=\"wandb-col\"><h3>Run summary:</h3><br/><table class=\"wandb\"><tr><td>test_accuracy</td><td>53.77707</td></tr><tr><td>test_loss</td><td>1.45357</td></tr></table><br/></div></div>"
      ],
      "text/plain": [
       "<IPython.core.display.HTML object>"
      ]
     },
     "metadata": {},
     "output_type": "display_data"
    },
    {
     "data": {
      "text/html": [
       " View run <strong style=\"color:#cdcd00\">solar-sweep-19</strong> at: <a href='https://wandb.ai/joacoguerrae-ort/%5Bwandb-labo1-guerra-sanes%5D/runs/rj9gml93' target=\"_blank\">https://wandb.ai/joacoguerrae-ort/%5Bwandb-labo1-guerra-sanes%5D/runs/rj9gml93</a><br> View project at: <a href='https://wandb.ai/joacoguerrae-ort/%5Bwandb-labo1-guerra-sanes%5D' target=\"_blank\">https://wandb.ai/joacoguerrae-ort/%5Bwandb-labo1-guerra-sanes%5D</a><br>Synced 5 W&B file(s), 0 media file(s), 0 artifact file(s) and 0 other file(s)"
      ],
      "text/plain": [
       "<IPython.core.display.HTML object>"
      ]
     },
     "metadata": {},
     "output_type": "display_data"
    },
    {
     "data": {
      "text/html": [
       "Find logs at: <code>./wandb/run-20251004_223911-rj9gml93/logs</code>"
      ],
      "text/plain": [
       "<IPython.core.display.HTML object>"
      ]
     },
     "metadata": {},
     "output_type": "display_data"
    },
    {
     "name": "stderr",
     "output_type": "stream",
     "text": [
      "\u001b[34m\u001b[1mwandb\u001b[0m: Agent Starting Run: 3iqgnnez with config:\n",
      "\u001b[34m\u001b[1mwandb\u001b[0m: \tbatch_size: 64\n",
      "\u001b[34m\u001b[1mwandb\u001b[0m: \tdropout_rate: 0.689860424087003\n",
      "\u001b[34m\u001b[1mwandb\u001b[0m: \tepochs: 30\n",
      "\u001b[34m\u001b[1mwandb\u001b[0m: \tlearning_rate: 0.0008445394606376422\n",
      "\u001b[34m\u001b[1mwandb\u001b[0m: \tmomentum: 0.9710794321333164\n",
      "\u001b[34m\u001b[1mwandb\u001b[0m: \toptimizer: adam\n",
      "\u001b[34m\u001b[1mwandb\u001b[0m: \tweight_decay: 2.1427356071176813e-05\n"
     ]
    },
    {
     "data": {
      "text/html": [],
      "text/plain": [
       "<IPython.core.display.HTML object>"
      ]
     },
     "metadata": {},
     "output_type": "display_data"
    },
    {
     "data": {
      "text/html": [
       "Tracking run with wandb version 0.22.1"
      ],
      "text/plain": [
       "<IPython.core.display.HTML object>"
      ]
     },
     "metadata": {},
     "output_type": "display_data"
    },
    {
     "data": {
      "text/html": [
       "Run data is saved locally in <code>/home/rami/Documents/ORT/taller_dl/tarea_1/wandb/run-20251004_224644-3iqgnnez</code>"
      ],
      "text/plain": [
       "<IPython.core.display.HTML object>"
      ]
     },
     "metadata": {},
     "output_type": "display_data"
    },
    {
     "data": {
      "text/html": [
       "Syncing run <strong><a href='https://wandb.ai/joacoguerrae-ort/%5Bwandb-labo1-guerra-sanes%5D/runs/3iqgnnez' target=\"_blank\">twilight-sweep-20</a></strong> to <a href='https://wandb.ai/joacoguerrae-ort/%5Bwandb-labo1-guerra-sanes%5D' target=\"_blank\">Weights & Biases</a> (<a href='https://wandb.me/developer-guide' target=\"_blank\">docs</a>)<br>Sweep page: <a href='https://wandb.ai/joacoguerrae-ort/%5Bwandb-labo1-guerra-sanes%5D/sweeps/9zt0jvn4' target=\"_blank\">https://wandb.ai/joacoguerrae-ort/%5Bwandb-labo1-guerra-sanes%5D/sweeps/9zt0jvn4</a>"
      ],
      "text/plain": [
       "<IPython.core.display.HTML object>"
      ]
     },
     "metadata": {},
     "output_type": "display_data"
    },
    {
     "data": {
      "text/html": [
       " View project at <a href='https://wandb.ai/joacoguerrae-ort/%5Bwandb-labo1-guerra-sanes%5D' target=\"_blank\">https://wandb.ai/joacoguerrae-ort/%5Bwandb-labo1-guerra-sanes%5D</a>"
      ],
      "text/plain": [
       "<IPython.core.display.HTML object>"
      ]
     },
     "metadata": {},
     "output_type": "display_data"
    },
    {
     "data": {
      "text/html": [
       " View sweep at <a href='https://wandb.ai/joacoguerrae-ort/%5Bwandb-labo1-guerra-sanes%5D/sweeps/9zt0jvn4' target=\"_blank\">https://wandb.ai/joacoguerrae-ort/%5Bwandb-labo1-guerra-sanes%5D/sweeps/9zt0jvn4</a>"
      ],
      "text/plain": [
       "<IPython.core.display.HTML object>"
      ]
     },
     "metadata": {},
     "output_type": "display_data"
    },
    {
     "data": {
      "text/html": [
       " View run at <a href='https://wandb.ai/joacoguerrae-ort/%5Bwandb-labo1-guerra-sanes%5D/runs/3iqgnnez' target=\"_blank\">https://wandb.ai/joacoguerrae-ort/%5Bwandb-labo1-guerra-sanes%5D/runs/3iqgnnez</a>"
      ],
      "text/plain": [
       "<IPython.core.display.HTML object>"
      ]
     },
     "metadata": {},
     "output_type": "display_data"
    },
    {
     "name": "stdout",
     "output_type": "stream",
     "text": [
      "Epoch: 001 | Train Loss: 2.18552 | Val Loss: 1.82543\n",
      "Epoch: 002 | Train Loss: 1.89972 | Val Loss: 1.63312\n",
      "Epoch: 003 | Train Loss: 1.74003 | Val Loss: 1.49574\n",
      "Epoch: 004 | Train Loss: 1.61282 | Val Loss: 1.42595\n",
      "Epoch: 005 | Train Loss: 1.54802 | Val Loss: 1.33412\n",
      "Epoch: 006 | Train Loss: 1.45992 | Val Loss: 1.27880\n",
      "Epoch: 007 | Train Loss: 1.37920 | Val Loss: 1.25754\n",
      "Epoch: 008 | Train Loss: 1.32099 | Val Loss: 1.21243\n",
      "Epoch: 009 | Train Loss: 1.24844 | Val Loss: 1.19854\n",
      "Epoch: 010 | Train Loss: 1.19253 | Val Loss: 1.16928\n",
      "Epoch: 011 | Train Loss: 1.13306 | Val Loss: 1.15311\n",
      "Epoch: 012 | Train Loss: 1.08645 | Val Loss: 1.14978\n",
      "Epoch: 013 | Train Loss: 1.01991 | Val Loss: 1.15834\n",
      "Epoch: 014 | Train Loss: 0.96926 | Val Loss: 1.17678\n",
      "Epoch: 015 | Train Loss: 0.89012 | Val Loss: 1.19001\n",
      "Epoch: 016 | Train Loss: 0.83735 | Val Loss: 1.17874\n",
      "Epoch: 017 | Train Loss: 0.76576 | Val Loss: 1.19832\n",
      "Epoch: 018 | Train Loss: 0.69701 | Val Loss: 1.22169\n",
      "Epoch: 019 | Train Loss: 0.67267 | Val Loss: 1.22228\n",
      "Epoch: 020 | Train Loss: 0.61987 | Val Loss: 1.25909\n",
      "Epoch: 021 | Train Loss: 0.57538 | Val Loss: 1.29464\n",
      "Epoch: 022 | Train Loss: 0.52122 | Val Loss: 1.36204\n",
      "Detener entrenamiento en la época 21, la mejor pérdida fue 1.14978\n",
      "Test Accuracy: 60.86%\n"
     ]
    },
    {
     "data": {
      "text/html": [],
      "text/plain": [
       "<IPython.core.display.HTML object>"
      ]
     },
     "metadata": {},
     "output_type": "display_data"
    },
    {
     "data": {
      "text/html": [
       "<br>    <style><br>        .wandb-row {<br>            display: flex;<br>            flex-direction: row;<br>            flex-wrap: wrap;<br>            justify-content: flex-start;<br>            width: 100%;<br>        }<br>        .wandb-col {<br>            display: flex;<br>            flex-direction: column;<br>            flex-basis: 100%;<br>            flex: 1;<br>            padding: 10px;<br>        }<br>    </style><br><div class=\"wandb-row\"><div class=\"wandb-col\"><h3>Run history:</h3><br/><table class=\"wandb\"><tr><td>test_accuracy</td><td>▁</td></tr><tr><td>test_loss</td><td>▁</td></tr></table><br/></div><div class=\"wandb-col\"><h3>Run summary:</h3><br/><table class=\"wandb\"><tr><td>test_accuracy</td><td>60.85578</td></tr><tr><td>test_loss</td><td>1.30012</td></tr></table><br/></div></div>"
      ],
      "text/plain": [
       "<IPython.core.display.HTML object>"
      ]
     },
     "metadata": {},
     "output_type": "display_data"
    },
    {
     "data": {
      "text/html": [
       " View run <strong style=\"color:#cdcd00\">twilight-sweep-20</strong> at: <a href='https://wandb.ai/joacoguerrae-ort/%5Bwandb-labo1-guerra-sanes%5D/runs/3iqgnnez' target=\"_blank\">https://wandb.ai/joacoguerrae-ort/%5Bwandb-labo1-guerra-sanes%5D/runs/3iqgnnez</a><br> View project at: <a href='https://wandb.ai/joacoguerrae-ort/%5Bwandb-labo1-guerra-sanes%5D' target=\"_blank\">https://wandb.ai/joacoguerrae-ort/%5Bwandb-labo1-guerra-sanes%5D</a><br>Synced 5 W&B file(s), 0 media file(s), 0 artifact file(s) and 0 other file(s)"
      ],
      "text/plain": [
       "<IPython.core.display.HTML object>"
      ]
     },
     "metadata": {},
     "output_type": "display_data"
    },
    {
     "data": {
      "text/html": [
       "Find logs at: <code>./wandb/run-20251004_224644-3iqgnnez/logs</code>"
      ],
      "text/plain": [
       "<IPython.core.display.HTML object>"
      ]
     },
     "metadata": {},
     "output_type": "display_data"
    }
   ],
   "source": [
    "wandb.agent(sweep_id_improved, function=train_with_wandb, count=20)"
   ]
  },
  {
   "cell_type": "code",
   "execution_count": 13,
   "metadata": {},
   "outputs": [
    {
     "ename": "CommError",
     "evalue": "Could not find sweep <Sweep %5Bjoacoguerrae-ort%5D/%5Bwandb-labo1-guerra-sanes%5D/9zt0jvn4 (Unknown State)>",
     "output_type": "error",
     "traceback": [
      "\u001b[31m---------------------------------------------------------------------------\u001b[39m",
      "\u001b[31mValueError\u001b[39m                                Traceback (most recent call last)",
      "\u001b[36mFile \u001b[39m\u001b[32m~/.conda/envs/Taller_DL/lib/python3.11/site-packages/wandb/apis/normalize.py:27\u001b[39m, in \u001b[36mnormalize_exceptions.<locals>.wrapper\u001b[39m\u001b[34m(*args, **kwargs)\u001b[39m\n\u001b[32m     26\u001b[39m \u001b[38;5;28;01mtry\u001b[39;00m:\n\u001b[32m---> \u001b[39m\u001b[32m27\u001b[39m     \u001b[38;5;28;01mreturn\u001b[39;00m \u001b[43mfunc\u001b[49m\u001b[43m(\u001b[49m\u001b[43m*\u001b[49m\u001b[43margs\u001b[49m\u001b[43m,\u001b[49m\u001b[43m \u001b[49m\u001b[43m*\u001b[49m\u001b[43m*\u001b[49m\u001b[43mkwargs\u001b[49m\u001b[43m)\u001b[49m\n\u001b[32m     29\u001b[39m \u001b[38;5;28;01mexcept\u001b[39;00m requests.HTTPError \u001b[38;5;28;01mas\u001b[39;00m error:\n",
      "\u001b[36mFile \u001b[39m\u001b[32m~/.conda/envs/Taller_DL/lib/python3.11/site-packages/wandb/apis/public/api.py:1324\u001b[39m, in \u001b[36mApi.sweep\u001b[39m\u001b[34m(self, path)\u001b[39m\n\u001b[32m   1323\u001b[39m \u001b[38;5;28;01mif\u001b[39;00m \u001b[38;5;129;01mnot\u001b[39;00m \u001b[38;5;28mself\u001b[39m._sweeps.get(path):\n\u001b[32m-> \u001b[39m\u001b[32m1324\u001b[39m     \u001b[38;5;28mself\u001b[39m._sweeps[path] = \u001b[43mpublic\u001b[49m\u001b[43m.\u001b[49m\u001b[43mSweep\u001b[49m\u001b[43m(\u001b[49m\u001b[38;5;28;43mself\u001b[39;49m\u001b[43m.\u001b[49m\u001b[43mclient\u001b[49m\u001b[43m,\u001b[49m\u001b[43m \u001b[49m\u001b[43mentity\u001b[49m\u001b[43m,\u001b[49m\u001b[43m \u001b[49m\u001b[43mproject\u001b[49m\u001b[43m,\u001b[49m\u001b[43m \u001b[49m\u001b[43msweep_id\u001b[49m\u001b[43m)\u001b[49m\n\u001b[32m   1325\u001b[39m \u001b[38;5;28;01mreturn\u001b[39;00m \u001b[38;5;28mself\u001b[39m._sweeps[path]\n",
      "\u001b[36mFile \u001b[39m\u001b[32m~/.conda/envs/Taller_DL/lib/python3.11/site-packages/wandb/apis/public/sweeps.py:253\u001b[39m, in \u001b[36mSweep.__init__\u001b[39m\u001b[34m(self, client, entity, project, sweep_id, attrs)\u001b[39m\n\u001b[32m    251\u001b[39m \u001b[38;5;28mself\u001b[39m.runs = []\n\u001b[32m--> \u001b[39m\u001b[32m253\u001b[39m \u001b[38;5;28;43mself\u001b[39;49m\u001b[43m.\u001b[49m\u001b[43mload\u001b[49m\u001b[43m(\u001b[49m\u001b[43mforce\u001b[49m\u001b[43m=\u001b[49m\u001b[38;5;129;43;01mnot\u001b[39;49;00m\u001b[43m \u001b[49m\u001b[43mattrs\u001b[49m\u001b[43m)\u001b[49m\n",
      "\u001b[36mFile \u001b[39m\u001b[32m~/.conda/envs/Taller_DL/lib/python3.11/site-packages/wandb/apis/public/sweeps.py:279\u001b[39m, in \u001b[36mSweep.load\u001b[39m\u001b[34m(self, force)\u001b[39m\n\u001b[32m    278\u001b[39m \u001b[38;5;28;01mif\u001b[39;00m sweep \u001b[38;5;129;01mis\u001b[39;00m \u001b[38;5;28;01mNone\u001b[39;00m:\n\u001b[32m--> \u001b[39m\u001b[32m279\u001b[39m     \u001b[38;5;28;01mraise\u001b[39;00m \u001b[38;5;167;01mValueError\u001b[39;00m(\u001b[33m\"\u001b[39m\u001b[33mCould not find sweep \u001b[39m\u001b[38;5;132;01m{}\u001b[39;00m\u001b[33m\"\u001b[39m.format(\u001b[38;5;28mself\u001b[39m))\n\u001b[32m    280\u001b[39m \u001b[38;5;28mself\u001b[39m._attrs = sweep._attrs\n",
      "\u001b[31mValueError\u001b[39m: Could not find sweep <Sweep %5Bjoacoguerrae-ort%5D/%5Bwandb-labo1-guerra-sanes%5D/9zt0jvn4 (Unknown State)>",
      "\nDuring handling of the above exception, another exception occurred:\n",
      "\u001b[31mCommError\u001b[39m                                 Traceback (most recent call last)",
      "\u001b[36mCell\u001b[39m\u001b[36m \u001b[39m\u001b[32mIn[13]\u001b[39m\u001b[32m, line 6\u001b[39m\n\u001b[32m      4\u001b[39m \u001b[38;5;66;03m# View the best run from your sweep\u001b[39;00m\n\u001b[32m      5\u001b[39m api = wandb.Api()\n\u001b[32m----> \u001b[39m\u001b[32m6\u001b[39m sweep = \u001b[43mapi\u001b[49m\u001b[43m.\u001b[49m\u001b[43msweep\u001b[49m\u001b[43m(\u001b[49m\u001b[33;43mf\u001b[39;49m\u001b[33;43m\"\u001b[39;49m\u001b[38;5;132;43;01m{\u001b[39;49;00m\u001b[43mWANDB_TEAM_NAME\u001b[49m\u001b[38;5;132;43;01m}\u001b[39;49;00m\u001b[33;43m/\u001b[39;49m\u001b[38;5;132;43;01m{\u001b[39;49;00m\u001b[43mWANDB_PROJECT\u001b[49m\u001b[38;5;132;43;01m}\u001b[39;49;00m\u001b[33;43m/\u001b[39;49m\u001b[38;5;132;43;01m{\u001b[39;49;00m\u001b[43msweep_id_improved\u001b[49m\u001b[38;5;132;43;01m}\u001b[39;49;00m\u001b[33;43m\"\u001b[39;49m\u001b[43m)\u001b[49m\n\u001b[32m      7\u001b[39m best_run = sweep.best_run()\n\u001b[32m      9\u001b[39m \u001b[38;5;28mprint\u001b[39m(\u001b[33mf\u001b[39m\u001b[33m\"\u001b[39m\u001b[33mBest run: \u001b[39m\u001b[38;5;132;01m{\u001b[39;00mbest_run.name\u001b[38;5;132;01m}\u001b[39;00m\u001b[33m\"\u001b[39m)\n",
      "\u001b[36mFile \u001b[39m\u001b[32m~/.conda/envs/Taller_DL/lib/python3.11/site-packages/wandb/apis/normalize.py:81\u001b[39m, in \u001b[36mnormalize_exceptions.<locals>.wrapper\u001b[39m\u001b[34m(*args, **kwargs)\u001b[39m\n\u001b[32m     79\u001b[39m     \u001b[38;5;28;01mraise\u001b[39;00m\n\u001b[32m     80\u001b[39m \u001b[38;5;28;01melse\u001b[39;00m:\n\u001b[32m---> \u001b[39m\u001b[32m81\u001b[39m     \u001b[38;5;28;01mraise\u001b[39;00m CommError(message, err).with_traceback(sys.exc_info()[\u001b[32m2\u001b[39m])\n",
      "\u001b[36mFile \u001b[39m\u001b[32m~/.conda/envs/Taller_DL/lib/python3.11/site-packages/wandb/apis/normalize.py:27\u001b[39m, in \u001b[36mnormalize_exceptions.<locals>.wrapper\u001b[39m\u001b[34m(*args, **kwargs)\u001b[39m\n\u001b[32m     25\u001b[39m message = \u001b[33m\"\u001b[39m\u001b[33mWhoa, you found a bug.\u001b[39m\u001b[33m\"\u001b[39m\n\u001b[32m     26\u001b[39m \u001b[38;5;28;01mtry\u001b[39;00m:\n\u001b[32m---> \u001b[39m\u001b[32m27\u001b[39m     \u001b[38;5;28;01mreturn\u001b[39;00m \u001b[43mfunc\u001b[49m\u001b[43m(\u001b[49m\u001b[43m*\u001b[49m\u001b[43margs\u001b[49m\u001b[43m,\u001b[49m\u001b[43m \u001b[49m\u001b[43m*\u001b[49m\u001b[43m*\u001b[49m\u001b[43mkwargs\u001b[49m\u001b[43m)\u001b[49m\n\u001b[32m     29\u001b[39m \u001b[38;5;28;01mexcept\u001b[39;00m requests.HTTPError \u001b[38;5;28;01mas\u001b[39;00m error:\n\u001b[32m     30\u001b[39m     errors = parse_backend_error_messages(error.response)\n",
      "\u001b[36mFile \u001b[39m\u001b[32m~/.conda/envs/Taller_DL/lib/python3.11/site-packages/wandb/apis/public/api.py:1324\u001b[39m, in \u001b[36mApi.sweep\u001b[39m\u001b[34m(self, path)\u001b[39m\n\u001b[32m   1322\u001b[39m entity, project, sweep_id = \u001b[38;5;28mself\u001b[39m._parse_path(path)\n\u001b[32m   1323\u001b[39m \u001b[38;5;28;01mif\u001b[39;00m \u001b[38;5;129;01mnot\u001b[39;00m \u001b[38;5;28mself\u001b[39m._sweeps.get(path):\n\u001b[32m-> \u001b[39m\u001b[32m1324\u001b[39m     \u001b[38;5;28mself\u001b[39m._sweeps[path] = \u001b[43mpublic\u001b[49m\u001b[43m.\u001b[49m\u001b[43mSweep\u001b[49m\u001b[43m(\u001b[49m\u001b[38;5;28;43mself\u001b[39;49m\u001b[43m.\u001b[49m\u001b[43mclient\u001b[49m\u001b[43m,\u001b[49m\u001b[43m \u001b[49m\u001b[43mentity\u001b[49m\u001b[43m,\u001b[49m\u001b[43m \u001b[49m\u001b[43mproject\u001b[49m\u001b[43m,\u001b[49m\u001b[43m \u001b[49m\u001b[43msweep_id\u001b[49m\u001b[43m)\u001b[49m\n\u001b[32m   1325\u001b[39m \u001b[38;5;28;01mreturn\u001b[39;00m \u001b[38;5;28mself\u001b[39m._sweeps[path]\n",
      "\u001b[36mFile \u001b[39m\u001b[32m~/.conda/envs/Taller_DL/lib/python3.11/site-packages/wandb/apis/public/sweeps.py:253\u001b[39m, in \u001b[36mSweep.__init__\u001b[39m\u001b[34m(self, client, entity, project, sweep_id, attrs)\u001b[39m\n\u001b[32m    250\u001b[39m \u001b[38;5;28mself\u001b[39m.id = sweep_id\n\u001b[32m    251\u001b[39m \u001b[38;5;28mself\u001b[39m.runs = []\n\u001b[32m--> \u001b[39m\u001b[32m253\u001b[39m \u001b[38;5;28;43mself\u001b[39;49m\u001b[43m.\u001b[49m\u001b[43mload\u001b[49m\u001b[43m(\u001b[49m\u001b[43mforce\u001b[49m\u001b[43m=\u001b[49m\u001b[38;5;129;43;01mnot\u001b[39;49;00m\u001b[43m \u001b[49m\u001b[43mattrs\u001b[49m\u001b[43m)\u001b[49m\n",
      "\u001b[36mFile \u001b[39m\u001b[32m~/.conda/envs/Taller_DL/lib/python3.11/site-packages/wandb/apis/public/sweeps.py:279\u001b[39m, in \u001b[36mSweep.load\u001b[39m\u001b[34m(self, force)\u001b[39m\n\u001b[32m    277\u001b[39m sweep = \u001b[38;5;28mself\u001b[39m.get(\u001b[38;5;28mself\u001b[39m.client, \u001b[38;5;28mself\u001b[39m.entity, \u001b[38;5;28mself\u001b[39m.project, \u001b[38;5;28mself\u001b[39m.id)\n\u001b[32m    278\u001b[39m \u001b[38;5;28;01mif\u001b[39;00m sweep \u001b[38;5;129;01mis\u001b[39;00m \u001b[38;5;28;01mNone\u001b[39;00m:\n\u001b[32m--> \u001b[39m\u001b[32m279\u001b[39m     \u001b[38;5;28;01mraise\u001b[39;00m \u001b[38;5;167;01mValueError\u001b[39;00m(\u001b[33m\"\u001b[39m\u001b[33mCould not find sweep \u001b[39m\u001b[38;5;132;01m{}\u001b[39;00m\u001b[33m\"\u001b[39m.format(\u001b[38;5;28mself\u001b[39m))\n\u001b[32m    280\u001b[39m \u001b[38;5;28mself\u001b[39m._attrs = sweep._attrs\n\u001b[32m    281\u001b[39m \u001b[38;5;28mself\u001b[39m.runs = sweep.runs\n",
      "\u001b[31mCommError\u001b[39m: Could not find sweep <Sweep %5Bjoacoguerrae-ort%5D/%5Bwandb-labo1-guerra-sanes%5D/9zt0jvn4 (Unknown State)>"
     ]
    }
   ],
   "source": [
    "# Check sweep status and results\n",
    "wandb.finish()  # Finish current run if any\n",
    "\n",
    "# View the best run from your sweep\n",
    "api = wandb.Api()\n",
    "sweep = api.sweep(f\"{WANDB_TEAM_NAME}/{WANDB_PROJECT}/{sweep_id_improved}\")\n",
    "best_run = sweep.best_run()\n",
    "\n",
    "print(f\"Best run: {best_run.name}\")\n",
    "print(f\"Best validation loss: {best_run.summary['val_loss']}\")\n",
    "print(f\"Best config: {best_run.config}\")\n",
    "\n",
    "# Train final model with best hyperparameters\n",
    "# You can now use the best config to train your final model\n"
   ]
  }
 ],
 "metadata": {
  "kernelspec": {
   "display_name": "Taller_DL",
   "language": "python",
   "name": "python3"
  },
  "language_info": {
   "codemirror_mode": {
    "name": "ipython",
    "version": 3
   },
   "file_extension": ".py",
   "mimetype": "text/x-python",
   "name": "python",
   "nbconvert_exporter": "python",
   "pygments_lexer": "ipython3",
   "version": "3.11.13"
  }
 },
 "nbformat": 4,
 "nbformat_minor": 2
}

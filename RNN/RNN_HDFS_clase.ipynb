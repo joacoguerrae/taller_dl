{
  "cells": [
    {
      "cell_type": "markdown",
      "metadata": {
        "id": "q5q0yY84_N69"
      },
      "source": [
        "# Introducción a RNN: Clasificación de Logs de HDFS con PyTorch\n",
        "\n",
        "En esta clase, nos enfocaremos en el uso de Redes Neuronales Recurrentes (RNN) para la clasificación de secuencias de logs del sistema HDFS (Hadoop Distributed File System). Los sistemas distribuidos generan una gran cantidad de logs, y es crucial poder detectar anomalías en esos registros para prevenir fallos en el sistema. El objetivo será clasificar secuencias de logs como **normales** o **anormales**, utilizando PyTorch para entrenar y evaluar el modelo.\n",
        "\n",
        "### Contexto\n",
        "\n",
        "El dataset de HDFS está formado por secuencias de logs generados por sistemas distribuidos. Dado que los eventos anómalos son mucho menos frecuentes que los eventos normales, enfrentaremos el desafío de un **dataset desbalanceado**, lo cual introduce complejidades adicionales en el entrenamiento del modelo. Además, como trabajamos con datos secuenciales, las **Redes Neuronales Recurrentes (RNNs)** son una arquitectura adecuada para modelar la dependencia temporal entre eventos de la secuencia.\n",
        "\n",
        "### Introducción a la Capa de Embedding\n",
        "\n",
        "Una parte clave del pipeline será convertir los logs de texto en una representación numérica que el modelo pueda procesar. En este punto, introduciremos la **capa de embedding** de PyTorch. Las capas de embedding son una herramienta poderosa que permite mapear tokens (en este caso, logs) a vectores densos de tamaño fijo. Estas representaciones densas son más informativas y eficientes que las simples representaciones one-hot, ya que capturan relaciones semánticas entre los distintos tokens.\n",
        "\n",
        "### Objetivos de la Clase\n",
        "\n",
        "1. **Preprocesar secuencias de logs del sistema HDFS** para convertirlas en un formato adecuado para un modelo de RNN.\n",
        "2. **Implementar una capa de embedding en PyTorch** para transformar los logs en representaciones numéricas densas.\n",
        "3. **Entrenar un modelo RNN para la clasificación de secuencias**, abordando el reto del desbalance en los datos.\n",
        "4. **Evaluar el desempeño del modelo en la detección de anomalías** en el sistema HDFS.\n"
      ]
    },
    {
      "cell_type": "code",
      "source": [
        "!pip install torchinfo"
      ],
      "metadata": {
        "colab": {
          "base_uri": "https://localhost:8080/"
        },
        "id": "Kyj7c4WBAL3L",
        "outputId": "4256bdb2-a987-4ef8-d5c8-fc1cb7151c5b"
      },
      "execution_count": 5,
      "outputs": [
        {
          "output_type": "stream",
          "name": "stdout",
          "text": [
            "Requirement already satisfied: torchinfo in /usr/local/lib/python3.12/dist-packages (1.8.0)\n"
          ]
        }
      ]
    },
    {
      "cell_type": "code",
      "execution_count": 6,
      "metadata": {
        "id": "K-eCZ74l_N7A"
      },
      "outputs": [],
      "source": [
        "import torch\n",
        "import torch.nn as nn\n",
        "import torch.nn.functional as F\n",
        "import torch.optim as optim\n",
        "from torch.utils.data import Dataset, DataLoader\n",
        "\n",
        "import pandas as pd\n",
        "import numpy as np\n",
        "import matplotlib.pyplot as plt\n",
        "from sklearn.model_selection import train_test_split\n",
        "import os\n",
        "from pathlib import Path\n",
        "from collections import Counter\n",
        "\n",
        "from torchinfo import summary\n",
        "\n",
        "from utils import (\n",
        "    train,\n",
        "    model_calassification_report,\n",
        "    plot_taining\n",
        ")"
      ]
    },
    {
      "cell_type": "code",
      "execution_count": 7,
      "metadata": {
        "id": "y7anjJfs_N7C"
      },
      "outputs": [],
      "source": [
        "# Fijamos la semilla para que los resultados sean reproducibles\n",
        "SEED = 23\n",
        "\n",
        "torch.manual_seed(SEED)\n",
        "torch.backends.cudnn.deterministic = True\n",
        "torch.backends.cudnn.benchmark = False"
      ]
    },
    {
      "cell_type": "code",
      "execution_count": 8,
      "metadata": {
        "colab": {
          "base_uri": "https://localhost:8080/"
        },
        "id": "_Hf5cfu__N7C",
        "outputId": "5a2845a4-4948-4a67-e202-376e45dc358f"
      },
      "outputs": [
        {
          "output_type": "stream",
          "name": "stdout",
          "text": [
            "Usando cuda\n",
            "Usando 4\n"
          ]
        }
      ],
      "source": [
        "import sys\n",
        "\n",
        "# definimos el dispositivo que vamos a usar\n",
        "DEVICE = \"cpu\"  # por defecto, usamos la CPU\n",
        "if torch.cuda.is_available():\n",
        "    DEVICE = \"cuda\"  # si hay GPU, usamos la GPU\n",
        "elif torch.backends.mps.is_available():\n",
        "    DEVICE = \"mps\"  # si no hay GPU, pero hay MPS, usamos MPS\n",
        "elif torch.xpu.is_available():\n",
        "    DEVICE = \"xpu\"  # si no hay GPU, pero hay XPU, usamos XPU\n",
        "\n",
        "print(f\"Usando {DEVICE}\")\n",
        "\n",
        "NUM_WORKERS = 0 # Win y MacOS pueden tener problemas con múltiples workers\n",
        "if sys.platform == 'linux':\n",
        "    NUM_WORKERS = 4  # numero de workers para cargar los datos (depende de cada caso)\n",
        "\n",
        "print(f\"Usando {NUM_WORKERS}\")\n"
      ]
    },
    {
      "cell_type": "code",
      "execution_count": 9,
      "metadata": {
        "id": "aDVYSlBF_N7D"
      },
      "outputs": [],
      "source": [
        "BATCH_SIZE = 256  # tamaño del batch"
      ]
    },
    {
      "cell_type": "markdown",
      "metadata": {
        "id": "mQ7ipPq2_N7D"
      },
      "source": [
        "## Carga de Datos\n",
        "\n",
        "En primer lugar, cargaremos el dataset de logs de HDFS. Este dataset contiene secuencias de logs generados por un sistema distribuido. Cada secuencia de logs está etiquetada como **normal** o **anormal**. El objetivo es entrenar un modelo que pueda clasificar automáticamente si una secuencia de logs es normal o anormal.\n",
        "\n",
        "Pero nosotros no vamos a usar el dataset original, ejemplo:\n",
        "\n",
        "```plaintext\n",
        "2025-10-12 11:00:00,123 INFO org.apache.hadoop.hdfs.server.namenode.FSNamesystem: BLOCK* NameSystem.addStoredBlock: block blk_1073741825 added to datanode DatanodeInfoWithStorage[127.0.0.1:50010]\n",
        "2025-10-12 11:00:00,456 INFO org.apache.hadoop.hdfs.server.datanode.DataNode: PacketResponder for block blk_1073741825 terminating\n",
        "2025-10-12 11:00:01,002 INFO org.apache.hadoop.hdfs.server.datanode.DataNode: Received block blk_1073741826 from /127.0.0.1\n",
        "2025-10-12 11:00:02,104 INFO org.apache.hadoop.hdfs.server.namenode.FSNamesystem: BLOCK* NameSystem.allocateBlock: /user/joaquin/file1.txt. BP-123-... blk_1073741827\n",
        "2025-10-12 11:00:03,230 INFO org.apache.hadoop.hdfs.server.datanode.DataNode: PacketResponder for block blk_1073741827 terminating\n",
        "2025-10-12 11:00:05,521 ERROR org.apache.hadoop.hdfs.server.datanode.DataNode: Could not replicate blk_1073741827 to 192.168.1.3 because of disk failure\n",
        "```\n",
        "Sino que vamos a usar un dataset ya preprocesado, que contiene secuencias de logs tokenizadas y convertidas en índices numéricos. Este dataset está dividido en conjuntos de entrenamiento y prueba."
      ]
    },
    {
      "cell_type": "code",
      "execution_count": 10,
      "metadata": {
        "id": "HkVOtXU2_N7D"
      },
      "outputs": [],
      "source": [
        "TRAIN_PATH = str(Path(\"data\") / \"log_classification_train.csv\")\n",
        "TEST_PATH = str(Path(\"data\") / \"log_classification_test.csv\")\n",
        "\n",
        "# Cargamos los datos\n",
        "train_df = pd.read_csv(TRAIN_PATH)\n",
        "test_df = pd.read_csv(TEST_PATH)"
      ]
    },
    {
      "cell_type": "code",
      "execution_count": 11,
      "metadata": {
        "colab": {
          "base_uri": "https://localhost:8080/",
          "height": 363
        },
        "id": "3yrAtHd5_N7E",
        "outputId": "15b002c4-763b-4d51-a739-a9f5f970b59f"
      },
      "outputs": [
        {
          "output_type": "execute_result",
          "data": {
            "text/plain": [
              "   id                                           sequence   class\n",
              "0   0  (4, 4, 4, 21, 10, 8, 10, 8, 10, 8, 25, 25, 25,...  normal\n",
              "1   1  (4, 4, 4, 21, 10, 8, 25, 10, 8, 10, 8, 25, 25,...  normal\n",
              "2   2  (21, 4, 4, 4, 25, 25, 10, 8, 25, 10, 8, 10, 8,...  normal\n",
              "3   3  (21, 4, 4, 4, 10, 8, 10, 8, 10, 8, 25, 25, 25,...  normal\n",
              "4   4  (21, 4, 4, 4, 25, 25, 25, 10, 8, 10, 8, 10, 8,...  normal\n",
              "5   5  (21, 4, 4, 4, 25, 25, 25, 10, 8, 10, 8, 10, 8,...  normal\n",
              "6   6  (21, 4, 4, 4, 25, 25, 25, 10, 8, 10, 8, 10, 8,...  normal\n",
              "7   7  (4, 4, 4, 21, 10, 8, 10, 8, 10, 8, 25, 25, 25,...  normal\n",
              "8   8  (4, 21, 4, 4, 10, 8, 10, 8, 10, 8, 25, 25, 25,...  normal\n",
              "9   9  (21, 4, 4, 4, 25, 25, 25, 10, 8, 10, 8, 10, 8,...  normal"
            ],
            "text/html": [
              "\n",
              "  <div id=\"df-b5a5b977-b520-4d50-bd5d-9f7f6bdd8e74\" class=\"colab-df-container\">\n",
              "    <div>\n",
              "<style scoped>\n",
              "    .dataframe tbody tr th:only-of-type {\n",
              "        vertical-align: middle;\n",
              "    }\n",
              "\n",
              "    .dataframe tbody tr th {\n",
              "        vertical-align: top;\n",
              "    }\n",
              "\n",
              "    .dataframe thead th {\n",
              "        text-align: right;\n",
              "    }\n",
              "</style>\n",
              "<table border=\"1\" class=\"dataframe\">\n",
              "  <thead>\n",
              "    <tr style=\"text-align: right;\">\n",
              "      <th></th>\n",
              "      <th>id</th>\n",
              "      <th>sequence</th>\n",
              "      <th>class</th>\n",
              "    </tr>\n",
              "  </thead>\n",
              "  <tbody>\n",
              "    <tr>\n",
              "      <th>0</th>\n",
              "      <td>0</td>\n",
              "      <td>(4, 4, 4, 21, 10, 8, 10, 8, 10, 8, 25, 25, 25,...</td>\n",
              "      <td>normal</td>\n",
              "    </tr>\n",
              "    <tr>\n",
              "      <th>1</th>\n",
              "      <td>1</td>\n",
              "      <td>(4, 4, 4, 21, 10, 8, 25, 10, 8, 10, 8, 25, 25,...</td>\n",
              "      <td>normal</td>\n",
              "    </tr>\n",
              "    <tr>\n",
              "      <th>2</th>\n",
              "      <td>2</td>\n",
              "      <td>(21, 4, 4, 4, 25, 25, 10, 8, 25, 10, 8, 10, 8,...</td>\n",
              "      <td>normal</td>\n",
              "    </tr>\n",
              "    <tr>\n",
              "      <th>3</th>\n",
              "      <td>3</td>\n",
              "      <td>(21, 4, 4, 4, 10, 8, 10, 8, 10, 8, 25, 25, 25,...</td>\n",
              "      <td>normal</td>\n",
              "    </tr>\n",
              "    <tr>\n",
              "      <th>4</th>\n",
              "      <td>4</td>\n",
              "      <td>(21, 4, 4, 4, 25, 25, 25, 10, 8, 10, 8, 10, 8,...</td>\n",
              "      <td>normal</td>\n",
              "    </tr>\n",
              "    <tr>\n",
              "      <th>5</th>\n",
              "      <td>5</td>\n",
              "      <td>(21, 4, 4, 4, 25, 25, 25, 10, 8, 10, 8, 10, 8,...</td>\n",
              "      <td>normal</td>\n",
              "    </tr>\n",
              "    <tr>\n",
              "      <th>6</th>\n",
              "      <td>6</td>\n",
              "      <td>(21, 4, 4, 4, 25, 25, 25, 10, 8, 10, 8, 10, 8,...</td>\n",
              "      <td>normal</td>\n",
              "    </tr>\n",
              "    <tr>\n",
              "      <th>7</th>\n",
              "      <td>7</td>\n",
              "      <td>(4, 4, 4, 21, 10, 8, 10, 8, 10, 8, 25, 25, 25,...</td>\n",
              "      <td>normal</td>\n",
              "    </tr>\n",
              "    <tr>\n",
              "      <th>8</th>\n",
              "      <td>8</td>\n",
              "      <td>(4, 21, 4, 4, 10, 8, 10, 8, 10, 8, 25, 25, 25,...</td>\n",
              "      <td>normal</td>\n",
              "    </tr>\n",
              "    <tr>\n",
              "      <th>9</th>\n",
              "      <td>9</td>\n",
              "      <td>(21, 4, 4, 4, 25, 25, 25, 10, 8, 10, 8, 10, 8,...</td>\n",
              "      <td>normal</td>\n",
              "    </tr>\n",
              "  </tbody>\n",
              "</table>\n",
              "</div>\n",
              "    <div class=\"colab-df-buttons\">\n",
              "\n",
              "  <div class=\"colab-df-container\">\n",
              "    <button class=\"colab-df-convert\" onclick=\"convertToInteractive('df-b5a5b977-b520-4d50-bd5d-9f7f6bdd8e74')\"\n",
              "            title=\"Convert this dataframe to an interactive table.\"\n",
              "            style=\"display:none;\">\n",
              "\n",
              "  <svg xmlns=\"http://www.w3.org/2000/svg\" height=\"24px\" viewBox=\"0 -960 960 960\">\n",
              "    <path d=\"M120-120v-720h720v720H120Zm60-500h600v-160H180v160Zm220 220h160v-160H400v160Zm0 220h160v-160H400v160ZM180-400h160v-160H180v160Zm440 0h160v-160H620v160ZM180-180h160v-160H180v160Zm440 0h160v-160H620v160Z\"/>\n",
              "  </svg>\n",
              "    </button>\n",
              "\n",
              "  <style>\n",
              "    .colab-df-container {\n",
              "      display:flex;\n",
              "      gap: 12px;\n",
              "    }\n",
              "\n",
              "    .colab-df-convert {\n",
              "      background-color: #E8F0FE;\n",
              "      border: none;\n",
              "      border-radius: 50%;\n",
              "      cursor: pointer;\n",
              "      display: none;\n",
              "      fill: #1967D2;\n",
              "      height: 32px;\n",
              "      padding: 0 0 0 0;\n",
              "      width: 32px;\n",
              "    }\n",
              "\n",
              "    .colab-df-convert:hover {\n",
              "      background-color: #E2EBFA;\n",
              "      box-shadow: 0px 1px 2px rgba(60, 64, 67, 0.3), 0px 1px 3px 1px rgba(60, 64, 67, 0.15);\n",
              "      fill: #174EA6;\n",
              "    }\n",
              "\n",
              "    .colab-df-buttons div {\n",
              "      margin-bottom: 4px;\n",
              "    }\n",
              "\n",
              "    [theme=dark] .colab-df-convert {\n",
              "      background-color: #3B4455;\n",
              "      fill: #D2E3FC;\n",
              "    }\n",
              "\n",
              "    [theme=dark] .colab-df-convert:hover {\n",
              "      background-color: #434B5C;\n",
              "      box-shadow: 0px 1px 3px 1px rgba(0, 0, 0, 0.15);\n",
              "      filter: drop-shadow(0px 1px 2px rgba(0, 0, 0, 0.3));\n",
              "      fill: #FFFFFF;\n",
              "    }\n",
              "  </style>\n",
              "\n",
              "    <script>\n",
              "      const buttonEl =\n",
              "        document.querySelector('#df-b5a5b977-b520-4d50-bd5d-9f7f6bdd8e74 button.colab-df-convert');\n",
              "      buttonEl.style.display =\n",
              "        google.colab.kernel.accessAllowed ? 'block' : 'none';\n",
              "\n",
              "      async function convertToInteractive(key) {\n",
              "        const element = document.querySelector('#df-b5a5b977-b520-4d50-bd5d-9f7f6bdd8e74');\n",
              "        const dataTable =\n",
              "          await google.colab.kernel.invokeFunction('convertToInteractive',\n",
              "                                                    [key], {});\n",
              "        if (!dataTable) return;\n",
              "\n",
              "        const docLinkHtml = 'Like what you see? Visit the ' +\n",
              "          '<a target=\"_blank\" href=https://colab.research.google.com/notebooks/data_table.ipynb>data table notebook</a>'\n",
              "          + ' to learn more about interactive tables.';\n",
              "        element.innerHTML = '';\n",
              "        dataTable['output_type'] = 'display_data';\n",
              "        await google.colab.output.renderOutput(dataTable, element);\n",
              "        const docLink = document.createElement('div');\n",
              "        docLink.innerHTML = docLinkHtml;\n",
              "        element.appendChild(docLink);\n",
              "      }\n",
              "    </script>\n",
              "  </div>\n",
              "\n",
              "\n",
              "    <div id=\"df-1d540c68-840c-4eba-a235-fcbb7e9ed624\">\n",
              "      <button class=\"colab-df-quickchart\" onclick=\"quickchart('df-1d540c68-840c-4eba-a235-fcbb7e9ed624')\"\n",
              "                title=\"Suggest charts\"\n",
              "                style=\"display:none;\">\n",
              "\n",
              "<svg xmlns=\"http://www.w3.org/2000/svg\" height=\"24px\"viewBox=\"0 0 24 24\"\n",
              "     width=\"24px\">\n",
              "    <g>\n",
              "        <path d=\"M19 3H5c-1.1 0-2 .9-2 2v14c0 1.1.9 2 2 2h14c1.1 0 2-.9 2-2V5c0-1.1-.9-2-2-2zM9 17H7v-7h2v7zm4 0h-2V7h2v10zm4 0h-2v-4h2v4z\"/>\n",
              "    </g>\n",
              "</svg>\n",
              "      </button>\n",
              "\n",
              "<style>\n",
              "  .colab-df-quickchart {\n",
              "      --bg-color: #E8F0FE;\n",
              "      --fill-color: #1967D2;\n",
              "      --hover-bg-color: #E2EBFA;\n",
              "      --hover-fill-color: #174EA6;\n",
              "      --disabled-fill-color: #AAA;\n",
              "      --disabled-bg-color: #DDD;\n",
              "  }\n",
              "\n",
              "  [theme=dark] .colab-df-quickchart {\n",
              "      --bg-color: #3B4455;\n",
              "      --fill-color: #D2E3FC;\n",
              "      --hover-bg-color: #434B5C;\n",
              "      --hover-fill-color: #FFFFFF;\n",
              "      --disabled-bg-color: #3B4455;\n",
              "      --disabled-fill-color: #666;\n",
              "  }\n",
              "\n",
              "  .colab-df-quickchart {\n",
              "    background-color: var(--bg-color);\n",
              "    border: none;\n",
              "    border-radius: 50%;\n",
              "    cursor: pointer;\n",
              "    display: none;\n",
              "    fill: var(--fill-color);\n",
              "    height: 32px;\n",
              "    padding: 0;\n",
              "    width: 32px;\n",
              "  }\n",
              "\n",
              "  .colab-df-quickchart:hover {\n",
              "    background-color: var(--hover-bg-color);\n",
              "    box-shadow: 0 1px 2px rgba(60, 64, 67, 0.3), 0 1px 3px 1px rgba(60, 64, 67, 0.15);\n",
              "    fill: var(--button-hover-fill-color);\n",
              "  }\n",
              "\n",
              "  .colab-df-quickchart-complete:disabled,\n",
              "  .colab-df-quickchart-complete:disabled:hover {\n",
              "    background-color: var(--disabled-bg-color);\n",
              "    fill: var(--disabled-fill-color);\n",
              "    box-shadow: none;\n",
              "  }\n",
              "\n",
              "  .colab-df-spinner {\n",
              "    border: 2px solid var(--fill-color);\n",
              "    border-color: transparent;\n",
              "    border-bottom-color: var(--fill-color);\n",
              "    animation:\n",
              "      spin 1s steps(1) infinite;\n",
              "  }\n",
              "\n",
              "  @keyframes spin {\n",
              "    0% {\n",
              "      border-color: transparent;\n",
              "      border-bottom-color: var(--fill-color);\n",
              "      border-left-color: var(--fill-color);\n",
              "    }\n",
              "    20% {\n",
              "      border-color: transparent;\n",
              "      border-left-color: var(--fill-color);\n",
              "      border-top-color: var(--fill-color);\n",
              "    }\n",
              "    30% {\n",
              "      border-color: transparent;\n",
              "      border-left-color: var(--fill-color);\n",
              "      border-top-color: var(--fill-color);\n",
              "      border-right-color: var(--fill-color);\n",
              "    }\n",
              "    40% {\n",
              "      border-color: transparent;\n",
              "      border-right-color: var(--fill-color);\n",
              "      border-top-color: var(--fill-color);\n",
              "    }\n",
              "    60% {\n",
              "      border-color: transparent;\n",
              "      border-right-color: var(--fill-color);\n",
              "    }\n",
              "    80% {\n",
              "      border-color: transparent;\n",
              "      border-right-color: var(--fill-color);\n",
              "      border-bottom-color: var(--fill-color);\n",
              "    }\n",
              "    90% {\n",
              "      border-color: transparent;\n",
              "      border-bottom-color: var(--fill-color);\n",
              "    }\n",
              "  }\n",
              "</style>\n",
              "\n",
              "      <script>\n",
              "        async function quickchart(key) {\n",
              "          const quickchartButtonEl =\n",
              "            document.querySelector('#' + key + ' button');\n",
              "          quickchartButtonEl.disabled = true;  // To prevent multiple clicks.\n",
              "          quickchartButtonEl.classList.add('colab-df-spinner');\n",
              "          try {\n",
              "            const charts = await google.colab.kernel.invokeFunction(\n",
              "                'suggestCharts', [key], {});\n",
              "          } catch (error) {\n",
              "            console.error('Error during call to suggestCharts:', error);\n",
              "          }\n",
              "          quickchartButtonEl.classList.remove('colab-df-spinner');\n",
              "          quickchartButtonEl.classList.add('colab-df-quickchart-complete');\n",
              "        }\n",
              "        (() => {\n",
              "          let quickchartButtonEl =\n",
              "            document.querySelector('#df-1d540c68-840c-4eba-a235-fcbb7e9ed624 button');\n",
              "          quickchartButtonEl.style.display =\n",
              "            google.colab.kernel.accessAllowed ? 'block' : 'none';\n",
              "        })();\n",
              "      </script>\n",
              "    </div>\n",
              "\n",
              "    </div>\n",
              "  </div>\n"
            ],
            "application/vnd.google.colaboratory.intrinsic+json": {
              "type": "dataframe",
              "variable_name": "train_df"
            }
          },
          "metadata": {},
          "execution_count": 11
        }
      ],
      "source": [
        "train_df.head(10)"
      ]
    },
    {
      "cell_type": "markdown",
      "metadata": {
        "id": "fwb5FI2H_N7E"
      },
      "source": [
        "## Analisis exploratorio de datos\n",
        "\n",
        "Primero, realizaremos un análisis exploratorio de los datos para comprender mejor la distribución de las clases y la longitud de las secuencias de logs."
      ]
    },
    {
      "cell_type": "code",
      "execution_count": 12,
      "metadata": {
        "colab": {
          "base_uri": "https://localhost:8080/",
          "height": 463
        },
        "id": "H5ud0c2m_N7E",
        "outputId": "1234c79a-6f36-4625-c730-7c607ea74f33"
      },
      "outputs": [
        {
          "output_type": "display_data",
          "data": {
            "text/plain": [
              "<Figure size 600x400 with 1 Axes>"
            ],
            "image/png": "[encoded data removed]"
          },
          "metadata": {}
        }
      ],
      "source": [
        "# distribución de las clases\n",
        "class_distribution = train_df[\"class\"].value_counts()\n",
        "\n",
        "plt.figure(figsize=(6,4))\n",
        "class_distribution.plot(kind='bar')\n",
        "plt.title('Distribución de Clases en el Conjunto de Entrenamiento')\n",
        "plt.xlabel('Clase')\n",
        "plt.ylabel('Frecuencia')\n",
        "plt.show()"
      ]
    },
    {
      "cell_type": "code",
      "execution_count": 13,
      "metadata": {
        "id": "d2w6Ompl_N7E"
      },
      "outputs": [],
      "source": [
        "# largo de secuencias\n",
        "train_df['sequence_length'] = train_df['sequence'].apply(lambda x: len(eval(x)))"
      ]
    },
    {
      "cell_type": "code",
      "execution_count": 14,
      "metadata": {
        "colab": {
          "base_uri": "https://localhost:8080/",
          "height": 602
        },
        "id": "lX6OqlcE_N7F",
        "outputId": "372fd88a-8f16-490a-8de9-b0eeb0e473dc"
      },
      "outputs": [
        {
          "output_type": "display_data",
          "data": {
            "text/plain": [
              "<Figure size 1000x600 with 1 Axes>"
            ],
            "image/png": "[encoded data removed]"
          },
          "metadata": {}
        },
        {
          "output_type": "stream",
          "name": "stdout",
          "text": [
            "Secuencia más larga: 298\n",
            "Secuencia más corta: 2\n"
          ]
        }
      ],
      "source": [
        "plt.figure(figsize=(10,6))\n",
        "plt.hist(train_df['sequence_length'], bins=50, alpha=0.5, label='Train')\n",
        "plt.hist(train_df['sequence_length'], bins=50, alpha=0.5, label='Test')\n",
        "plt.title('Distribución del Largo de las Secuencias')\n",
        "plt.xlabel('Largo de la Secuencia')\n",
        "plt.ylabel('Frecuencia')\n",
        "plt.legend()\n",
        "plt.show()\n",
        "\n",
        "print(f\"Secuencia más larga: {train_df['sequence_length'].max()}\")\n",
        "print(f\"Secuencia más corta: {train_df['sequence_length'].min()}\")"
      ]
    },
    {
      "cell_type": "code",
      "execution_count": 15,
      "metadata": {
        "colab": {
          "base_uri": "https://localhost:8080/",
          "height": 602
        },
        "id": "GLcY5WU__N7F",
        "outputId": "e64eadc1-ff8a-4881-b139-a388a5a3d490"
      },
      "outputs": [
        {
          "output_type": "display_data",
          "data": {
            "text/plain": [
              "<Figure size 1000x600 with 1 Axes>"
            ],
            "image/png": "[encoded data removed]"
          },
          "metadata": {}
        },
        {
          "output_type": "stream",
          "name": "stdout",
          "text": [
            "Secuencia más larga: 298\n",
            "Secuencia más corta: 13\n"
          ]
        }
      ],
      "source": [
        "plt.figure(figsize=(10,6))\n",
        "\n",
        "# Histograma para la clase \"normal\"\n",
        "plt.hist(train_df[train_df['class'] == 'normal']['sequence_length'], bins=30, alpha=0.5, label='Normal')\n",
        "\n",
        "plt.title('Distribución del Largo de las Secuencias por Clase')\n",
        "plt.xlabel('Largo de la Secuencia')\n",
        "plt.ylabel('Frecuencia')\n",
        "plt.legend()\n",
        "plt.show()\n",
        "\n",
        "print(f\"Secuencia más larga: {train_df[train_df['class'] == 'normal']['sequence_length'].max()}\")\n",
        "print(f\"Secuencia más corta: {train_df[train_df['class'] == 'normal']['sequence_length'].min()}\")\n"
      ]
    },
    {
      "cell_type": "code",
      "execution_count": 16,
      "metadata": {
        "colab": {
          "base_uri": "https://localhost:8080/",
          "height": 602
        },
        "id": "7XO7yog9_N7F",
        "outputId": "392fb81a-3f69-4fbf-df6e-5de6d0d89ac9"
      },
      "outputs": [
        {
          "output_type": "display_data",
          "data": {
            "text/plain": [
              "<Figure size 1000x600 with 1 Axes>"
            ],
            "image/png": "[encoded data removed]"
          },
          "metadata": {}
        },
        {
          "output_type": "stream",
          "name": "stdout",
          "text": [
            "Secuencia más larga: 284\n",
            "Secuencia más corta: 2\n"
          ]
        }
      ],
      "source": [
        "plt.figure(figsize=(10,6))\n",
        "\n",
        "# Histograma para la clase \"abnormal\"\n",
        "plt.hist(train_df[train_df['class'] == 'abnormal']['sequence_length'], bins=30, alpha=0.5, label='Abnormal')\n",
        "\n",
        "plt.title('Distribución del Largo de las Secuencias por Clase')\n",
        "plt.xlabel('Largo de la Secuencia')\n",
        "plt.ylabel('Frecuencia')\n",
        "plt.legend()\n",
        "plt.show()\n",
        "\n",
        "print(f\"Secuencia más larga: {train_df[train_df['class'] == 'abnormal']['sequence_length'].max()}\")\n",
        "print(f\"Secuencia más corta: {train_df[train_df['class'] == 'abnormal']['sequence_length'].min()}\")"
      ]
    },
    {
      "cell_type": "markdown",
      "metadata": {
        "id": "9edg6WUg_N7F"
      },
      "source": [
        "¿Qué valores tienen los datos?"
      ]
    },
    {
      "cell_type": "code",
      "execution_count": 17,
      "metadata": {
        "colab": {
          "base_uri": "https://localhost:8080/"
        },
        "id": "VHESsFGT_N7F",
        "outputId": "5bc2aaaa-e89c-468c-fae9-8851d8de840b"
      },
      "outputs": [
        {
          "output_type": "stream",
          "name": "stdout",
          "text": [
            "Valor mínimo de las secuencias: 0\n",
            "Valor máximo de las secuencias: 27\n"
          ]
        }
      ],
      "source": [
        "# Convertir las secuencias de string a listas y obtener una lista de listas\n",
        "all_sequences = train_df['sequence'].apply(lambda x: list(eval(x)))\n",
        "\n",
        "# Aplanar la lista de listas para tener una lista de todos los elementos de todas las secuencias\n",
        "all_elements = [item for sublist in all_sequences for item in sublist]\n",
        "\n",
        "# Encontrar el valor mínimo y máximo\n",
        "min_value = min(all_elements)\n",
        "max_value = max(all_elements)\n",
        "\n",
        "print(f\"Valor mínimo de las secuencias: {min_value}\")\n",
        "print(f\"Valor máximo de las secuencias: {max_value}\")\n"
      ]
    },
    {
      "cell_type": "markdown",
      "metadata": {
        "id": "eBUB7jvP_N7F"
      },
      "source": [
        "## Preprocesamiento de Datos\n",
        "\n",
        "Dado que vamos a necesitar una sequencia de logs de longitud fija para entrenar el modelo, realizaremos un preprocesamiento de los datos para convertir las secuencias de logs en tensores de longitud fija. Además, como el valor minimos de la secuencia es 0 vamos a dejar lo en base 1 (sumando 1 a cada valor). De esa manera reservamos el 0 para hacer padding.\n",
        "\n",
        "Preguntas relevantes:\n",
        "- ¿Qué es más importante, el principio o el final de la secuencia?\n",
        "- ¿Qué longitud de secuencia es adecuada para capturar la información relevante?\n",
        "- ¿Hacer left-padding o right-padding?"
      ]
    },
    {
      "cell_type": "code",
      "execution_count": 18,
      "metadata": {
        "colab": {
          "base_uri": "https://localhost:8080/"
        },
        "id": "ExFBqhpz_N7G",
        "outputId": "c020c881-4db7-4bf1-c894-69b2e6e93c78"
      },
      "outputs": [
        {
          "output_type": "stream",
          "name": "stdout",
          "text": [
            "                                            sequence  \\\n",
            "0  (4, 4, 4, 21, 10, 8, 10, 8, 10, 8, 25, 25, 25,...   \n",
            "1  (4, 4, 4, 21, 10, 8, 25, 10, 8, 10, 8, 25, 25,...   \n",
            "2  (21, 4, 4, 4, 25, 25, 10, 8, 25, 10, 8, 10, 8,...   \n",
            "3  (21, 4, 4, 4, 10, 8, 10, 8, 10, 8, 25, 25, 25,...   \n",
            "4  (21, 4, 4, 4, 25, 25, 25, 10, 8, 10, 8, 10, 8,...   \n",
            "\n",
            "                                     padded_sequence  \n",
            "0  [0, 0, 0, 0, 0, 0, 0, 0, 0, 0, 0, 0, 0, 0, 0, ...  \n",
            "1  [0, 0, 0, 0, 0, 0, 0, 0, 0, 0, 0, 0, 0, 0, 0, ...  \n",
            "2  [0, 0, 0, 0, 0, 0, 0, 0, 0, 0, 0, 0, 0, 0, 0, ...  \n",
            "3  [0, 0, 0, 0, 0, 0, 0, 0, 0, 0, 0, 0, 0, 0, 0, ...  \n",
            "4  [0, 0, 0, 0, 0, 0, 0, 0, 0, 0, 0, 0, 0, 0, 0, ...  \n"
          ]
        }
      ],
      "source": [
        "SEQ_LEN = 50  # Longitud de las secuencias con las que vamos a trabajar\n",
        "PADDING_VALUE = 0  # Valor usado para hacer padding\n",
        "\n",
        "def preprocess_sequence(sequence, max_len=SEQ_LEN, truncating='post', padding_value=PADDING_VALUE, padding='left'):\n",
        "    # Convertir la secuencia de string a lista de enteros (en base 1)\n",
        "    sequence = [x + 1 for x in eval(sequence)]\n",
        "\n",
        "    # Si la secuencia es más larga que max_len, la truncamos\n",
        "    if len(sequence) > max_len:\n",
        "        if truncating == 'post':\n",
        "            sequence = sequence[:max_len]\n",
        "        else:\n",
        "            sequence = sequence[-max_len:]\n",
        "\n",
        "    # Si la secuencia es más corta que max_len, añadimos padding\n",
        "    if len(sequence) < max_len:\n",
        "        padding_size = max_len - len(sequence)\n",
        "\n",
        "        if padding == 'right':\n",
        "            sequence = sequence + [padding_value] * padding_size\n",
        "        else:\n",
        "            sequence = [padding_value] * padding_size + sequence\n",
        "\n",
        "    return sequence\n",
        "\n",
        "# Aplicamos el preprocesamiento a todas las secuencias en el DataFrame\n",
        "train_df['padded_sequence'] = train_df['sequence'].apply(lambda x: preprocess_sequence(x, truncating='pre', padding='left'))\n",
        "test_df['padded_sequence'] = test_df['sequence'].apply(lambda x: preprocess_sequence(x, truncating='pre', padding='left'))\n",
        "\n",
        "# Ver el resultado\n",
        "print(train_df[['sequence', 'padded_sequence']].head())"
      ]
    },
    {
      "cell_type": "markdown",
      "metadata": {
        "id": "gWKyFJ97_N7G"
      },
      "source": [
        "## Dataset y Dataloaders"
      ]
    },
    {
      "cell_type": "code",
      "execution_count": 19,
      "metadata": {
        "id": "xjTfHp_k_N7G"
      },
      "outputs": [],
      "source": [
        "class LogDataset(Dataset):\n",
        "    def __init__(self, sequences, labels):\n",
        "        \"\"\"\n",
        "        Args:\n",
        "            sequences (list of lists): Secuencias preprocesadas.\n",
        "            labels (list): Etiquetas correspondientes (e.g., 0 para normal, 1 para abnormal).\n",
        "        \"\"\"\n",
        "        self.sequences = sequences  # Las secuencias preprocesadas (padded)\n",
        "        self.labels = labels  # Las etiquetas (normal, abnormal)\n",
        "\n",
        "    def __len__(self):\n",
        "        # Devuelve la longitud del dataset (número de secuencias)\n",
        "        return len(self.sequences)\n",
        "\n",
        "    def __getitem__(self, idx):\n",
        "        # Devuelve una secuencia y su etiqueta correspondiente\n",
        "        sequence = torch.tensor(self.sequences[idx], dtype=torch.long)  # Convertimos la secuencia a tensor\n",
        "        label = torch.tensor(self.labels[idx], dtype=torch.long)  # Convertimos la etiqueta a tensor\n",
        "        return sequence, label"
      ]
    },
    {
      "cell_type": "markdown",
      "metadata": {
        "id": "A4fOAyem_N7G"
      },
      "source": [
        "Vamos a usar `sklearn.model_selection.train_test_split` para dividir el dataset en conjuntos de entrenamiento y validación ya que el dataset esta desbalanceado."
      ]
    },
    {
      "cell_type": "code",
      "execution_count": 20,
      "metadata": {
        "id": "eUqrUlsa_N7G"
      },
      "outputs": [],
      "source": [
        "sequences = train_df['padded_sequence'].tolist()  # Lista de secuencias preprocesadas\n",
        "labels = [0 if cls == 'normal' else 1 for cls in train_df['class']]  # Etiquetas convertidas a 0 y 1\n",
        "\n",
        "# Dividir las secuencias y las etiquetas en entrenamiento y prueba\n",
        "# manteniendo la proporción de clases (stratify=labels)\n",
        "train_seq, val_seq, train_labels, val_labels = train_test_split(sequences, labels, test_size=0.2, random_state=SEED, stratify=labels)\n",
        "\n",
        "train_dataset = LogDataset(train_seq, train_labels)\n",
        "val_dataset = LogDataset(val_seq, val_labels)"
      ]
    },
    {
      "cell_type": "code",
      "execution_count": 21,
      "metadata": {
        "id": "ZW4-ew-S_N7G"
      },
      "outputs": [],
      "source": [
        "test_seq = test_df['padded_sequence'].tolist()\n",
        "test_labels = [0 if cls == 'normal' else 1 for cls in test_df['class']]\n",
        "test_dataset = LogDataset(test_seq, test_labels)"
      ]
    },
    {
      "cell_type": "code",
      "execution_count": 22,
      "metadata": {
        "id": "DoKBK1yc_N7G"
      },
      "outputs": [],
      "source": [
        "def get_data_loaders(batch_size):\n",
        "\n",
        "    train_loader = DataLoader(\n",
        "        train_dataset, batch_size=batch_size, shuffle=True, num_workers=NUM_WORKERS\n",
        "    )\n",
        "\n",
        "    val_loader = DataLoader(\n",
        "        val_dataset, batch_size=batch_size, shuffle=False, num_workers=NUM_WORKERS\n",
        "    )\n",
        "\n",
        "    test_loader = DataLoader(\n",
        "        test_dataset, batch_size=batch_size, shuffle=False, num_workers=NUM_WORKERS\n",
        "    )\n",
        "\n",
        "    return train_loader, val_loader, test_loader"
      ]
    },
    {
      "cell_type": "code",
      "execution_count": 23,
      "metadata": {
        "id": "lGQqOGSK_N7G"
      },
      "outputs": [],
      "source": [
        "train_loader, val_loader, test_loader = get_data_loaders(BATCH_SIZE)"
      ]
    },
    {
      "cell_type": "markdown",
      "metadata": {
        "id": "a0wUjdrZ_N7H"
      },
      "source": [
        "## Modelado"
      ]
    },
    {
      "cell_type": "markdown",
      "metadata": {
        "id": "EOFOz8z7_N7H"
      },
      "source": [
        "Dado que nuestro dataset está desbalanceado, usaremos ponderación de clases."
      ]
    },
    {
      "cell_type": "code",
      "execution_count": 24,
      "metadata": {
        "colab": {
          "base_uri": "https://localhost:8080/"
        },
        "id": "mZ2uEU4t_N7H",
        "outputId": "85fb685d-8b26-4a65-b691-f13dbd7ada37"
      },
      "outputs": [
        {
          "output_type": "stream",
          "name": "stdout",
          "text": [
            "Class Weights: tensor([ 1.0302, 34.1530], device='cuda:0')\n"
          ]
        }
      ],
      "source": [
        "class_counts = Counter(train_labels)\n",
        "total = sum(class_counts.values())\n",
        "class_weights = {cls: total/count for cls, count in class_counts.items()}\n",
        "class_weights = torch.tensor([class_weights[0], class_weights[1]], dtype=torch.float).to(DEVICE)\n",
        "\n",
        "print(f\"Class Weights: {class_weights}\")"
      ]
    },
    {
      "cell_type": "code",
      "execution_count": 25,
      "metadata": {
        "id": "DrnFgJNs_N7H"
      },
      "outputs": [],
      "source": [
        "CRITERION = nn.CrossEntropyLoss(weight=class_weights).to(DEVICE)  # función de pérdida con pesos para cada clase\n",
        "LR = 0.0005\n",
        "EPOCHS = 20"
      ]
    },
    {
      "cell_type": "markdown",
      "metadata": {
        "id": "9agF0A7w_N7H"
      },
      "source": [
        "### nn.Embedding\n",
        "\n",
        "La [capa de embedding](https://pytorch.org/docs/stable/generated/torch.nn.Embedding.html) en PyTorch es una capa lineal que mapea un índice a un vector de características. Por ejemplo, si nuestro vocabulario tiene 100 palabras/simbolos y estamos utilizando un embedding de tamaño 20, la capa de embedding tendrá una matriz de pesos de tamaño 100 x 20. Dado un índice de palabra, la capa de embedding devuelve la fila correspondiente de la matriz de pesos, que es el vector de características de la palabra.\n",
        "\n",
        "Pregunta relevante:\n",
        "- ¿Qué tamaño de embedding es adecuado para nuestros logs? Regla general: usasr la raiz cuadrada del vocabulario o el logaritmo (base 2) del vocabulario."
      ]
    },
    {
      "cell_type": "code",
      "execution_count": 26,
      "metadata": {
        "colab": {
          "base_uri": "https://localhost:8080/"
        },
        "id": "lYfSBFfe_N7H",
        "outputId": "9d7de7f2-66f2-40b6-cd91-aa9df2c175b7"
      },
      "outputs": [
        {
          "output_type": "stream",
          "name": "stdout",
          "text": [
            "Word indices: tensor([0, 1, 2, 3, 4, 5], dtype=torch.int32)\n",
            "Embedded: tensor([[ 0.0000,  0.0000,  0.0000,  0.0000,  0.0000,  0.0000,  0.0000,  0.0000],\n",
            "        [-0.5531,  0.6016, -0.9271,  0.5655, -2.4451, -0.1605,  0.1804,  2.2347],\n",
            "        [-0.6774,  0.8949,  0.9096,  0.4260,  1.2886, -0.1708, -0.8564, -0.6576],\n",
            "        [-0.2041,  0.1203, -0.6191, -0.6317, -0.5774,  0.5874,  0.1230,  0.0885],\n",
            "        [-0.8708,  1.3073, -0.4785,  0.1740, -0.2219, -0.4277,  1.0395, -1.5168],\n",
            "        [-0.2913,  0.7265,  1.3873, -0.6213,  1.0785, -0.1966,  1.1847,  0.8043]],\n",
            "       grad_fn=<EmbeddingBackward0>)\n"
          ]
        }
      ],
      "source": [
        "VOCAB_SIZE = max_value + 2 # Tamaño del vocabulario (+1 por el padding, +1 porque los índices empiezan en 1)\n",
        "EMBEDDING_DIM = 8  # Dimensión del embedding\n",
        "\n",
        "embedding_layer = nn.Embedding(\n",
        "    VOCAB_SIZE, EMBEDDING_DIM, padding_idx=PADDING_VALUE # Los pesos correspondientes al padding no se actualizan\n",
        ")\n",
        "word_indices = torch.tensor([0, 1, 2, 3, 4, 5], dtype=torch.int32) # <- IMPORTANTE: la capa de embedding espera tensores de tipo long/enteros\n",
        "embedded = embedding_layer(word_indices)\n",
        "\n",
        "print(f\"Word indices: {word_indices}\")\n",
        "print(f\"Embedded: {embedded}\")"
      ]
    },
    {
      "cell_type": "code",
      "execution_count": 27,
      "metadata": {
        "id": "gjsY1p6a_N7H"
      },
      "outputs": [],
      "source": [
        "word_indices = torch.tensor([2, 10, 50], dtype=torch.int32)\n",
        "# embedding_layer(word_indices) # por qué falla?"
      ]
    },
    {
      "cell_type": "markdown",
      "metadata": {
        "id": "EEdqS5aB_N7H"
      },
      "source": [
        "### nn.RNN\n",
        "\n",
        "La capa [RNN](https://pytorch.org/docs/stable/generated/torch.nn.RNN.html) en PyTorch es una capa recurrente que procesa una secuencia de entrada paso a paso, manteniendo un estado oculto que captura la información de pasos anteriores. Dado un tensor de entrada de tamaño `(batch, secuencia, características)`, la capa RNN procesa la secuencia paso a paso y devuelve el estado oculto final para cada secuencia en el lote.\n",
        "\n",
        "<!-- ![rnn](https://d2l.ai/_images/rnn.svg) -->\n",
        "<img src=\"https://d2l.ai/_images/rnn.svg\" width=\"500\" style=\"background:white; display: block; margin-left: auto; margin-right: auto;\"/>"
      ]
    },
    {
      "cell_type": "markdown",
      "metadata": {
        "id": "6YbN40Pp_N7H"
      },
      "source": [
        "**Fórmula Matemática de la RNN**\n",
        "\n",
        "Según la [documentación oficial de PyTorch](https://pytorch.org/docs/stable/generated/torch.nn.RNN.html), para cada paso temporal $t$, una RNN calcula:\n",
        "\n",
        "$$h_t = \\tanh( x_t W_{ih}^T + b_{ih} +  h_{t-1} W_{hh}^T + b_{hh})$$\n",
        "\n",
        "Donde:\n",
        "- $x_t$ es la entrada en el tiempo $t$ (shape: `input_size`)\n",
        "- $h_{t-1}$ es el estado oculto del paso anterior (shape: `hidden_size`)\n",
        "- $h_t$ es el nuevo estado oculto (shape: `hidden_size`)\n",
        "- $W_{ih}$ son los pesos input-to-hidden (shape: `hidden_size × input_size`)\n",
        "- $W_{hh}$ son los pesos hidden-to-hidden (shape: `hidden_size × hidden_size`)\n",
        "- $b_{ih}$ y $b_{hh}$ son los biases (shape: `hidden_size`)\n",
        "\n",
        "> Notar que tiene dos términos de bias pero podría ser uno solo."
      ]
    },
    {
      "cell_type": "markdown",
      "metadata": {
        "id": "Lt1JuXfR_N7I"
      },
      "source": [
        "**Parámetros de la RNN**\n",
        "\n",
        "Vamos a crear una RNN muy pequeña para hacer las cuentas a mano"
      ]
    },
    {
      "cell_type": "code",
      "execution_count": 28,
      "metadata": {
        "colab": {
          "base_uri": "https://localhost:8080/"
        },
        "id": "7HyhvXdl_N7I",
        "outputId": "e724c282-fcec-46cf-95c2-86062d95953c"
      },
      "outputs": [
        {
          "output_type": "stream",
          "name": "stdout",
          "text": [
            "=== PARÁMETROS DE LA RNN ===\n",
            "\n",
            "weight_ih_l0:\n",
            "  Shape: torch.Size([4, 3])\n",
            "  Valores:\n",
            "tensor([[-0.2358, -0.3499,  0.3738],\n",
            "        [ 0.3759,  0.0448,  0.1469],\n",
            "        [ 0.2171,  0.3376, -0.4426],\n",
            "        [-0.3874,  0.2477, -0.4632]])\n",
            "\n",
            "weight_hh_l0:\n",
            "  Shape: torch.Size([4, 4])\n",
            "  Valores:\n",
            "tensor([[ 0.3763, -0.2808, -0.0702, -0.0457],\n",
            "        [-0.3304,  0.1513, -0.0752,  0.1157],\n",
            "        [ 0.3026,  0.0910,  0.4853, -0.4483],\n",
            "        [ 0.1499, -0.0487, -0.1403,  0.4330]])\n",
            "\n",
            "bias_ih_l0:\n",
            "  Shape: torch.Size([4])\n",
            "  Valores:\n",
            "tensor([ 0.3048, -0.0101, -0.0240,  0.2200])\n",
            "\n",
            "bias_hh_l0:\n",
            "  Shape: torch.Size([4])\n",
            "  Valores:\n",
            "tensor([-0.1791,  0.2137,  0.1382, -0.3499])\n",
            "\n"
          ]
        }
      ],
      "source": [
        "batch_size = 1   # un solo ejemplo\n",
        "seq_len = 2      # secuencia de solo 2 pasos\n",
        "input_size = 3   # cantidad de características de entrada\n",
        "hidden_size = 4  # dimensión del hidden state\n",
        "\n",
        "# Crear la RNN\n",
        "rnn = nn.RNN(input_size=input_size, hidden_size=hidden_size, batch_first=True) # por defecto batch_first=False\n",
        "\n",
        "print(\"=== PARÁMETROS DE LA RNN ===\\n\")\n",
        "for name, param in rnn.named_parameters():\n",
        "    print(f\"{name}:\")\n",
        "    print(f\"  Shape: {param.shape}\")\n",
        "    print(f\"  Valores:\\n{param.data}\\n\")"
      ]
    },
    {
      "cell_type": "code",
      "execution_count": 29,
      "metadata": {
        "id": "eqqbQbFd_N7I"
      },
      "outputs": [],
      "source": [
        "x = torch.tensor([\n",
        "    [[1.0, 2.0, 3.0],   # paso temporal t=0\n",
        "     [0.5, 1.5, 2.5]]   # paso temporal t=1\n",
        "])  # (batch_size, seq_len, input_size)\n",
        "\n",
        "# Extraer los parámetros\n",
        "W_ih = rnn.weight_ih_l0.data  # (4, 3)\n",
        "W_hh = rnn.weight_hh_l0.data  # (4, 4)\n",
        "b_ih = rnn.bias_ih_l0.data    # (4,)\n",
        "b_hh = rnn.bias_hh_l0.data    # (4,)"
      ]
    },
    {
      "cell_type": "code",
      "execution_count": 30,
      "metadata": {
        "colab": {
          "base_uri": "https://localhost:8080/"
        },
        "id": "E3RkAveI_N7I",
        "outputId": "8a57e51a-8339-4f1c-f411-1e1c2f9bb6f7"
      },
      "outputs": [
        {
          "output_type": "stream",
          "name": "stdout",
          "text": [
            "=== PASO TEMPORAL t=0 ===\n",
            "\n",
            "x_0: tensor([[1., 2., 3.]])\n",
            "h_0 (inicial): tensor([[0., 0., 0., 0.]])\n",
            "\n",
            "Input contribution (x_0 @ W_ih.T + b_ih):\n",
            "tensor([[ 0.4905,  0.8962, -0.4596, -1.0614]])\n",
            "\n",
            "Hidden contribution (h_0 @ W_hh.T + b_hh):\n",
            "tensor([[-0.1791,  0.2137,  0.1382, -0.3499]])\n",
            "\n",
            "h_1 = tanh(input_contrib + hidden_contrib):\n",
            "tensor([[ 0.3017,  0.8040, -0.3108, -0.8878]])\n",
            "\n"
          ]
        }
      ],
      "source": [
        "# Estado inicial (por defecto es cero)\n",
        "x_0 = x[:, 0, :]  # (1, 3) - primera entrada\n",
        "h_0 = torch.zeros(batch_size, hidden_size)  # (1, 4)\n",
        "\n",
        "print(\"=== PASO TEMPORAL t=0 ===\\n\")\n",
        "print(f\"x_0: {x_0}\")\n",
        "print(f\"h_0 (inicial): {h_0}\\n\")\n",
        "\n",
        "# Paso 1: input contribution\n",
        "input_contrib = x_0 @ W_ih.T + b_ih  # (1, 4)\n",
        "print(f\"Input contribution (x_0 @ W_ih.T + b_ih):\\n{input_contrib}\\n\")\n",
        "\n",
        "# Paso 2: hidden contribution\n",
        "hidden_contrib = h_0 @ W_hh.T + b_hh  # (1, 4)\n",
        "print(f\"Hidden contribution (h_0 @ W_hh.T + b_hh):\\n{hidden_contrib}\\n\")\n",
        "\n",
        "# Paso 3: sumar y aplicar tanh\n",
        "h_1 = torch.tanh(input_contrib + hidden_contrib)\n",
        "print(f\"h_1 = tanh(input_contrib + hidden_contrib):\\n{h_1}\\n\")"
      ]
    },
    {
      "cell_type": "code",
      "execution_count": 31,
      "metadata": {
        "colab": {
          "base_uri": "https://localhost:8080/"
        },
        "id": "GmGTHMLs_N7I",
        "outputId": "ac24ea16-509f-4ac3-c292-440466be1a2e"
      },
      "outputs": [
        {
          "output_type": "stream",
          "name": "stdout",
          "text": [
            "=== PASO TEMPORAL t=1 ===\n",
            "\n",
            "x_1: tensor([[0.5000, 1.5000, 2.5000]])\n",
            "h_1 (anterior): tensor([[ 0.3017,  0.8040, -0.3108, -0.8878]])\n",
            "\n",
            "Input contribution (x_1 @ W_ih.T + b_ih):\n",
            "tensor([[ 0.5965,  0.6124, -0.5157, -0.7600]])\n",
            "\n",
            "Hidden contribution (h_1 @ W_hh.T + b_hh):\n",
            "tensor([[-0.2290,  0.1563,  0.5498, -0.6846]])\n",
            "\n",
            "h_2 = tanh(input_contrib + hidden_contrib):\n",
            "tensor([[ 0.3518,  0.6462,  0.0341, -0.8946]])\n",
            "\n"
          ]
        }
      ],
      "source": [
        "x_1 = x[:, 1, :]  # (1, 3) - segunda entrada\n",
        "h_1 = h_1  # (1, 4) - estado oculto del paso anterior\n",
        "\n",
        "print(\"=== PASO TEMPORAL t=1 ===\\n\")\n",
        "print(f\"x_1: {x_1}\")\n",
        "print(f\"h_1 (anterior): {h_1}\\n\")\n",
        "\n",
        "# Paso 1: input contribution\n",
        "input_contrib = x_1 @ W_ih.T + b_ih  # (1, 4)\n",
        "print(f\"Input contribution (x_1 @ W_ih.T + b_ih):\\n{input_contrib}\\n\")\n",
        "\n",
        "# Paso 2: hidden contribution\n",
        "hidden_contrib = h_1 @ W_hh.T + b_hh  # (1, 4)\n",
        "print(f\"Hidden contribution (h_1 @ W_hh.T + b_hh):\\n{hidden_contrib}\\n\")\n",
        "\n",
        "# Paso 3: sumar y aplicar tanh\n",
        "h_2 = torch.tanh(input_contrib + hidden_contrib)\n",
        "print(f\"h_2 = tanh(input_contrib + hidden_contrib):\\n{h_2}\\n\")"
      ]
    },
    {
      "cell_type": "markdown",
      "metadata": {
        "id": "QllSt_0X_N7S"
      },
      "source": [
        "Veamos si coincide con la implementación de PyTorch."
      ]
    },
    {
      "cell_type": "code",
      "execution_count": 32,
      "metadata": {
        "colab": {
          "base_uri": "https://localhost:8080/"
        },
        "id": "-UWeW6rd_N7S",
        "outputId": "f7ac17ef-9623-4495-eb51-d68ee8a0d4df"
      },
      "outputs": [
        {
          "output_type": "stream",
          "name": "stdout",
          "text": [
            "=== OUTPUT DE PYTORCH ===\n",
            "Output shape: torch.Size([1, 2, 4])\n",
            "Output:\n",
            "tensor([[[ 0.3017,  0.8040, -0.3108, -0.8878],\n",
            "         [ 0.3518,  0.6462,  0.0341, -0.8946]]], grad_fn=<TransposeBackward1>)\n",
            "\n",
            "Hidden shape: torch.Size([1, 1, 4])\n",
            "Hidden:\n",
            "tensor([[[ 0.3518,  0.6462,  0.0341, -0.8946]]], grad_fn=<StackBackward0>)\n",
            "\n"
          ]
        }
      ],
      "source": [
        "# Forward pass usando PyTorch\n",
        "output, hidden = rnn(x)\n",
        "\n",
        "print(\"=== OUTPUT DE PYTORCH ===\")\n",
        "print(f\"Output shape: {output.shape}\")  # (batch_size, seq_len, hidden_size)\n",
        "print(f\"Output:\\n{output}\\n\")\n",
        "\n",
        "print(f\"Hidden shape: {hidden.shape}\")  # (num_layers, batch_size, hidden_size)\n",
        "print(f\"Hidden:\\n{hidden}\\n\")"
      ]
    },
    {
      "cell_type": "code",
      "execution_count": 33,
      "metadata": {
        "colab": {
          "base_uri": "https://localhost:8080/"
        },
        "id": "Z_eHuuj__N7S",
        "outputId": "436b6607-648f-4deb-e10f-38c85385ca29"
      },
      "outputs": [
        {
          "output_type": "stream",
          "name": "stdout",
          "text": [
            "Output shape: torch.Size([256, 50, 64]) (batch_size, seq_len, hidden_size)\n",
            "Hidden shape: torch.Size([1, 256, 64]) (num_layers, batch_size, hidden_size)\n"
          ]
        }
      ],
      "source": [
        "rnn = nn.RNN(input_size=EMBEDDING_DIM, hidden_size=64, batch_first=True)\n",
        "tensor = torch.randn(BATCH_SIZE, SEQ_LEN, EMBEDDING_DIM)\n",
        "\n",
        "output, hidden = rnn(tensor)\n",
        "print(f\"Output shape: {output.shape} (batch_size, seq_len, hidden_size)\")\n",
        "print(f\"Hidden shape: {hidden.shape} (num_layers, batch_size, hidden_size)\")"
      ]
    },
    {
      "cell_type": "markdown",
      "metadata": {
        "id": "IXjOQAW6_N7S"
      },
      "source": [
        "### Modelo"
      ]
    },
    {
      "cell_type": "code",
      "execution_count": 34,
      "metadata": {
        "colab": {
          "base_uri": "https://localhost:8080/"
        },
        "id": "DZSyQlnd_N7T",
        "outputId": "9172519e-0d73-4e6d-d4e8-08487d7231ff"
      },
      "outputs": [
        {
          "output_type": "execute_result",
          "data": {
            "text/plain": [
              "==========================================================================================\n",
              "Layer (type:depth-idx)                   Output Shape              Param #\n",
              "==========================================================================================\n",
              "HDFSClassifier                           [256, 2]                  --\n",
              "├─Embedding: 1-1                         [256, 50, 8]              232\n",
              "├─RNN: 1-2                               [256, 50, 128]            17,664\n",
              "├─Linear: 1-3                            [256, 2]                  258\n",
              "==========================================================================================\n",
              "Total params: 18,154\n",
              "Trainable params: 18,154\n",
              "Non-trainable params: 0\n",
              "Total mult-adds (Units.MEGABYTES): 226.22\n",
              "==========================================================================================\n",
              "Input size (MB): 0.10\n",
              "Forward/backward pass size (MB): 13.93\n",
              "Params size (MB): 0.07\n",
              "Estimated Total Size (MB): 14.11\n",
              "=========================================================================================="
            ]
          },
          "metadata": {},
          "execution_count": 34
        }
      ],
      "source": [
        "class HDFSClassifier(nn.Module):\n",
        "    def __init__(self, vocab_size, embedding_dim, hidden_dim, num_classes=2):\n",
        "        super(HDFSClassifier, self).__init__()\n",
        "        self.embedding = nn.Embedding(num_embeddings=vocab_size, embedding_dim=embedding_dim, padding_idx=PADDING_VALUE)\n",
        "        self.rnn = nn.RNN(input_size=embedding_dim, hidden_size=hidden_dim, batch_first=True)\n",
        "        self.output = nn.Linear(hidden_dim, num_classes)\n",
        "    def forward(self, x):\n",
        "        # x shape: B x SEQ_LEN\n",
        "        x = self.embedding(x) # x shape: B x SEQ_LEN x EMBEDDING_DIM\n",
        "        _, hidden = self.rnn(x) # Capas, B, HIDDEN_DIM\n",
        "        x = hidden.squeeze(0) # B x HIDDEN_DIM\n",
        "        return self.output(x) # B x NUM_CLASSES\n",
        "\n",
        "\n",
        "summary(\n",
        "    HDFSClassifier(VOCAB_SIZE, EMBEDDING_DIM, hidden_dim=128, num_classes=2),\n",
        "    input_size=(BATCH_SIZE, SEQ_LEN),\n",
        "    dtypes=[torch.long],\n",
        ")"
      ]
    },
    {
      "cell_type": "markdown",
      "metadata": {
        "id": "nVU3JP2H_N7T"
      },
      "source": [
        "### Entrenamiento y Evaluación"
      ]
    },
    {
      "cell_type": "code",
      "execution_count": 35,
      "metadata": {
        "id": "rLiAaClH_N7T"
      },
      "outputs": [],
      "source": [
        "model = HDFSClassifier(VOCAB_SIZE, EMBEDDING_DIM, hidden_dim=128, num_classes=2).to(DEVICE)\n",
        "optimizer = optim.Adam(model.parameters(), lr=LR)"
      ]
    },
    {
      "cell_type": "code",
      "execution_count": 36,
      "metadata": {
        "colab": {
          "base_uri": "https://localhost:8080/"
        },
        "id": "61nb0mn-_N7T",
        "outputId": "ab1a8c14-0035-47c9-b77e-cd73c005ae6c"
      },
      "outputs": [
        {
          "output_type": "stream",
          "name": "stdout",
          "text": [
            "Epoch: 001 | Train Loss: 0.11181 | Val Loss: 0.05120\n",
            "Epoch: 002 | Train Loss: 0.02647 | Val Loss: 0.01668\n",
            "Epoch: 003 | Train Loss: 0.01726 | Val Loss: 0.00812\n",
            "Epoch: 004 | Train Loss: 0.01461 | Val Loss: 0.00846\n",
            "Epoch: 005 | Train Loss: 0.04200 | Val Loss: 0.00971\n",
            "Epoch: 006 | Train Loss: 0.01015 | Val Loss: 0.00873\n",
            "Epoch: 007 | Train Loss: 0.00665 | Val Loss: 0.00900\n",
            "Epoch: 008 | Train Loss: 0.00699 | Val Loss: 0.00535\n",
            "Epoch: 009 | Train Loss: 0.01026 | Val Loss: 0.00788\n",
            "Epoch: 010 | Train Loss: 0.00618 | Val Loss: 0.00727\n",
            "Epoch: 011 | Train Loss: 0.02301 | Val Loss: 0.15978\n",
            "Epoch: 012 | Train Loss: 0.01506 | Val Loss: 0.00622\n",
            "Epoch: 013 | Train Loss: 0.00515 | Val Loss: 0.00442\n",
            "Epoch: 014 | Train Loss: 0.00378 | Val Loss: 0.00524\n",
            "Epoch: 015 | Train Loss: 0.01999 | Val Loss: 0.01153\n",
            "Epoch: 016 | Train Loss: 0.01272 | Val Loss: 0.00707\n",
            "Epoch: 017 | Train Loss: 0.00532 | Val Loss: 0.00470\n",
            "Epoch: 018 | Train Loss: 0.00701 | Val Loss: 0.01063\n",
            "Epoch: 019 | Train Loss: 0.00711 | Val Loss: 0.00625\n",
            "Epoch: 020 | Train Loss: 0.01100 | Val Loss: 0.00600\n"
          ]
        }
      ],
      "source": [
        "train_errors, val_errors = train(\n",
        "    model,\n",
        "    optimizer=optimizer,\n",
        "    criterion=CRITERION,\n",
        "    train_loader=train_loader,\n",
        "    val_loader=val_loader,\n",
        "    device=DEVICE,\n",
        "    do_early_stopping=False,\n",
        "    epochs=EPOCHS,\n",
        ")"
      ]
    },
    {
      "cell_type": "code",
      "execution_count": 37,
      "metadata": {
        "colab": {
          "base_uri": "https://localhost:8080/",
          "height": 148
        },
        "id": "vdPya0IJ_N7T",
        "outputId": "f6803566-7e43-40f7-d40b-834763493f28"
      },
      "outputs": [
        {
          "output_type": "error",
          "ename": "NameError",
          "evalue": "name 'plot_training' is not defined",
          "traceback": [
            "\u001b[0;31m---------------------------------------------------------------------------\u001b[0m",
            "\u001b[0;31mNameError\u001b[0m                                 Traceback (most recent call last)",
            "\u001b[0;32m/tmp/ipython-input-4190090226.py\u001b[0m in \u001b[0;36m<cell line: 0>\u001b[0;34m()\u001b[0m\n\u001b[0;32m----> 1\u001b[0;31m \u001b[0mplot_training\u001b[0m\u001b[0;34m(\u001b[0m\u001b[0mtrain_errors\u001b[0m\u001b[0;34m,\u001b[0m \u001b[0mval_errors\u001b[0m\u001b[0;34m)\u001b[0m\u001b[0;34m\u001b[0m\u001b[0;34m\u001b[0m\u001b[0m\n\u001b[0m",
            "\u001b[0;31mNameError\u001b[0m: name 'plot_training' is not defined"
          ]
        }
      ],
      "source": [
        "plot_training(train_errors, val_errors)"
      ]
    },
    {
      "cell_type": "code",
      "execution_count": null,
      "metadata": {
        "id": "nWL30hb3_N7T"
      },
      "outputs": [],
      "source": [
        "model_classification_report(model, test_loader, DEVICE, 2, digits=4, do_confusion_matrix=True, do_balanced_accuracy=True)"
      ]
    },
    {
      "cell_type": "code",
      "source": [],
      "metadata": {
        "id": "A6YyZxO4GkXw"
      },
      "execution_count": null,
      "outputs": []
    }
  ],
  "metadata": {
    "kernelspec": {
      "display_name": "Python 3",
      "name": "python3"
    },
    "language_info": {
      "codemirror_mode": {
        "name": "ipython",
        "version": 3
      },
      "file_extension": ".py",
      "mimetype": "text/x-python",
      "name": "python",
      "nbconvert_exporter": "python",
      "pygments_lexer": "ipython3",
      "version": "3.12.11"
    },
    "colab": {
      "provenance": [],
      "gpuType": "A100"
    },
    "accelerator": "GPU"
  },
  "nbformat": 4,
  "nbformat_minor": 0
}
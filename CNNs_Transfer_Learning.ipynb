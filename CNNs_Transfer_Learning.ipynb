{
 "cells": [
  {
   "cell_type": "markdown",
   "metadata": {},
   "source": [
    "# CIFAR-10: Transfer Learning con Modelos Pre-entrenados\n",
    "\n",
    "En esta notebook, exploraremos el uso de **Transfer Learning** con modelos pre-entrenados para mejorar el rendimiento de modelos de clasificación en el dataset CIFAR-10. Veremos cómo utilizar arquitecturas avanzadas pre-entrenadas, adaptarlas al problema específico, y comparar su rendimiento con modelos entrenados desde cero.\n",
    "\n",
    "## Introducción\n",
    "\n",
    "### Objetivos\n",
    "\n",
    "1. **Entender el concepto de Transfer Learning** y su aplicación en problemas de clasificación con conjuntos de datos pequeños o medianos como CIFAR-10.\n",
    "2. **Utilizar arquitecturas avanzadas pre-entrenadas** (como ResNet, VGG, o DenseNet) en PyTorch y adaptarlas al dataset CIFAR-10.\n",
    "3. **Comparar el rendimiento de los modelos pre-entrenados** con los modelos entrenados desde cero en el mismo conjunto de datos.\n",
    "4. **Evaluar y analizar el impacto del Transfer Learning** en términos de tiempo de entrenamiento, precisión, y capacidad de generalización.\n",
    "\n",
    "### Contenido\n",
    "\n",
    "1. Configuración de bibliotecas y semillas para reproducibilidad.\n",
    "2. Carga y exploración del dataset CIFAR-10.\n",
    "3. Introducción al concepto de Transfer Learning y su implementación en PyTorch.\n",
    "4. Utilización de modelos pre-entrenados:\n",
    "    - Carga de modelos pre-entrenados (ResNet, VGG, DenseNet).\n",
    "    - Adaptación de la última capa para clasificación en 10 clases.\n",
    "    - Congelamiento y descongelamiento de capas según sea necesario.\n",
    "5. Entrenamiento y evaluación de los modelos con Transfer Learning.\n",
    "6. Comparación de resultados con modelos entrenados desde cero.\n",
    "7. Análisis del rendimiento y conclusiones."
   ]
  },
  {
   "cell_type": "code",
   "execution_count": 1,
   "metadata": {},
   "outputs": [],
   "source": [
    "import torch\n",
    "import torch.nn as nn\n",
    "import torch.nn.functional as F\n",
    "import torch.optim as optim\n",
    "import torchvision.datasets as datasets\n",
    "from torch.utils.data import DataLoader, random_split\n",
    "from torchvision.transforms import v2 as T\n",
    "from torchvision.models import resnet18, ResNet18_Weights, densenet121, DenseNet121_Weights\n",
    "\n",
    "from torchinfo import summary\n",
    "\n",
    "import os\n",
    "from pathlib import Path\n",
    "\n",
    "from utils import (\n",
    "    train,\n",
    "    plot_taining,\n",
    "    model_calassification_report,\n",
    ")"
   ]
  },
  {
   "cell_type": "code",
   "execution_count": 2,
   "metadata": {},
   "outputs": [],
   "source": [
    "# Fijamos la semilla para que los resultados sean reproducibles\n",
    "SEED = 23\n",
    "\n",
    "torch.manual_seed(SEED)\n",
    "torch.backends.cudnn.deterministic = True\n",
    "torch.backends.cudnn.benchmark = False"
   ]
  },
  {
   "cell_type": "code",
   "execution_count": null,
   "metadata": {},
   "outputs": [
    {
     "name": "stdout",
     "output_type": "stream",
     "text": [
      "Device: cuda\n"
     ]
    }
   ],
   "source": [
    "import sys\n",
    "\n",
    "# definimos el dispositivo que vamos a usar\n",
    "DEVICE = \"cpu\"  # por defecto, usamos la CPU\n",
    "if torch.cuda.is_available():\n",
    "    DEVICE = \"cuda\"  # si hay GPU, usamos la GPU\n",
    "elif torch.backends.mps.is_available():\n",
    "    DEVICE = \"mps\"  # si no hay GPU, pero hay MPS, usamos MPS\n",
    "elif torch.xpu.is_available():\n",
    "    DEVICE = \"xpu\"  # si no hay GPU, pero hay XPU, usamos XPU\n",
    "\n",
    "print(f\"Usando {DEVICE}\")\n",
    "\n",
    "NUM_WORKERS = 0 # Win y MacOS pueden tener problemas con múltiples workers\n",
    "if sys.platform == 'linux':\n",
    "    NUM_WORKERS = 4  # numero de workers para cargar los datos (depende de cada caso)\n",
    "\n",
    "print(f\"Usando {NUM_WORKERS}\")\n"
   ]
  },
  {
   "cell_type": "code",
   "execution_count": null,
   "metadata": {},
   "outputs": [],
   "source": [
    "\n",
    "BATCH_SIZE = 256  # tamaño del batch"
   ]
  },
  {
   "cell_type": "code",
   "execution_count": 4,
   "metadata": {},
   "outputs": [
    {
     "name": "stdout",
     "output_type": "stream",
     "text": [
      "Num Workers: 23\n"
     ]
    }
   ],
   "source": [
    "import platform\n",
    "\n",
    "def get_workers():\n",
    "    os_type = platform.system()\n",
    "    if os_type == \"Linux\" or os_type == \"Windows\": # si estamos en Linux o Windows\n",
    "        if os.cpu_count() < 4:\n",
    "            return 0 # si tenemos menos de 4 cores, no usamos workers\n",
    "        else:\n",
    "            return os.cpu_count() - 1 # usamos todos los cores menos 1\n",
    "    else: # si estamos en MacOS\n",
    "        return 0 # no usamos workers\n",
    "\n",
    "NUM_WORKERS = get_workers()\n",
    "print(f\"Num Workers: {NUM_WORKERS}\")"
   ]
  },
  {
   "cell_type": "markdown",
   "metadata": {},
   "source": [
    "## Dataset y DataLoader"
   ]
  },
  {
   "cell_type": "code",
   "execution_count": 5,
   "metadata": {},
   "outputs": [],
   "source": [
    "DATA_DIR = Path(\"data\")\n",
    "\n",
    "def get_dataloaders(\n",
    "    train_transf, test_transf, batch_size=BATCH_SIZE, num_workers=NUM_WORKERS\n",
    "):\n",
    "    \"\"\"\n",
    "    Función para obtener los dataloaders de entrenamiento, validación y test\n",
    "\n",
    "    Args:\n",
    "    - train_transf: transformaciones para el dataset de entrenaiento\n",
    "    - test_transf: transformaciones para el dataset de test\n",
    "    - batch_size: tamaño del batch\n",
    "    - num_workers: número de workers para cargar los datos\n",
    "    \"\"\"\n",
    "\n",
    "    # descargamos el dataset CIFAR10 (si no lo tenemos ya)\n",
    "    train_dataset = datasets.CIFAR10(\n",
    "        DATA_DIR, train=True, download=True, transform=train_transf\n",
    "    )\n",
    "    test_dataset = datasets.CIFAR10(\n",
    "        DATA_DIR, train=False, download=True, transform=test_transf\n",
    "    )\n",
    "\n",
    "    num_classes = len(train_dataset.classes)\n",
    "\n",
    "    # dividimos el dataset de entrenamiento en entrenamiento y validación\n",
    "    train_size = int(0.8 * len(train_dataset))\n",
    "    valid_size = len(train_dataset) - train_size\n",
    "    train_dataset, validation_dataset = random_split(\n",
    "        train_dataset,\n",
    "        [train_size, valid_size],\n",
    "        generator=torch.Generator().manual_seed(SEED),  # fijamos la semilla\n",
    "    )\n",
    "\n",
    "    validation_dataset.transform = test_transf\n",
    "\n",
    "    # creamos los dataloaders\n",
    "    train_loader = DataLoader(\n",
    "        train_dataset,\n",
    "        batch_size=batch_size,\n",
    "        shuffle=True,\n",
    "        num_workers=num_workers,\n",
    "    )\n",
    "\n",
    "    valid_loader = DataLoader(\n",
    "        validation_dataset,\n",
    "        batch_size=batch_size,\n",
    "        shuffle=False,\n",
    "        num_workers=num_workers,\n",
    "    )\n",
    "\n",
    "    test_loader = DataLoader(\n",
    "        test_dataset,\n",
    "        batch_size=batch_size,\n",
    "        shuffle=False,\n",
    "        num_workers=num_workers,\n",
    "    )\n",
    "\n",
    "    return train_loader, valid_loader, test_loader, num_classes"
   ]
  },
  {
   "cell_type": "markdown",
   "metadata": {},
   "source": [
    "Debemos tener en cuenta de transformar las imágenes cómo fue entrenado el modelo pre-entrenado.\n",
    "\n",
    "https://pytorch.org/vision/stable/models/generated/torchvision.models.resnet18.html#torchvision.models.ResNet18_Weights"
   ]
  },
  {
   "cell_type": "code",
   "execution_count": 6,
   "metadata": {},
   "outputs": [],
   "source": [
    "T_MEAN = (0.485, 0.456, 0.406)\n",
    "T_STD = (0.229, 0.224, 0.225)\n",
    "\n",
    "# Transformaciones sin data augmentation\n",
    "train_transforms_no_aug = T.Compose(\n",
    "    [\n",
    "        T.Resize((64, 64)),\n",
    "        T.ToImage(),  # tenemos que convertir la imagen PIL a tensor\n",
    "        T.ToDtype(torch.float32, scale=True),\n",
    "        T.Normalize(mean=T_MEAN, std=T_STD),\n",
    "    ]\n",
    ")"
   ]
  },
  {
   "cell_type": "code",
   "execution_count": 7,
   "metadata": {},
   "outputs": [
    {
     "name": "stdout",
     "output_type": "stream",
     "text": [
      "Files already downloaded and verified\n",
      "Files already downloaded and verified\n"
     ]
    }
   ],
   "source": [
    "train_loader, val_loader, test_loader, NUM_CLASES = get_dataloaders(train_transforms_no_aug, train_transforms_no_aug)"
   ]
  },
  {
   "cell_type": "markdown",
   "metadata": {},
   "source": [
    "## Modelo Pre-entrenado\n",
    "\n",
    "Para este ejemplo, utilizaremos el modelo **ResNet-18** pre-entrenado, disponible en PyTorch. ResNet es una arquitectura de red neuronal convolucional muy popular y ha demostrado un rendimiento excepcional en una variedad de tareas de visión por computadora. ResNet-18 es una versión más pequeña de la arquitectura original, que es más fácil de entrenar y más rápida de ejecutar.\n",
    "\n",
    "PyTorch proporciona una interfaz sencilla para cargar modelos pre-entrenados y utilizarlos para tareas de clasificación. A continuación, cargaremos el modelo ResNet-18 pre-entrenado y lo adaptaremos para clasificar las 10 clases de CIFAR-10.\n",
    "\n",
    "Para ver la lista completa de modelos pre-entrenados disponibles en PyTorch, puedes consultar la [documentación oficial](https://pytorch.org/vision/stable/models.html)."
   ]
  },
  {
   "cell_type": "code",
   "execution_count": 8,
   "metadata": {},
   "outputs": [
    {
     "data": {
      "text/plain": [
       "==========================================================================================\n",
       "Layer (type:depth-idx)                   Output Shape              Param #\n",
       "==========================================================================================\n",
       "ResNet                                   [256, 10]                 --\n",
       "├─Conv2d: 1-1                            [256, 64, 16, 16]         9,408\n",
       "├─BatchNorm2d: 1-2                       [256, 64, 16, 16]         128\n",
       "├─ReLU: 1-3                              [256, 64, 16, 16]         --\n",
       "├─MaxPool2d: 1-4                         [256, 64, 8, 8]           --\n",
       "├─Sequential: 1-5                        [256, 64, 8, 8]           --\n",
       "│    └─BasicBlock: 2-1                   [256, 64, 8, 8]           --\n",
       "│    │    └─Conv2d: 3-1                  [256, 64, 8, 8]           36,864\n",
       "│    │    └─BatchNorm2d: 3-2             [256, 64, 8, 8]           128\n",
       "│    │    └─ReLU: 3-3                    [256, 64, 8, 8]           --\n",
       "│    │    └─Conv2d: 3-4                  [256, 64, 8, 8]           36,864\n",
       "│    │    └─BatchNorm2d: 3-5             [256, 64, 8, 8]           128\n",
       "│    │    └─ReLU: 3-6                    [256, 64, 8, 8]           --\n",
       "│    └─BasicBlock: 2-2                   [256, 64, 8, 8]           --\n",
       "│    │    └─Conv2d: 3-7                  [256, 64, 8, 8]           36,864\n",
       "│    │    └─BatchNorm2d: 3-8             [256, 64, 8, 8]           128\n",
       "│    │    └─ReLU: 3-9                    [256, 64, 8, 8]           --\n",
       "│    │    └─Conv2d: 3-10                 [256, 64, 8, 8]           36,864\n",
       "│    │    └─BatchNorm2d: 3-11            [256, 64, 8, 8]           128\n",
       "│    │    └─ReLU: 3-12                   [256, 64, 8, 8]           --\n",
       "├─Sequential: 1-6                        [256, 128, 4, 4]          --\n",
       "│    └─BasicBlock: 2-3                   [256, 128, 4, 4]          --\n",
       "│    │    └─Conv2d: 3-13                 [256, 128, 4, 4]          73,728\n",
       "│    │    └─BatchNorm2d: 3-14            [256, 128, 4, 4]          256\n",
       "│    │    └─ReLU: 3-15                   [256, 128, 4, 4]          --\n",
       "│    │    └─Conv2d: 3-16                 [256, 128, 4, 4]          147,456\n",
       "│    │    └─BatchNorm2d: 3-17            [256, 128, 4, 4]          256\n",
       "│    │    └─Sequential: 3-18             [256, 128, 4, 4]          8,448\n",
       "│    │    └─ReLU: 3-19                   [256, 128, 4, 4]          --\n",
       "│    └─BasicBlock: 2-4                   [256, 128, 4, 4]          --\n",
       "│    │    └─Conv2d: 3-20                 [256, 128, 4, 4]          147,456\n",
       "│    │    └─BatchNorm2d: 3-21            [256, 128, 4, 4]          256\n",
       "│    │    └─ReLU: 3-22                   [256, 128, 4, 4]          --\n",
       "│    │    └─Conv2d: 3-23                 [256, 128, 4, 4]          147,456\n",
       "│    │    └─BatchNorm2d: 3-24            [256, 128, 4, 4]          256\n",
       "│    │    └─ReLU: 3-25                   [256, 128, 4, 4]          --\n",
       "├─Sequential: 1-7                        [256, 256, 2, 2]          --\n",
       "│    └─BasicBlock: 2-5                   [256, 256, 2, 2]          --\n",
       "│    │    └─Conv2d: 3-26                 [256, 256, 2, 2]          294,912\n",
       "│    │    └─BatchNorm2d: 3-27            [256, 256, 2, 2]          512\n",
       "│    │    └─ReLU: 3-28                   [256, 256, 2, 2]          --\n",
       "│    │    └─Conv2d: 3-29                 [256, 256, 2, 2]          589,824\n",
       "│    │    └─BatchNorm2d: 3-30            [256, 256, 2, 2]          512\n",
       "│    │    └─Sequential: 3-31             [256, 256, 2, 2]          33,280\n",
       "│    │    └─ReLU: 3-32                   [256, 256, 2, 2]          --\n",
       "│    └─BasicBlock: 2-6                   [256, 256, 2, 2]          --\n",
       "│    │    └─Conv2d: 3-33                 [256, 256, 2, 2]          589,824\n",
       "│    │    └─BatchNorm2d: 3-34            [256, 256, 2, 2]          512\n",
       "│    │    └─ReLU: 3-35                   [256, 256, 2, 2]          --\n",
       "│    │    └─Conv2d: 3-36                 [256, 256, 2, 2]          589,824\n",
       "│    │    └─BatchNorm2d: 3-37            [256, 256, 2, 2]          512\n",
       "│    │    └─ReLU: 3-38                   [256, 256, 2, 2]          --\n",
       "├─Sequential: 1-8                        [256, 512, 1, 1]          --\n",
       "│    └─BasicBlock: 2-7                   [256, 512, 1, 1]          --\n",
       "│    │    └─Conv2d: 3-39                 [256, 512, 1, 1]          1,179,648\n",
       "│    │    └─BatchNorm2d: 3-40            [256, 512, 1, 1]          1,024\n",
       "│    │    └─ReLU: 3-41                   [256, 512, 1, 1]          --\n",
       "│    │    └─Conv2d: 3-42                 [256, 512, 1, 1]          2,359,296\n",
       "│    │    └─BatchNorm2d: 3-43            [256, 512, 1, 1]          1,024\n",
       "│    │    └─Sequential: 3-44             [256, 512, 1, 1]          132,096\n",
       "│    │    └─ReLU: 3-45                   [256, 512, 1, 1]          --\n",
       "│    └─BasicBlock: 2-8                   [256, 512, 1, 1]          --\n",
       "│    │    └─Conv2d: 3-46                 [256, 512, 1, 1]          2,359,296\n",
       "│    │    └─BatchNorm2d: 3-47            [256, 512, 1, 1]          1,024\n",
       "│    │    └─ReLU: 3-48                   [256, 512, 1, 1]          --\n",
       "│    │    └─Conv2d: 3-49                 [256, 512, 1, 1]          2,359,296\n",
       "│    │    └─BatchNorm2d: 3-50            [256, 512, 1, 1]          1,024\n",
       "│    │    └─ReLU: 3-51                   [256, 512, 1, 1]          --\n",
       "├─AdaptiveAvgPool2d: 1-9                 [256, 512, 1, 1]          --\n",
       "├─Linear: 1-10                           [256, 10]                 5,130\n",
       "==========================================================================================\n",
       "Total params: 11,181,642\n",
       "Trainable params: 11,181,642\n",
       "Non-trainable params: 0\n",
       "Total mult-adds (Units.GIGABYTES): 9.48\n",
       "==========================================================================================\n",
       "Input size (MB): 3.15\n",
       "Forward/backward pass size (MB): 207.64\n",
       "Params size (MB): 44.73\n",
       "Estimated Total Size (MB): 255.51\n",
       "=========================================================================================="
      ]
     },
     "execution_count": 8,
     "metadata": {},
     "output_type": "execute_result"
    }
   ],
   "source": [
    "# Cargamos el modelo con los pesos preentrenados en ImageNet\n",
    "weights = ResNet18_Weights.IMAGENET1K_V1\n",
    "resnet_model = resnet18(weights=weights)\n",
    "\n",
    "# cambiamos la última capa para que se ajuste a nuestro problema\n",
    "resnet_model.fc = nn.Linear(resnet_model.fc.in_features, NUM_CLASES)\n",
    "\n",
    "summary(resnet_model, input_size=(BATCH_SIZE, 3, 32, 32))"
   ]
  },
  {
   "cell_type": "code",
   "execution_count": 9,
   "metadata": {},
   "outputs": [],
   "source": [
    "# definicion de hiperparametros\n",
    "LR = 0.0005\n",
    "EPOCHS = 10\n",
    "# definimos\n",
    "CRITERION = nn.CrossEntropyLoss().to(DEVICE)"
   ]
  },
  {
   "cell_type": "code",
   "execution_count": 10,
   "metadata": {},
   "outputs": [
    {
     "name": "stdout",
     "output_type": "stream",
     "text": [
      "Epoch: 001 | Train Loss: 0.54005 | Val Loss: 0.37535\n",
      "Epoch: 002 | Train Loss: 0.22724 | Val Loss: 0.45209\n",
      "Epoch: 003 | Train Loss: 0.13478 | Val Loss: 0.41036\n",
      "Epoch: 004 | Train Loss: 0.09719 | Val Loss: 0.48996\n",
      "Epoch: 005 | Train Loss: 0.07851 | Val Loss: 0.52244\n",
      "Epoch: 006 | Train Loss: 0.06017 | Val Loss: 0.54075\n",
      "Epoch: 007 | Train Loss: 0.04314 | Val Loss: 0.45877\n",
      "Epoch: 008 | Train Loss: 0.04563 | Val Loss: 0.51355\n",
      "Epoch: 009 | Train Loss: 0.05357 | Val Loss: 0.48447\n",
      "Epoch: 010 | Train Loss: 0.04611 | Val Loss: 0.49443\n"
     ]
    },
    {
     "data": {
      "image/png": "[encoded data removed]",
      "text/plain": [
       "<Figure size 1000x500 with 1 Axes>"
      ]
     },
     "metadata": {},
     "output_type": "display_data"
    }
   ],
   "source": [
    "optimizer = optim.Adam(resnet_model.parameters(), lr=LR)\n",
    "\n",
    "train_errors, val_errors = train(\n",
    "    model=resnet_model,\n",
    "    optimizer=optimizer,\n",
    "    criterion=CRITERION,\n",
    "    train_loader=train_loader,\n",
    "    val_loader=val_loader,\n",
    "    device=DEVICE,\n",
    "    do_early_stopping=False,\n",
    "    epochs=EPOCHS,\n",
    ")\n",
    "\n",
    "plot_taining(train_errors, val_errors)"
   ]
  },
  {
   "cell_type": "code",
   "execution_count": 11,
   "metadata": {},
   "outputs": [
    {
     "name": "stdout",
     "output_type": "stream",
     "text": [
      "Accuracy: 0.8722\n",
      "\n",
      "Reporte de clasificación:\n",
      "               precision    recall  f1-score   support\n",
      "\n",
      "           0       0.89      0.88      0.88      1000\n",
      "           1       0.93      0.93      0.93      1000\n",
      "           2       0.88      0.80      0.84      1000\n",
      "           3       0.71      0.82      0.76      1000\n",
      "           4       0.88      0.85      0.87      1000\n",
      "           5       0.85      0.76      0.80      1000\n",
      "           6       0.90      0.92      0.91      1000\n",
      "           7       0.93      0.89      0.91      1000\n",
      "           8       0.84      0.96      0.90      1000\n",
      "           9       0.94      0.90      0.92      1000\n",
      "\n",
      "    accuracy                           0.87     10000\n",
      "   macro avg       0.88      0.87      0.87     10000\n",
      "weighted avg       0.88      0.87      0.87     10000\n",
      "\n"
     ]
    }
   ],
   "source": [
    "model_calassification_report(resnet_model, test_loader, DEVICE, NUM_CLASES)"
   ]
  },
  {
   "cell_type": "code",
   "execution_count": 12,
   "metadata": {},
   "outputs": [
    {
     "data": {
      "text/plain": [
       "==========================================================================================\n",
       "Layer (type:depth-idx)                   Output Shape              Param #\n",
       "==========================================================================================\n",
       "DenseNet                                 [256, 10]                 --\n",
       "├─Sequential: 1-1                        [256, 1024, 1, 1]         --\n",
       "│    └─Conv2d: 2-1                       [256, 64, 16, 16]         (9,408)\n",
       "│    └─BatchNorm2d: 2-2                  [256, 64, 16, 16]         (128)\n",
       "│    └─ReLU: 2-3                         [256, 64, 16, 16]         --\n",
       "│    └─MaxPool2d: 2-4                    [256, 64, 8, 8]           --\n",
       "│    └─_DenseBlock: 2-5                  [256, 256, 8, 8]          --\n",
       "│    │    └─_DenseLayer: 3-1             [256, 32, 8, 8]           (45,440)\n",
       "│    │    └─_DenseLayer: 3-2             [256, 32, 8, 8]           (49,600)\n",
       "│    │    └─_DenseLayer: 3-3             [256, 32, 8, 8]           (53,760)\n",
       "│    │    └─_DenseLayer: 3-4             [256, 32, 8, 8]           (57,920)\n",
       "│    │    └─_DenseLayer: 3-5             [256, 32, 8, 8]           (62,080)\n",
       "│    │    └─_DenseLayer: 3-6             [256, 32, 8, 8]           (66,240)\n",
       "│    └─_Transition: 2-6                  [256, 128, 4, 4]          --\n",
       "│    │    └─BatchNorm2d: 3-7             [256, 256, 8, 8]          (512)\n",
       "│    │    └─ReLU: 3-8                    [256, 256, 8, 8]          --\n",
       "│    │    └─Conv2d: 3-9                  [256, 128, 8, 8]          (32,768)\n",
       "│    │    └─AvgPool2d: 3-10              [256, 128, 4, 4]          --\n",
       "│    └─_DenseBlock: 2-7                  [256, 512, 4, 4]          --\n",
       "│    │    └─_DenseLayer: 3-11            [256, 32, 4, 4]           (53,760)\n",
       "│    │    └─_DenseLayer: 3-12            [256, 32, 4, 4]           (57,920)\n",
       "│    │    └─_DenseLayer: 3-13            [256, 32, 4, 4]           (62,080)\n",
       "│    │    └─_DenseLayer: 3-14            [256, 32, 4, 4]           (66,240)\n",
       "│    │    └─_DenseLayer: 3-15            [256, 32, 4, 4]           (70,400)\n",
       "│    │    └─_DenseLayer: 3-16            [256, 32, 4, 4]           (74,560)\n",
       "│    │    └─_DenseLayer: 3-17            [256, 32, 4, 4]           (78,720)\n",
       "│    │    └─_DenseLayer: 3-18            [256, 32, 4, 4]           (82,880)\n",
       "│    │    └─_DenseLayer: 3-19            [256, 32, 4, 4]           (87,040)\n",
       "│    │    └─_DenseLayer: 3-20            [256, 32, 4, 4]           (91,200)\n",
       "│    │    └─_DenseLayer: 3-21            [256, 32, 4, 4]           (95,360)\n",
       "│    │    └─_DenseLayer: 3-22            [256, 32, 4, 4]           (99,520)\n",
       "│    └─_Transition: 2-8                  [256, 256, 2, 2]          --\n",
       "│    │    └─BatchNorm2d: 3-23            [256, 512, 4, 4]          (1,024)\n",
       "│    │    └─ReLU: 3-24                   [256, 512, 4, 4]          --\n",
       "│    │    └─Conv2d: 3-25                 [256, 256, 4, 4]          (131,072)\n",
       "│    │    └─AvgPool2d: 3-26              [256, 256, 2, 2]          --\n",
       "│    └─_DenseBlock: 2-9                  [256, 1024, 2, 2]         --\n",
       "│    │    └─_DenseLayer: 3-27            [256, 32, 2, 2]           (70,400)\n",
       "│    │    └─_DenseLayer: 3-28            [256, 32, 2, 2]           (74,560)\n",
       "│    │    └─_DenseLayer: 3-29            [256, 32, 2, 2]           (78,720)\n",
       "│    │    └─_DenseLayer: 3-30            [256, 32, 2, 2]           (82,880)\n",
       "│    │    └─_DenseLayer: 3-31            [256, 32, 2, 2]           (87,040)\n",
       "│    │    └─_DenseLayer: 3-32            [256, 32, 2, 2]           (91,200)\n",
       "│    │    └─_DenseLayer: 3-33            [256, 32, 2, 2]           (95,360)\n",
       "│    │    └─_DenseLayer: 3-34            [256, 32, 2, 2]           (99,520)\n",
       "│    │    └─_DenseLayer: 3-35            [256, 32, 2, 2]           (103,680)\n",
       "│    │    └─_DenseLayer: 3-36            [256, 32, 2, 2]           (107,840)\n",
       "│    │    └─_DenseLayer: 3-37            [256, 32, 2, 2]           (112,000)\n",
       "│    │    └─_DenseLayer: 3-38            [256, 32, 2, 2]           (116,160)\n",
       "│    │    └─_DenseLayer: 3-39            [256, 32, 2, 2]           (120,320)\n",
       "│    │    └─_DenseLayer: 3-40            [256, 32, 2, 2]           (124,480)\n",
       "│    │    └─_DenseLayer: 3-41            [256, 32, 2, 2]           (128,640)\n",
       "│    │    └─_DenseLayer: 3-42            [256, 32, 2, 2]           (132,800)\n",
       "│    │    └─_DenseLayer: 3-43            [256, 32, 2, 2]           (136,960)\n",
       "│    │    └─_DenseLayer: 3-44            [256, 32, 2, 2]           (141,120)\n",
       "│    │    └─_DenseLayer: 3-45            [256, 32, 2, 2]           (145,280)\n",
       "│    │    └─_DenseLayer: 3-46            [256, 32, 2, 2]           (149,440)\n",
       "│    │    └─_DenseLayer: 3-47            [256, 32, 2, 2]           (153,600)\n",
       "│    │    └─_DenseLayer: 3-48            [256, 32, 2, 2]           (157,760)\n",
       "│    │    └─_DenseLayer: 3-49            [256, 32, 2, 2]           (161,920)\n",
       "│    │    └─_DenseLayer: 3-50            [256, 32, 2, 2]           (166,080)\n",
       "│    └─_Transition: 2-10                 [256, 512, 1, 1]          --\n",
       "│    │    └─BatchNorm2d: 3-51            [256, 1024, 2, 2]         (2,048)\n",
       "│    │    └─ReLU: 3-52                   [256, 1024, 2, 2]         --\n",
       "│    │    └─Conv2d: 3-53                 [256, 512, 2, 2]          (524,288)\n",
       "│    │    └─AvgPool2d: 3-54              [256, 512, 1, 1]          --\n",
       "│    └─_DenseBlock: 2-11                 [256, 1024, 1, 1]         --\n",
       "│    │    └─_DenseLayer: 3-55            [256, 32, 1, 1]           (103,680)\n",
       "│    │    └─_DenseLayer: 3-56            [256, 32, 1, 1]           (107,840)\n",
       "│    │    └─_DenseLayer: 3-57            [256, 32, 1, 1]           (112,000)\n",
       "│    │    └─_DenseLayer: 3-58            [256, 32, 1, 1]           (116,160)\n",
       "│    │    └─_DenseLayer: 3-59            [256, 32, 1, 1]           (120,320)\n",
       "│    │    └─_DenseLayer: 3-60            [256, 32, 1, 1]           (124,480)\n",
       "│    │    └─_DenseLayer: 3-61            [256, 32, 1, 1]           (128,640)\n",
       "│    │    └─_DenseLayer: 3-62            [256, 32, 1, 1]           (132,800)\n",
       "│    │    └─_DenseLayer: 3-63            [256, 32, 1, 1]           (136,960)\n",
       "│    │    └─_DenseLayer: 3-64            [256, 32, 1, 1]           (141,120)\n",
       "│    │    └─_DenseLayer: 3-65            [256, 32, 1, 1]           (145,280)\n",
       "│    │    └─_DenseLayer: 3-66            [256, 32, 1, 1]           (149,440)\n",
       "│    │    └─_DenseLayer: 3-67            [256, 32, 1, 1]           (153,600)\n",
       "│    │    └─_DenseLayer: 3-68            [256, 32, 1, 1]           (157,760)\n",
       "│    │    └─_DenseLayer: 3-69            [256, 32, 1, 1]           (161,920)\n",
       "│    │    └─_DenseLayer: 3-70            [256, 32, 1, 1]           (166,080)\n",
       "│    └─BatchNorm2d: 2-12                 [256, 1024, 1, 1]         (2,048)\n",
       "├─Linear: 1-2                            [256, 10]                 10,250\n",
       "==========================================================================================\n",
       "Total params: 6,964,106\n",
       "Trainable params: 10,250\n",
       "Non-trainable params: 6,953,856\n",
       "Total mult-adds (Units.GIGABYTES): 14.83\n",
       "==========================================================================================\n",
       "Input size (MB): 3.15\n",
       "Forward/backward pass size (MB): 943.21\n",
       "Params size (MB): 27.86\n",
       "Estimated Total Size (MB): 974.22\n",
       "=========================================================================================="
      ]
     },
     "execution_count": 12,
     "metadata": {},
     "output_type": "execute_result"
    }
   ],
   "source": [
    "# Cargamos el modelo con los pesos preentrenados en ImageNet\n",
    "weights = DenseNet121_Weights.IMAGENET1K_V1\n",
    "densenet_model = densenet121(weights=weights)\n",
    "\n",
    "# cambiamos la última capa para que se ajuste a nuestro problema\n",
    "densenet_model.classifier = nn.Linear(densenet_model.classifier.in_features, NUM_CLASES)\n",
    "\n",
    "# congelamos los pesos de las capas convolucionales\n",
    "for param in densenet_model.parameters():\n",
    "    param.requires_grad = False\n",
    "\n",
    "# des-congelamos los pesos de la última capa\n",
    "for param in densenet_model.classifier.parameters():\n",
    "    param.requires_grad = True\n",
    "\n",
    "summary(densenet_model, input_size=(BATCH_SIZE, 3, 32, 32))"
   ]
  },
  {
   "cell_type": "code",
   "execution_count": 13,
   "metadata": {},
   "outputs": [
    {
     "name": "stdout",
     "output_type": "stream",
     "text": [
      "Epoch: 001 | Train Loss: 1.47532 | Val Loss: 1.12221\n",
      "Epoch: 002 | Train Loss: 1.04267 | Val Loss: 0.98153\n",
      "Epoch: 003 | Train Loss: 0.94863 | Val Loss: 0.92814\n",
      "Epoch: 004 | Train Loss: 0.90120 | Val Loss: 0.89940\n",
      "Epoch: 005 | Train Loss: 0.87332 | Val Loss: 0.88788\n",
      "Epoch: 006 | Train Loss: 0.85028 | Val Loss: 0.87270\n",
      "Epoch: 007 | Train Loss: 0.83659 | Val Loss: 0.87186\n",
      "Epoch: 008 | Train Loss: 0.82588 | Val Loss: 0.85520\n",
      "Epoch: 009 | Train Loss: 0.81654 | Val Loss: 0.86143\n",
      "Epoch: 010 | Train Loss: 0.80817 | Val Loss: 0.85525\n"
     ]
    },
    {
     "data": {
      "image/png": "[encoded data removed]",
      "text/plain": [
       "<Figure size 1000x500 with 1 Axes>"
      ]
     },
     "metadata": {},
     "output_type": "display_data"
    }
   ],
   "source": [
    "optimizer = optim.Adam(densenet_model.parameters(), lr=LR)\n",
    "\n",
    "train_errors, val_errors = train(\n",
    "    model=densenet_model,\n",
    "    optimizer=optimizer,\n",
    "    criterion=CRITERION,\n",
    "    train_loader=train_loader,\n",
    "    val_loader=val_loader,\n",
    "    device=DEVICE,\n",
    "    do_early_stopping=False,\n",
    "    epochs=EPOCHS,\n",
    ")\n",
    "\n",
    "plot_taining(train_errors, val_errors)"
   ]
  },
  {
   "cell_type": "code",
   "execution_count": 14,
   "metadata": {},
   "outputs": [
    {
     "name": "stdout",
     "output_type": "stream",
     "text": [
      "Accuracy: 0.7028\n",
      "\n",
      "Reporte de clasificación:\n",
      "               precision    recall  f1-score   support\n",
      "\n",
      "           0       0.73      0.80      0.76      1000\n",
      "           1       0.82      0.79      0.81      1000\n",
      "           2       0.67      0.57      0.62      1000\n",
      "           3       0.54      0.60      0.57      1000\n",
      "           4       0.62      0.63      0.62      1000\n",
      "           5       0.72      0.58      0.64      1000\n",
      "           6       0.69      0.77      0.73      1000\n",
      "           7       0.70      0.74      0.72      1000\n",
      "           8       0.78      0.78      0.78      1000\n",
      "           9       0.78      0.77      0.77      1000\n",
      "\n",
      "    accuracy                           0.70     10000\n",
      "   macro avg       0.71      0.70      0.70     10000\n",
      "weighted avg       0.71      0.70      0.70     10000\n",
      "\n"
     ]
    }
   ],
   "source": [
    "model_calassification_report(densenet_model, test_loader, DEVICE, NUM_CLASES)"
   ]
  }
 ],
 "metadata": {
  "kernelspec": {
   "display_name": "taller-dl",
   "language": "python",
   "name": "python3"
  },
  "language_info": {
   "codemirror_mode": {
    "name": "ipython",
    "version": 3
   },
   "file_extension": ".py",
   "mimetype": "text/x-python",
   "name": "python",
   "nbconvert_exporter": "python",
   "pygments_lexer": "ipython3",
   "version": "3.11.9"
  }
 },
 "nbformat": 4,
 "nbformat_minor": 2
}
